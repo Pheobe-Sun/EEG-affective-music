{
 "cells": [
  {
   "cell_type": "code",
   "execution_count": 35,
   "metadata": {},
   "outputs": [],
   "source": [
    "import torch\n",
    "import matplotlib.pyplot as plt\n",
    "import numpy as np\n",
    "import scipy\n",
    "import mne\n",
    "import os\n",
    "import pandas as pd\n",
    "\n",
    "import tqdm\n",
    "import IPython\n",
    "import torchvision\n",
    "\n",
    "import torch.nn as nn\n",
    "import torch.nn.functional as F\n",
    "\n",
    "from torchvision import transforms\n",
    "from torchvision.models import AlexNet\n",
    "from torchvision.utils import make_grid\n",
    "from torchvision.datasets import ImageFolder\n",
    "\n",
    "from PIL import Image\n",
    "from io import BytesIO\n",
    "from torch.utils.data import DataLoader\n",
    "from torch.utils.data import Dataset\n",
    "from torch.utils.data import TensorDataset\n",
    "import pickle\n",
    "import random\n",
    "from tqdm import tqdm"
   ]
  },
  {
   "cell_type": "code",
   "execution_count": 36,
   "metadata": {},
   "outputs": [],
   "source": [
    "def read_file(filename):\n",
    "    with open(filename, 'rb') as handle:\n",
    "        data = pickle.load(handle)\n",
    "    return data"
   ]
  },
  {
   "cell_type": "code",
   "execution_count": 39,
   "metadata": {},
   "outputs": [],
   "source": [
    "annotations = pd.read_csv('./annotations.csv', names=['filename', 'class'])\n",
    "files = list(annotations['filename'])"
   ]
  },
  {
   "cell_type": "code",
   "execution_count": 40,
   "metadata": {},
   "outputs": [],
   "source": [
    "#creating datasets from numpy arrays.\n",
    "annotations = pd.read_csv('./annotations.csv', names=['filename', 'class'])\n",
    "files = list(annotations['filename'])\n",
    "\n",
    "y_full_np = np.array(list(annotations['class']))\n",
    "partitions = np.array(read_file(files[0])).shape[1]\n",
    "aux_list = []\n",
    "for entry in y_full_np:\n",
    "    entry_class = [entry for i in range(partitions)]\n",
    "    aux_list.extend(entry_class)\n",
    "y_full_np = np.array(aux_list)\n",
    "\n",
    "x_full_pad = []\n",
    "for file in files:\n",
    "    x_full_pad.append(np.swapaxes(np.array(read_file(file)),0,1))\n",
    "x_full_pad = np.concatenate(x_full_pad, axis=0)"
   ]
  },
  {
   "cell_type": "code",
   "execution_count": 41,
   "metadata": {},
   "outputs": [],
   "source": [
    "indexes = [i for i in range(len(x_full_pad))]\n",
    "train_len = 3*len(indexes)//4\n",
    "val_len = len(indexes) - train_len\n",
    "train_indexes = random.sample(indexes,train_len)\n",
    "val_indexes = list(set(indexes).difference(set(train_indexes)))"
   ]
  },
  {
   "cell_type": "code",
   "execution_count": 44,
   "metadata": {},
   "outputs": [],
   "source": [
    "x_train_pad = []\n",
    "y_train_np = []\n",
    "for index in train_indexes:\n",
    "    x_train_pad.append(x_full_pad[index])\n",
    "    y_train_np.append(y_full_np[index])\n",
    "x_train_pad = np.array(x_train_pad)\n",
    "y_train_np = np.array(y_train_np)\n",
    "    \n",
    "x_val_pad = []\n",
    "y_val_np = []\n",
    "for index in val_indexes:\n",
    "    x_val_pad.append(x_full_pad[index])\n",
    "    y_val_np.append(y_full_np[index])\n",
    "x_val_pad = np.array(x_val_pad)\n",
    "y_val_np = np.array(y_val_np)\n",
    "    \n",
    "# create Tensor datasets\n",
    "train_data = TensorDataset(torch.from_numpy(x_train_pad.astype(np.float32)), torch.from_numpy(y_train_np.astype(np.int64)))\n",
    "valid_data = TensorDataset(torch.from_numpy(x_val_pad.astype(np.float32)), torch.from_numpy(y_val_np.astype(np.int64)))"
   ]
  },
  {
   "cell_type": "code",
   "execution_count": 55,
   "metadata": {},
   "outputs": [],
   "source": [
    "train_dataloader = DataLoader(train_data, batch_size=100, shuffle=True)\n",
    "test_dataloader = DataLoader(valid_data, batch_size=100, shuffle=True)"
   ]
  },
  {
   "cell_type": "code",
   "execution_count": 56,
   "metadata": {},
   "outputs": [
    {
     "name": "stdout",
     "output_type": "stream",
     "text": [
      "GPU is enabled in this notebook.\n"
     ]
    }
   ],
   "source": [
    "def set_device():\n",
    "    device = \"cuda\" if torch.cuda.is_available() else \"cpu\"\n",
    "    if device != \"cuda\":\n",
    "        print(\"WARNING: For this notebook to perform best, \"\n",
    "                \"if possible, in the menu under `Runtime` -> \"\n",
    "                \"`Change runtime type.`  select `GPU` \")\n",
    "    else:\n",
    "        print(\"GPU is enabled in this notebook.\")\n",
    "\n",
    "    return device\n",
    "\n",
    "DEVICE = set_device()"
   ]
  },
  {
   "cell_type": "code",
   "execution_count": 93,
   "metadata": {},
   "outputs": [],
   "source": [
    "def train(model, device, train_loader):\n",
    "    model.train()\n",
    "    criterion = nn.CrossEntropyLoss()\n",
    "    optimizer = torch.optim.Adam(model.parameters(),lr=0.001)\n",
    "    epochs = len(train_loader)\n",
    "    losses = []\n",
    "    for epoch in range(epochs):\n",
    "        with tqdm(train_loader, unit='batch') as tepoch:\n",
    "            for data, target in tepoch:\n",
    "                data, target = data.to(device), target.to(device)\n",
    "                optimizer.zero_grad()\n",
    "                output = model(data)\n",
    "                loss = criterion(output, target)\n",
    "                loss.backward()\n",
    "                optimizer.step()\n",
    "                tepoch.set_postfix(loss=loss.item())\n",
    "                losses.append(loss.item())\n",
    "                #time.sleep(0.1)\n",
    "    return losses\n",
    "\n",
    "def test(model, device, data_loader):\n",
    "    model.eval()\n",
    "    correct = 0\n",
    "    total = 0\n",
    "    for data in data_loader:\n",
    "        inputs, labels = data\n",
    "        inputs = inputs.to(device).float()\n",
    "        labels = labels.to(device).long()\n",
    "\n",
    "        outputs = model(inputs)\n",
    "        _, predicted = torch.max(outputs, 1)\n",
    "        total += labels.size(0)\n",
    "        correct += (predicted == labels).sum().item()\n",
    "\n",
    "    acc = 100 * correct / total\n",
    "    return acc"
   ]
  },
  {
   "cell_type": "code",
   "execution_count": 110,
   "metadata": {},
   "outputs": [
    {
     "name": "stderr",
     "output_type": "stream",
     "text": [
      "100%|███████████████████████████████████████████████████████████████████| 15/15 [00:00<00:00, 93.67batch/s, loss=0.674]\n",
      "  0%|                                                                            | 0/15 [00:00<?, ?batch/s, loss=0.669]"
     ]
    },
    {
     "name": "stdout",
     "output_type": "stream",
     "text": [
      "Total Parameters in Network    3977282\n"
     ]
    },
    {
     "name": "stderr",
     "output_type": "stream",
     "text": [
      "100%|███████████████████████████████████████████████████████████████████| 15/15 [00:00<00:00, 89.48batch/s, loss=0.751]\n",
      "100%|███████████████████████████████████████████████████████████████████| 15/15 [00:00<00:00, 94.13batch/s, loss=0.539]\n",
      "100%|███████████████████████████████████████████████████████████████████| 15/15 [00:00<00:00, 93.47batch/s, loss=0.545]\n",
      "100%|███████████████████████████████████████████████████████████████████| 15/15 [00:00<00:00, 93.71batch/s, loss=0.588]\n",
      "100%|███████████████████████████████████████████████████████████████████| 15/15 [00:00<00:00, 91.80batch/s, loss=0.551]\n",
      "100%|███████████████████████████████████████████████████████████████████| 15/15 [00:00<00:00, 86.50batch/s, loss=0.592]\n",
      "100%|███████████████████████████████████████████████████████████████████| 15/15 [00:00<00:00, 82.65batch/s, loss=0.634]\n",
      "100%|███████████████████████████████████████████████████████████████████| 15/15 [00:00<00:00, 74.21batch/s, loss=0.614]\n",
      "100%|███████████████████████████████████████████████████████████████████| 15/15 [00:00<00:00, 73.48batch/s, loss=0.553]\n",
      "100%|███████████████████████████████████████████████████████████████████| 15/15 [00:00<00:00, 75.25batch/s, loss=0.716]\n",
      "100%|███████████████████████████████████████████████████████████████████| 15/15 [00:00<00:00, 81.81batch/s, loss=0.486]\n",
      "100%|███████████████████████████████████████████████████████████████████| 15/15 [00:00<00:00, 85.71batch/s, loss=0.632]\n",
      "100%|███████████████████████████████████████████████████████████████████| 15/15 [00:00<00:00, 81.38batch/s, loss=0.549]\n",
      "100%|███████████████████████████████████████████████████████████████████| 15/15 [00:00<00:00, 80.73batch/s, loss=0.409]\n"
     ]
    }
   ],
   "source": [
    "class Test_Net(nn.Module):\n",
    "    def __init__(self):\n",
    "        super(Test_Net, self).__init__()\n",
    "        self.fc1 = nn.Linear(9*64, 2048)\n",
    "        self.fc2 = nn.Linear(2048, 1024)\n",
    "        self.fc3 = nn.Linear(1024, 512)\n",
    "        self.fc4 = nn.Linear(512, 256)\n",
    "        self.fc5 = nn.Linear(256, 128)\n",
    "        self.fc6 = nn.Linear(128, 64)\n",
    "        self.fc7 = nn.Linear(64, 2)\n",
    "\n",
    "    def forward(self, x):\n",
    "        x = x.view(-1, 9*64)\n",
    "        x = self.fc1(x)\n",
    "        x = F.relu(x)\n",
    "        x = self.fc2(x)\n",
    "        x = F.relu(x)\n",
    "        x = self.fc3(x)\n",
    "        x = F.relu(x)\n",
    "        x = self.fc4(x)\n",
    "        x = F.relu(x)\n",
    "        x = self.fc5(x)\n",
    "        x = F.relu(x)\n",
    "        x = self.fc6(x)\n",
    "        x = F.relu(x)\n",
    "        x = self.fc7(x)\n",
    "        #x = F.relu(x)\n",
    "        return x\n",
    "\n",
    "## Uncomment the lines below to train your network\n",
    "test_net = Test_Net().to(DEVICE)\n",
    "accuracy = []\n",
    "\n",
    "print(\"Total Parameters in Network {:10d}\".format(sum(p.numel() for p in test_net.parameters())))\n",
    "losses = train(test_net, DEVICE, train_dataloader)\n",
    "acc = test(test_net, DEVICE, test_dataloader)\n",
    "train_acc = test(test_net, DEVICE, train_dataloader)\n",
    "accuracy.append(acc)"
   ]
  },
  {
   "cell_type": "code",
   "execution_count": 111,
   "metadata": {},
   "outputs": [
    {
     "data": {
      "text/plain": [
       "73.3615221987315"
      ]
     },
     "execution_count": 111,
     "metadata": {},
     "output_type": "execute_result"
    }
   ],
   "source": [
    "acc"
   ]
  },
  {
   "cell_type": "code",
   "execution_count": 112,
   "metadata": {},
   "outputs": [
    {
     "data": {
      "text/plain": [
       "75.15878616796049"
      ]
     },
     "execution_count": 112,
     "metadata": {},
     "output_type": "execute_result"
    }
   ],
   "source": [
    "train_acc"
   ]
  },
  {
   "cell_type": "code",
   "execution_count": 113,
   "metadata": {},
   "outputs": [
    {
     "data": {
      "image/png": "[encoded data removed]",
      "text/plain": [
       "<Figure size 432x288 with 1 Axes>"
      ]
     },
     "metadata": {
      "needs_background": "light"
     },
     "output_type": "display_data"
    }
   ],
   "source": [
    "plt.xlabel('Epoch')\n",
    "plt.ylabel('Loss')\n",
    "plt.plot(losses)\n",
    "plt.show()"
   ]
  },
  {
   "cell_type": "code",
   "execution_count": 98,
   "metadata": {},
   "outputs": [
    {
     "data": {
      "text/plain": [
       "(1417, 576)"
      ]
     },
     "execution_count": 98,
     "metadata": {},
     "output_type": "execute_result"
    }
   ],
   "source": [
    "samples,no_chan,freqs = x_train_pad.shape\n",
    "x_new = x_train_pad.reshape((samples,no_chan*freqs))\n",
    "x_new.shape"
   ]
  },
  {
   "cell_type": "code",
   "execution_count": 99,
   "metadata": {},
   "outputs": [
    {
     "data": {
      "text/plain": [
       "(1417,)"
      ]
     },
     "execution_count": 99,
     "metadata": {},
     "output_type": "execute_result"
    }
   ],
   "source": [
    "y_train_np.shape"
   ]
  },
  {
   "cell_type": "code",
   "execution_count": 100,
   "metadata": {},
   "outputs": [
    {
     "data": {
      "text/plain": [
       "(473, 576)"
      ]
     },
     "execution_count": 100,
     "metadata": {},
     "output_type": "execute_result"
    }
   ],
   "source": [
    "samples,no_chan,freqs = x_val_pad.shape\n",
    "x_val_new = x_val_pad.reshape((samples,no_chan*freqs))\n",
    "x_val_new.shape"
   ]
  },
  {
   "cell_type": "code",
   "execution_count": 101,
   "metadata": {},
   "outputs": [
    {
     "data": {
      "text/plain": [
       "0.6880733944954128"
      ]
     },
     "execution_count": 101,
     "metadata": {},
     "output_type": "execute_result"
    }
   ],
   "source": [
    "from sklearn.linear_model import LogisticRegression\n",
    "clf = LogisticRegression(random_state=0).fit(x_new, y_train_np)\n",
    "clf.score(x_new, y_train_np)"
   ]
  },
  {
   "cell_type": "code",
   "execution_count": 102,
   "metadata": {},
   "outputs": [
    {
     "data": {
      "text/plain": [
       "0.6596194503171248"
      ]
     },
     "execution_count": 102,
     "metadata": {},
     "output_type": "execute_result"
    }
   ],
   "source": [
    "clf.score(x_val_new,y_val_np)"
   ]
  },
  {
   "cell_type": "code",
   "execution_count": 24,
   "metadata": {},
   "outputs": [],
   "source": [
    "class Test_Net(nn.Module):\n",
    "    def __init__(self):\n",
    "        super(Test_Net, self).__init__()\n",
    "        self.flatten = nn.Flatten()\n",
    "        self.linear_relu_stack = nn.Sequential(\n",
    "            nn.Linear(9*1919, 512),\n",
    "            nn.ReLU(),\n",
    "            nn.Linear(512, 512),\n",
    "            nn.ReLU(),\n",
    "            nn.Linear(512, 2),\n",
    "            nn.ReLU()\n",
    "        )\n",
    "\n",
    "    def forward(self, x):\n",
    "        x = self.flatten(x)\n",
    "        logits = self.linear_relu_stack(x)\n",
    "        return logits"
   ]
  },
  {
   "cell_type": "code",
   "execution_count": null,
   "metadata": {},
   "outputs": [],
   "source": []
  },
  {
   "cell_type": "code",
   "execution_count": null,
   "metadata": {},
   "outputs": [],
   "source": []
  },
  {
   "cell_type": "code",
   "execution_count": null,
   "metadata": {},
   "outputs": [],
   "source": [
    "alexnet = torchvision.models.alexnet(pretrained=True)\n",
    "num_ftrs = alexnet.fc.in_features\n",
    "alexnet.classifier[6] = nn.Linear(4096, 2)\n",
    "# reset final fully connected layer, number of classes = types of Pokemon = 9\n",
    "alexnet.fc = nn.Linear(num_ftrs, 2)\n",
    "alexnet.to(DEVICE)\n",
    "optimizer = torch.optim.Adam(alexnet.parameters(), lr=1e-4)\n",
    "loss_fn = nn.CrossEntropyLoss()"
   ]
  },
  {
   "cell_type": "code",
   "execution_count": null,
   "metadata": {},
   "outputs": [],
   "source": [
    "# @title Finetune ResNet\n",
    "\n",
    "pretrained_accs = []\n",
    "for epoch in tqdm.tqdm(range(10)):\n",
    "  # Train loop\n",
    "  for batch in train_dataloader:\n",
    "    images, labels = batch\n",
    "    images = images.to(DEVICE)\n",
    "    labels = labels.to(DEVICE)\n",
    "\n",
    "    optimizer.zero_grad()\n",
    "    output = alexnet(images)\n",
    "    loss = loss_fn(output, labels)\n",
    "    loss.backward()\n",
    "    optimizer.step()\n",
    "\n",
    "  # Eval loop\n",
    "  with torch.no_grad():\n",
    "    loss_sum = 0\n",
    "    total_correct = 0\n",
    "    total = len(y_val_np)\n",
    "    for batch in test_dataloader:\n",
    "      images, labels = batch\n",
    "      images = images.to(DEVICE)\n",
    "      labels = labels.to(DEVICE)\n",
    "      output = alexnet(images)\n",
    "      loss = loss_fn(output, labels)\n",
    "      loss_sum += loss.item()\n",
    "\n",
    "      predictions = torch.argmax(output, dim=1)\n",
    "\n",
    "      num_correct = torch.sum(predictions == labels)\n",
    "      total_correct += num_correct\n",
    "\n",
    "    # Plot accuracy\n",
    "    pretrained_accs.append(total_correct / total)\n",
    "    plt.plot(pretrained_accs)\n",
    "    plt.xlabel('epoch')\n",
    "    plt.ylabel('accuracy')\n",
    "    plt.title('Pokemon prediction accuracy')\n",
    "    IPython.display.clear_output(wait=True)\n",
    "    IPython.display.display(plt.gcf())\n",
    "  plt.close()"
   ]
  },
  {
   "cell_type": "code",
   "execution_count": null,
   "metadata": {},
   "outputs": [],
   "source": [
    "alexnet.eval()"
   ]
  },
  {
   "cell_type": "code",
   "execution_count": null,
   "metadata": {},
   "outputs": [],
   "source": []
  }
 ],
 "metadata": {
  "kernelspec": {
   "display_name": "Python 3",
   "language": "python",
   "name": "python3"
  },
  "language_info": {
   "codemirror_mode": {
    "name": "ipython",
    "version": 3
   },
   "file_extension": ".py",
   "mimetype": "text/x-python",
   "name": "python",
   "nbconvert_exporter": "python",
   "pygments_lexer": "ipython3",
   "version": "3.8.5"
  }
 },
 "nbformat": 4,
 "nbformat_minor": 4
}
