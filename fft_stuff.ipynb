{
 "cells": [
  {
   "cell_type": "code",
   "execution_count": 1,
   "metadata": {},
   "outputs": [],
   "source": [
    "import torch\n",
    "from torch import nn\n",
    "from torch.utils.data import DataLoader\n",
    "from torchvision import datasets\n",
    "from torchvision.transforms import ToTensor, Lambda, Compose\n",
    "import matplotlib.pyplot as plt\n",
    "import numpy as np\n",
    "import scipy\n",
    "import mne\n",
    "import matplotlib.pyplot as plt\n",
    "import os\n",
    "import pickle"
   ]
  },
  {
   "cell_type": "code",
   "execution_count": 2,
   "metadata": {},
   "outputs": [],
   "source": [
    "def eeg_data_extraction(data):\n",
    "    max_time_len = 20000\n",
    "    raw_data = data.get_data()\n",
    "    coi = ['Fp1','Fp2','F7','F8','Fz','C3','C4','F3','F4']\n",
    "\n",
    "    coi_indexes = []\n",
    "    for channel_name in coi:\n",
    "        index = data.ch_names.index(channel_name)\n",
    "        coi_indexes.append(index)\n",
    "    \n",
    "    ft_time_series = []\n",
    "    for channel in coi_indexes:\n",
    "        time_serie = raw_data[channel][:max_time_len]\n",
    "        fourier_transform = scipy.fft(time_serie)\n",
    "        ft_time_series.append(fourier_transform)\n",
    "    \n",
    "    frequencies = []\n",
    "    freq_spectra = []\n",
    "    for channel in range(len(ft_time_series)):\n",
    "        x_axis = np.arange(0,len(ft_time_series[channel]))\n",
    "        N = ft_time_series[channel].shape[0]\n",
    "        T = 1.0 / 1000.0\n",
    "        xf = scipy.fftpack.fftfreq(N, T)[:N//2]\n",
    "        lower_bound = xf>4\n",
    "        upper_bound = xf<100\n",
    "        bounds = lower_bound & upper_bound\n",
    "        non_zero_indices = np.where(bounds,ft_time_series[channel][:N//2],0).nonzero()\n",
    "        frequencies.append(xf[non_zero_indices])\n",
    "        freq_spectra.append(np.abs(ft_time_series[channel])[non_zero_indices])\n",
    "    return frequencies,freq_spectra"
   ]
  },
  {
   "cell_type": "code",
   "execution_count": 3,
   "metadata": {},
   "outputs": [],
   "source": [
    "def check(string, sub_str): \n",
    "    if (string.find(sub_str) == -1): \n",
    "        return(False) \n",
    "    else: \n",
    "        return(True)\n",
    "\n",
    "def list_files_with_string(files, string):\n",
    "    output_files = []\n",
    "    for file in files:\n",
    "        if check(file, string):\n",
    "            output_files.append(file)\n",
    "    return output_files"
   ]
  },
  {
   "cell_type": "code",
   "execution_count": 4,
   "metadata": {},
   "outputs": [],
   "source": [
    "folders = os.listdir()\n",
    "folders = list_files_with_string(folders, 'sub')\n",
    "file_paths=[]\n",
    "for folder in folders:\n",
    "    sub_path = './' + folder + '/eeg/'\n",
    "    files = os.listdir(sub_path)\n",
    "    edf_files = list_files_with_string(files, '.edf')\n",
    "    for file in edf_files:\n",
    "        file_paths.append(sub_path + file)"
   ]
  },
  {
   "cell_type": "code",
   "execution_count": 7,
   "metadata": {},
   "outputs": [],
   "source": [
    "dictionary_classification = {0: 'generated',1: 'classical'}\n",
    "generated_music_files1 = list_files_with_string(file_paths, 'genMusic01')\n",
    "generated_music_files2 = list_files_with_string(file_paths, 'genMusic02')\n",
    "generated_music_files = generated_music_files1\n",
    "generated_music_files.extend(generated_music_files2)\n",
    "classical_music_files = list_files_with_string(file_paths, 'classicalMusic')\n",
    "file_classifications = []\n",
    "for file in generated_music_files:\n",
    "    filename = './spec_files/' + file.split('/')[-1][:-4] + '.pck'\n",
    "    file_classifications.append([filename, 0])\n",
    "for file in classical_music_files:\n",
    "    filename = './spec_files/' + file.split('/')[-1][:-4] + '.pck'\n",
    "    file_classifications.append([filename, 1])"
   ]
  },
  {
   "cell_type": "code",
   "execution_count": 8,
   "metadata": {},
   "outputs": [
    {
     "data": {
      "text/plain": [
       "['./sub-01/eeg/sub-01_task-genMusic01_eeg.edf',\n",
       " './sub-02/eeg/sub-02_task-genMusic01_eeg.edf',\n",
       " './sub-03/eeg/sub-03_task-genMusic01_eeg.edf',\n",
       " './sub-04/eeg/sub-04_task-genMusic01_eeg.edf',\n",
       " './sub-05/eeg/sub-05_task-genMusic01_eeg.edf',\n",
       " './sub-06/eeg/sub-06_task-genMusic01_eeg.edf',\n",
       " './sub-07/eeg/sub-07_task-genMusic01_eeg.edf',\n",
       " './sub-08/eeg/sub-08_task-genMusic01_eeg.edf',\n",
       " './sub-09/eeg/sub-09_task-genMusic01_eeg.edf',\n",
       " './sub-10/eeg/sub-10_task-genMusic01_eeg.edf',\n",
       " './sub-11/eeg/sub-11_task-genMusic01_eeg.edf',\n",
       " './sub-12/eeg/sub-12_task-genMusic01_eeg.edf',\n",
       " './sub-13/eeg/sub-13_task-genMusic01_eeg.edf',\n",
       " './sub-14/eeg/sub-14_task-genMusic01_eeg.edf',\n",
       " './sub-15/eeg/sub-15_task-genMusic01_eeg.edf',\n",
       " './sub-16/eeg/sub-16_task-genMusic01_eeg.edf',\n",
       " './sub-17/eeg/sub-17_task-genMusic01_eeg.edf',\n",
       " './sub-18/eeg/sub-18_task-genMusic01_eeg.edf',\n",
       " './sub-19/eeg/sub-19_task-genMusic01_eeg.edf',\n",
       " './sub-20/eeg/sub-20_task-genMusic01_eeg.edf',\n",
       " './sub-21/eeg/sub-21_task-genMusic01_eeg.edf',\n",
       " './sub-01/eeg/sub-01_task-genMusic02_eeg.edf',\n",
       " './sub-02/eeg/sub-02_task-genMusic02_eeg.edf',\n",
       " './sub-03/eeg/sub-03_task-genMusic02_eeg.edf',\n",
       " './sub-04/eeg/sub-04_task-genMusic02_eeg.edf',\n",
       " './sub-05/eeg/sub-05_task-genMusic02_eeg.edf',\n",
       " './sub-06/eeg/sub-06_task-genMusic02_eeg.edf',\n",
       " './sub-07/eeg/sub-07_task-genMusic02_eeg.edf',\n",
       " './sub-08/eeg/sub-08_task-genMusic02_eeg.edf',\n",
       " './sub-09/eeg/sub-09_task-genMusic02_eeg.edf',\n",
       " './sub-10/eeg/sub-10_task-genMusic02_eeg.edf',\n",
       " './sub-11/eeg/sub-11_task-genMusic02_eeg.edf',\n",
       " './sub-12/eeg/sub-12_task-genMusic02_eeg.edf',\n",
       " './sub-13/eeg/sub-13_task-genMusic02_eeg.edf',\n",
       " './sub-14/eeg/sub-14_task-genMusic02_eeg.edf',\n",
       " './sub-15/eeg/sub-15_task-genMusic02_eeg.edf',\n",
       " './sub-16/eeg/sub-16_task-genMusic02_eeg.edf',\n",
       " './sub-17/eeg/sub-17_task-genMusic02_eeg.edf',\n",
       " './sub-18/eeg/sub-18_task-genMusic02_eeg.edf',\n",
       " './sub-19/eeg/sub-19_task-genMusic02_eeg.edf',\n",
       " './sub-20/eeg/sub-20_task-genMusic02_eeg.edf',\n",
       " './sub-21/eeg/sub-21_task-genMusic02_eeg.edf']"
      ]
     },
     "execution_count": 8,
     "metadata": {},
     "output_type": "execute_result"
    }
   ],
   "source": [
    "generated_music_files"
   ]
  },
  {
   "cell_type": "code",
   "execution_count": 9,
   "metadata": {},
   "outputs": [],
   "source": [
    "import csv\n",
    "\n",
    "with open(\"annotations.csv\", \"w\") as f:\n",
    "    writer = csv.writer(f)\n",
    "    writer.writerows(file_classifications)"
   ]
  },
  {
   "cell_type": "code",
   "execution_count": 7,
   "metadata": {},
   "outputs": [
    {
     "name": "stdout",
     "output_type": "stream",
     "text": [
      "Extracting EDF parameters from C:\\Users\\usr1\\Documents\\NMA Project\\sub-01\\eeg\\sub-01_task-classicalMusic_eeg.edf...\n",
      "EDF file detected\n",
      "Setting channel info structure...\n",
      "Creating raw.info structure...\n"
     ]
    },
    {
     "name": "stderr",
     "output_type": "stream",
     "text": [
      "<ipython-input-7-f7b0623b84e2>:3: RuntimeWarning: Physical range is not defined in following channels:\n",
      "sams_valence, sams_arousal, sams_valencert, sams_arousalrt, nback_stimuli, nback_keypress\n",
      "  data = mne.io.read_raw_edf(file)\n"
     ]
    },
    {
     "name": "stdout",
     "output_type": "stream",
     "text": [
      "Extracting EDF parameters from C:\\Users\\usr1\\Documents\\NMA Project\\sub-01\\eeg\\sub-01_task-genMusic01_eeg.edf...\n",
      "EDF file detected\n",
      "Setting channel info structure...\n",
      "Creating raw.info structure...\n"
     ]
    },
    {
     "name": "stderr",
     "output_type": "stream",
     "text": [
      "<ipython-input-2-5665553f7c5d>:14: DeprecationWarning: Using scipy.fft as a function is deprecated and will be removed in SciPy 1.5.0, use scipy.fft.fft instead.\n",
      "  fourier_transform = scipy.fft(time_serie)\n",
      "<ipython-input-7-f7b0623b84e2>:3: RuntimeWarning: Physical range is not defined in following channels:\n",
      "sams_valence, sams_arousal, sams_valencert, sams_arousalrt, nback_stimuli, nback_keypress\n",
      "  data = mne.io.read_raw_edf(file)\n"
     ]
    },
    {
     "name": "stdout",
     "output_type": "stream",
     "text": [
      "Extracting EDF parameters from C:\\Users\\usr1\\Documents\\NMA Project\\sub-01\\eeg\\sub-01_task-genMusic02_eeg.edf...\n",
      "EDF file detected\n",
      "Setting channel info structure...\n",
      "Creating raw.info structure...\n"
     ]
    },
    {
     "name": "stderr",
     "output_type": "stream",
     "text": [
      "<ipython-input-7-f7b0623b84e2>:3: RuntimeWarning: Physical range is not defined in following channels:\n",
      "sams_valence, sams_arousal, sams_valencert, sams_arousalrt, nback_stimuli, nback_keypress\n",
      "  data = mne.io.read_raw_edf(file)\n"
     ]
    },
    {
     "name": "stdout",
     "output_type": "stream",
     "text": [
      "Extracting EDF parameters from C:\\Users\\usr1\\Documents\\NMA Project\\sub-01\\eeg\\sub-01_task-genMusic03_eeg.edf...\n",
      "EDF file detected\n",
      "Setting channel info structure...\n",
      "Creating raw.info structure...\n"
     ]
    },
    {
     "name": "stderr",
     "output_type": "stream",
     "text": [
      "<ipython-input-7-f7b0623b84e2>:3: RuntimeWarning: Physical range is not defined in following channels:\n",
      "sams_valence, sams_arousal, sams_valencert, sams_arousalrt, nback_stimuli, nback_keypress\n",
      "  data = mne.io.read_raw_edf(file)\n"
     ]
    },
    {
     "name": "stdout",
     "output_type": "stream",
     "text": [
      "Extracting EDF parameters from C:\\Users\\usr1\\Documents\\NMA Project\\sub-01\\eeg\\sub-01_task-washout_eeg.edf...\n",
      "EDF file detected\n",
      "Setting channel info structure...\n",
      "Creating raw.info structure...\n",
      "Extracting EDF parameters from C:\\Users\\usr1\\Documents\\NMA Project\\sub-02\\eeg\\sub-02_task-classicalMusic_eeg.edf...\n",
      "EDF file detected\n",
      "Setting channel info structure...\n",
      "Creating raw.info structure...\n"
     ]
    },
    {
     "name": "stderr",
     "output_type": "stream",
     "text": [
      "<ipython-input-7-f7b0623b84e2>:3: RuntimeWarning: Physical range is not defined in following channels:\n",
      "ft_valance, ft_arousal, ft_x, ft_y, ft_ghostvalence, ft_ghostarousal, music, trialtype, sams_valence, sams_arousal, sams_valencert, sams_arousalrt\n",
      "  data = mne.io.read_raw_edf(file)\n",
      "<ipython-input-7-f7b0623b84e2>:3: RuntimeWarning: Physical range is not defined in following channels:\n",
      "sams_valence, sams_arousal, sams_valencert, sams_arousalrt, nback_stimuli, nback_keypress\n",
      "  data = mne.io.read_raw_edf(file)\n"
     ]
    },
    {
     "name": "stdout",
     "output_type": "stream",
     "text": [
      "Extracting EDF parameters from C:\\Users\\usr1\\Documents\\NMA Project\\sub-02\\eeg\\sub-02_task-genMusic01_eeg.edf...\n",
      "EDF file detected\n",
      "Setting channel info structure...\n",
      "Creating raw.info structure...\n"
     ]
    },
    {
     "name": "stderr",
     "output_type": "stream",
     "text": [
      "<ipython-input-7-f7b0623b84e2>:3: RuntimeWarning: Physical range is not defined in following channels:\n",
      "sams_valence, sams_arousal, sams_valencert, sams_arousalrt, nback_stimuli, nback_keypress\n",
      "  data = mne.io.read_raw_edf(file)\n"
     ]
    },
    {
     "name": "stdout",
     "output_type": "stream",
     "text": [
      "Extracting EDF parameters from C:\\Users\\usr1\\Documents\\NMA Project\\sub-02\\eeg\\sub-02_task-genMusic02_eeg.edf...\n",
      "EDF file detected\n",
      "Setting channel info structure...\n",
      "Creating raw.info structure...\n"
     ]
    },
    {
     "name": "stderr",
     "output_type": "stream",
     "text": [
      "<ipython-input-7-f7b0623b84e2>:3: RuntimeWarning: Physical range is not defined in following channels:\n",
      "sams_valence, sams_arousal, sams_valencert, sams_arousalrt, nback_stimuli, nback_keypress\n",
      "  data = mne.io.read_raw_edf(file)\n"
     ]
    },
    {
     "name": "stdout",
     "output_type": "stream",
     "text": [
      "Extracting EDF parameters from C:\\Users\\usr1\\Documents\\NMA Project\\sub-02\\eeg\\sub-02_task-genMusic03_eeg.edf...\n",
      "EDF file detected\n",
      "Setting channel info structure...\n",
      "Creating raw.info structure...\n"
     ]
    },
    {
     "name": "stderr",
     "output_type": "stream",
     "text": [
      "<ipython-input-7-f7b0623b84e2>:3: RuntimeWarning: Physical range is not defined in following channels:\n",
      "sams_valence, sams_arousal, sams_valencert, sams_arousalrt, nback_stimuli, nback_keypress\n",
      "  data = mne.io.read_raw_edf(file)\n"
     ]
    },
    {
     "name": "stdout",
     "output_type": "stream",
     "text": [
      "Extracting EDF parameters from C:\\Users\\usr1\\Documents\\NMA Project\\sub-02\\eeg\\sub-02_task-washout_eeg.edf...\n",
      "EDF file detected\n",
      "Setting channel info structure...\n",
      "Creating raw.info structure...\n",
      "Extracting EDF parameters from C:\\Users\\usr1\\Documents\\NMA Project\\sub-03\\eeg\\sub-03_task-classicalMusic_eeg.edf...\n",
      "EDF file detected\n",
      "Setting channel info structure...\n",
      "Creating raw.info structure...\n"
     ]
    },
    {
     "name": "stderr",
     "output_type": "stream",
     "text": [
      "<ipython-input-7-f7b0623b84e2>:3: RuntimeWarning: Physical range is not defined in following channels:\n",
      "ft_valance, ft_arousal, ft_x, ft_y, ft_ghostvalence, ft_ghostarousal, music, trialtype, sams_valence, sams_arousal, sams_valencert, sams_arousalrt\n",
      "  data = mne.io.read_raw_edf(file)\n",
      "<ipython-input-7-f7b0623b84e2>:3: RuntimeWarning: Physical range is not defined in following channels:\n",
      "sams_valence, sams_arousal, sams_valencert, sams_arousalrt, nback_stimuli, nback_keypress\n",
      "  data = mne.io.read_raw_edf(file)\n"
     ]
    },
    {
     "name": "stdout",
     "output_type": "stream",
     "text": [
      "Extracting EDF parameters from C:\\Users\\usr1\\Documents\\NMA Project\\sub-03\\eeg\\sub-03_task-genMusic01_eeg.edf...\n",
      "EDF file detected\n",
      "Setting channel info structure...\n",
      "Creating raw.info structure...\n"
     ]
    },
    {
     "name": "stderr",
     "output_type": "stream",
     "text": [
      "<ipython-input-7-f7b0623b84e2>:3: RuntimeWarning: Physical range is not defined in following channels:\n",
      "ft_ghostvalence, ft_ghostarousal, sams_valence, sams_arousal, sams_valencert, sams_arousalrt, nback_stimuli, nback_keypress\n",
      "  data = mne.io.read_raw_edf(file)\n"
     ]
    },
    {
     "name": "stdout",
     "output_type": "stream",
     "text": [
      "Extracting EDF parameters from C:\\Users\\usr1\\Documents\\NMA Project\\sub-03\\eeg\\sub-03_task-genMusic02_eeg.edf...\n",
      "EDF file detected\n",
      "Setting channel info structure...\n",
      "Creating raw.info structure...\n"
     ]
    },
    {
     "name": "stderr",
     "output_type": "stream",
     "text": [
      "<ipython-input-7-f7b0623b84e2>:3: RuntimeWarning: Physical range is not defined in following channels:\n",
      "sams_valence, sams_arousal, sams_valencert, sams_arousalrt, nback_stimuli, nback_keypress\n",
      "  data = mne.io.read_raw_edf(file)\n"
     ]
    },
    {
     "name": "stdout",
     "output_type": "stream",
     "text": [
      "Extracting EDF parameters from C:\\Users\\usr1\\Documents\\NMA Project\\sub-03\\eeg\\sub-03_task-genMusic03_eeg.edf...\n",
      "EDF file detected\n",
      "Setting channel info structure...\n",
      "Creating raw.info structure...\n"
     ]
    },
    {
     "name": "stderr",
     "output_type": "stream",
     "text": [
      "<ipython-input-7-f7b0623b84e2>:3: RuntimeWarning: Physical range is not defined in following channels:\n",
      "sams_valence, sams_arousal, sams_valencert, sams_arousalrt, nback_stimuli, nback_keypress\n",
      "  data = mne.io.read_raw_edf(file)\n"
     ]
    },
    {
     "name": "stdout",
     "output_type": "stream",
     "text": [
      "Extracting EDF parameters from C:\\Users\\usr1\\Documents\\NMA Project\\sub-03\\eeg\\sub-03_task-washout_eeg.edf...\n",
      "EDF file detected\n",
      "Setting channel info structure...\n",
      "Creating raw.info structure...\n",
      "Extracting EDF parameters from C:\\Users\\usr1\\Documents\\NMA Project\\sub-04\\eeg\\sub-04_task-classicalMusic_eeg.edf...\n",
      "EDF file detected\n",
      "Setting channel info structure...\n",
      "Creating raw.info structure...\n"
     ]
    },
    {
     "name": "stderr",
     "output_type": "stream",
     "text": [
      "<ipython-input-7-f7b0623b84e2>:3: RuntimeWarning: Physical range is not defined in following channels:\n",
      "ft_valance, ft_arousal, ft_x, ft_y, ft_ghostvalence, ft_ghostarousal, music, trialtype, sams_valence, sams_arousal, sams_valencert, sams_arousalrt\n",
      "  data = mne.io.read_raw_edf(file)\n",
      "<ipython-input-7-f7b0623b84e2>:3: RuntimeWarning: Physical range is not defined in following channels:\n",
      "sams_valence, sams_arousal, sams_valencert, sams_arousalrt, nback_stimuli, nback_keypress\n",
      "  data = mne.io.read_raw_edf(file)\n"
     ]
    },
    {
     "name": "stdout",
     "output_type": "stream",
     "text": [
      "Extracting EDF parameters from C:\\Users\\usr1\\Documents\\NMA Project\\sub-04\\eeg\\sub-04_task-genMusic01_eeg.edf...\n",
      "EDF file detected\n",
      "Setting channel info structure...\n",
      "Creating raw.info structure...\n"
     ]
    },
    {
     "name": "stderr",
     "output_type": "stream",
     "text": [
      "<ipython-input-7-f7b0623b84e2>:3: RuntimeWarning: Physical range is not defined in following channels:\n",
      "sams_valence, sams_arousal, sams_valencert, sams_arousalrt, nback_stimuli, nback_keypress\n",
      "  data = mne.io.read_raw_edf(file)\n"
     ]
    },
    {
     "name": "stdout",
     "output_type": "stream",
     "text": [
      "Extracting EDF parameters from C:\\Users\\usr1\\Documents\\NMA Project\\sub-04\\eeg\\sub-04_task-genMusic02_eeg.edf...\n",
      "EDF file detected\n",
      "Setting channel info structure...\n",
      "Creating raw.info structure...\n"
     ]
    },
    {
     "name": "stderr",
     "output_type": "stream",
     "text": [
      "<ipython-input-7-f7b0623b84e2>:3: RuntimeWarning: Physical range is not defined in following channels:\n",
      "sams_valence, sams_arousal, sams_valencert, sams_arousalrt, nback_stimuli, nback_keypress\n",
      "  data = mne.io.read_raw_edf(file)\n"
     ]
    },
    {
     "name": "stdout",
     "output_type": "stream",
     "text": [
      "Extracting EDF parameters from C:\\Users\\usr1\\Documents\\NMA Project\\sub-04\\eeg\\sub-04_task-genMusic03_eeg.edf...\n",
      "EDF file detected\n",
      "Setting channel info structure...\n",
      "Creating raw.info structure...\n"
     ]
    },
    {
     "name": "stderr",
     "output_type": "stream",
     "text": [
      "<ipython-input-7-f7b0623b84e2>:3: RuntimeWarning: Physical range is not defined in following channels:\n",
      "sams_valence, sams_arousal, sams_valencert, sams_arousalrt, nback_stimuli, nback_keypress\n",
      "  data = mne.io.read_raw_edf(file)\n"
     ]
    },
    {
     "name": "stdout",
     "output_type": "stream",
     "text": [
      "Extracting EDF parameters from C:\\Users\\usr1\\Documents\\NMA Project\\sub-04\\eeg\\sub-04_task-washout_eeg.edf...\n",
      "EDF file detected\n",
      "Setting channel info structure...\n",
      "Creating raw.info structure...\n",
      "Extracting EDF parameters from C:\\Users\\usr1\\Documents\\NMA Project\\sub-05\\eeg\\sub-05_task-classicalMusic_eeg.edf...\n",
      "EDF file detected\n",
      "Setting channel info structure...\n",
      "Creating raw.info structure...\n"
     ]
    },
    {
     "name": "stderr",
     "output_type": "stream",
     "text": [
      "<ipython-input-7-f7b0623b84e2>:3: RuntimeWarning: Physical range is not defined in following channels:\n",
      "ft_valance, ft_arousal, ft_x, ft_y, ft_ghostvalence, ft_ghostarousal, music, trialtype, sams_valence, sams_arousal, sams_valencert, sams_arousalrt\n",
      "  data = mne.io.read_raw_edf(file)\n",
      "<ipython-input-7-f7b0623b84e2>:3: RuntimeWarning: Physical range is not defined in following channels:\n",
      "sams_valence, sams_arousal, sams_valencert, sams_arousalrt, nback_stimuli, nback_keypress\n",
      "  data = mne.io.read_raw_edf(file)\n"
     ]
    },
    {
     "name": "stdout",
     "output_type": "stream",
     "text": [
      "Extracting EDF parameters from C:\\Users\\usr1\\Documents\\NMA Project\\sub-05\\eeg\\sub-05_task-genMusic01_eeg.edf...\n",
      "EDF file detected\n",
      "Setting channel info structure...\n",
      "Creating raw.info structure...\n"
     ]
    },
    {
     "name": "stderr",
     "output_type": "stream",
     "text": [
      "<ipython-input-7-f7b0623b84e2>:3: RuntimeWarning: Physical range is not defined in following channels:\n",
      "sams_valence, sams_arousal, sams_valencert, sams_arousalrt, nback_stimuli, nback_keypress\n",
      "  data = mne.io.read_raw_edf(file)\n"
     ]
    },
    {
     "name": "stdout",
     "output_type": "stream",
     "text": [
      "Extracting EDF parameters from C:\\Users\\usr1\\Documents\\NMA Project\\sub-05\\eeg\\sub-05_task-genMusic02_eeg.edf...\n",
      "EDF file detected\n",
      "Setting channel info structure...\n",
      "Creating raw.info structure...\n"
     ]
    },
    {
     "name": "stderr",
     "output_type": "stream",
     "text": [
      "<ipython-input-7-f7b0623b84e2>:3: RuntimeWarning: Physical range is not defined in following channels:\n",
      "sams_valence, sams_arousal, sams_valencert, sams_arousalrt, nback_stimuli, nback_keypress\n",
      "  data = mne.io.read_raw_edf(file)\n"
     ]
    },
    {
     "name": "stdout",
     "output_type": "stream",
     "text": [
      "Extracting EDF parameters from C:\\Users\\usr1\\Documents\\NMA Project\\sub-05\\eeg\\sub-05_task-genMusic03_eeg.edf...\n",
      "EDF file detected\n",
      "Setting channel info structure...\n",
      "Creating raw.info structure...\n"
     ]
    },
    {
     "name": "stderr",
     "output_type": "stream",
     "text": [
      "<ipython-input-7-f7b0623b84e2>:3: RuntimeWarning: Physical range is not defined in following channels:\n",
      "sams_valence, sams_arousal, sams_valencert, sams_arousalrt, nback_stimuli, nback_keypress\n",
      "  data = mne.io.read_raw_edf(file)\n"
     ]
    },
    {
     "name": "stdout",
     "output_type": "stream",
     "text": [
      "Extracting EDF parameters from C:\\Users\\usr1\\Documents\\NMA Project\\sub-05\\eeg\\sub-05_task-washout_eeg.edf...\n",
      "EDF file detected\n",
      "Setting channel info structure...\n",
      "Creating raw.info structure...\n",
      "Extracting EDF parameters from C:\\Users\\usr1\\Documents\\NMA Project\\sub-06\\eeg\\sub-06_task-classicalMusic_eeg.edf...\n",
      "EDF file detected\n",
      "Setting channel info structure...\n",
      "Creating raw.info structure...\n"
     ]
    },
    {
     "name": "stderr",
     "output_type": "stream",
     "text": [
      "<ipython-input-7-f7b0623b84e2>:3: RuntimeWarning: Physical range is not defined in following channels:\n",
      "ft_valance, ft_arousal, ft_x, ft_y, ft_ghostvalence, ft_ghostarousal, music, trialtype, sams_valence, sams_arousal, sams_valencert, sams_arousalrt\n",
      "  data = mne.io.read_raw_edf(file)\n",
      "<ipython-input-7-f7b0623b84e2>:3: RuntimeWarning: Physical range is not defined in following channels:\n",
      "sams_valence, sams_arousal, sams_valencert, sams_arousalrt, nback_stimuli, nback_keypress\n",
      "  data = mne.io.read_raw_edf(file)\n"
     ]
    },
    {
     "name": "stdout",
     "output_type": "stream",
     "text": [
      "Extracting EDF parameters from C:\\Users\\usr1\\Documents\\NMA Project\\sub-06\\eeg\\sub-06_task-genMusic01_eeg.edf...\n",
      "EDF file detected\n",
      "Setting channel info structure...\n",
      "Creating raw.info structure...\n"
     ]
    },
    {
     "name": "stderr",
     "output_type": "stream",
     "text": [
      "<ipython-input-7-f7b0623b84e2>:3: RuntimeWarning: Physical range is not defined in following channels:\n",
      "sams_valence, sams_arousal, sams_valencert, sams_arousalrt, nback_stimuli, nback_keypress\n",
      "  data = mne.io.read_raw_edf(file)\n"
     ]
    },
    {
     "name": "stdout",
     "output_type": "stream",
     "text": [
      "Extracting EDF parameters from C:\\Users\\usr1\\Documents\\NMA Project\\sub-06\\eeg\\sub-06_task-genMusic02_eeg.edf...\n",
      "EDF file detected\n",
      "Setting channel info structure...\n",
      "Creating raw.info structure...\n"
     ]
    },
    {
     "name": "stderr",
     "output_type": "stream",
     "text": [
      "<ipython-input-7-f7b0623b84e2>:3: RuntimeWarning: Physical range is not defined in following channels:\n",
      "sams_valence, sams_arousal, sams_valencert, sams_arousalrt, nback_stimuli, nback_keypress\n",
      "  data = mne.io.read_raw_edf(file)\n"
     ]
    },
    {
     "name": "stdout",
     "output_type": "stream",
     "text": [
      "Extracting EDF parameters from C:\\Users\\usr1\\Documents\\NMA Project\\sub-06\\eeg\\sub-06_task-genMusic03_eeg.edf...\n",
      "EDF file detected\n",
      "Setting channel info structure...\n",
      "Creating raw.info structure...\n"
     ]
    },
    {
     "name": "stderr",
     "output_type": "stream",
     "text": [
      "<ipython-input-7-f7b0623b84e2>:3: RuntimeWarning: Physical range is not defined in following channels:\n",
      "sams_valence, sams_arousal, sams_valencert, sams_arousalrt, nback_stimuli, nback_keypress\n",
      "  data = mne.io.read_raw_edf(file)\n"
     ]
    },
    {
     "name": "stdout",
     "output_type": "stream",
     "text": [
      "Extracting EDF parameters from C:\\Users\\usr1\\Documents\\NMA Project\\sub-06\\eeg\\sub-06_task-washout_eeg.edf...\n",
      "EDF file detected\n",
      "Setting channel info structure...\n",
      "Creating raw.info structure...\n",
      "Extracting EDF parameters from C:\\Users\\usr1\\Documents\\NMA Project\\sub-07\\eeg\\sub-07_task-classicalMusic_eeg.edf...\n",
      "EDF file detected\n",
      "Setting channel info structure...\n",
      "Creating raw.info structure...\n"
     ]
    },
    {
     "name": "stderr",
     "output_type": "stream",
     "text": [
      "<ipython-input-7-f7b0623b84e2>:3: RuntimeWarning: Physical range is not defined in following channels:\n",
      "ft_valance, ft_arousal, ft_x, ft_y, ft_ghostvalence, ft_ghostarousal, music, trialtype, sams_valence, sams_arousal, sams_valencert, sams_arousalrt\n",
      "  data = mne.io.read_raw_edf(file)\n",
      "<ipython-input-7-f7b0623b84e2>:3: RuntimeWarning: Physical range is not defined in following channels:\n",
      "sams_valence, sams_arousal, sams_valencert, sams_arousalrt, nback_stimuli, nback_keypress\n",
      "  data = mne.io.read_raw_edf(file)\n"
     ]
    },
    {
     "name": "stdout",
     "output_type": "stream",
     "text": [
      "Extracting EDF parameters from C:\\Users\\usr1\\Documents\\NMA Project\\sub-07\\eeg\\sub-07_task-genMusic01_eeg.edf...\n",
      "EDF file detected\n",
      "Setting channel info structure...\n",
      "Creating raw.info structure...\n"
     ]
    },
    {
     "name": "stderr",
     "output_type": "stream",
     "text": [
      "<ipython-input-7-f7b0623b84e2>:3: RuntimeWarning: Physical range is not defined in following channels:\n",
      "ft_ghostvalence, ft_ghostarousal, sams_valence, sams_arousal, sams_valencert, sams_arousalrt, nback_stimuli, nback_keypress\n",
      "  data = mne.io.read_raw_edf(file)\n"
     ]
    },
    {
     "name": "stdout",
     "output_type": "stream",
     "text": [
      "Extracting EDF parameters from C:\\Users\\usr1\\Documents\\NMA Project\\sub-07\\eeg\\sub-07_task-genMusic02_eeg.edf...\n",
      "EDF file detected\n",
      "Setting channel info structure...\n",
      "Creating raw.info structure...\n"
     ]
    },
    {
     "name": "stderr",
     "output_type": "stream",
     "text": [
      "<ipython-input-7-f7b0623b84e2>:3: RuntimeWarning: Physical range is not defined in following channels:\n",
      "sams_valence, sams_arousal, sams_valencert, sams_arousalrt, nback_stimuli, nback_keypress\n",
      "  data = mne.io.read_raw_edf(file)\n"
     ]
    },
    {
     "name": "stdout",
     "output_type": "stream",
     "text": [
      "Extracting EDF parameters from C:\\Users\\usr1\\Documents\\NMA Project\\sub-07\\eeg\\sub-07_task-genMusic03_eeg.edf...\n",
      "EDF file detected\n",
      "Setting channel info structure...\n",
      "Creating raw.info structure...\n"
     ]
    },
    {
     "name": "stderr",
     "output_type": "stream",
     "text": [
      "<ipython-input-7-f7b0623b84e2>:3: RuntimeWarning: Physical range is not defined in following channels:\n",
      "sams_valence, sams_arousal, sams_valencert, sams_arousalrt, nback_stimuli, nback_keypress\n",
      "  data = mne.io.read_raw_edf(file)\n"
     ]
    },
    {
     "name": "stdout",
     "output_type": "stream",
     "text": [
      "Extracting EDF parameters from C:\\Users\\usr1\\Documents\\NMA Project\\sub-07\\eeg\\sub-07_task-washout_eeg.edf...\n",
      "EDF file detected\n",
      "Setting channel info structure...\n",
      "Creating raw.info structure...\n",
      "Extracting EDF parameters from C:\\Users\\usr1\\Documents\\NMA Project\\sub-08\\eeg\\sub-08_task-classicalMusic_eeg.edf...\n",
      "EDF file detected\n",
      "Setting channel info structure...\n",
      "Creating raw.info structure...\n"
     ]
    },
    {
     "name": "stderr",
     "output_type": "stream",
     "text": [
      "<ipython-input-7-f7b0623b84e2>:3: RuntimeWarning: Physical range is not defined in following channels:\n",
      "ft_valance, ft_arousal, ft_x, ft_y, ft_ghostvalence, ft_ghostarousal, music, trialtype, sams_valence, sams_arousal, sams_valencert, sams_arousalrt\n",
      "  data = mne.io.read_raw_edf(file)\n",
      "<ipython-input-7-f7b0623b84e2>:3: RuntimeWarning: Physical range is not defined in following channels:\n",
      "sams_valence, sams_arousal, sams_valencert, sams_arousalrt, nback_stimuli, nback_keypress\n",
      "  data = mne.io.read_raw_edf(file)\n"
     ]
    },
    {
     "name": "stdout",
     "output_type": "stream",
     "text": [
      "Extracting EDF parameters from C:\\Users\\usr1\\Documents\\NMA Project\\sub-08\\eeg\\sub-08_task-genMusic01_eeg.edf...\n",
      "EDF file detected\n",
      "Setting channel info structure...\n",
      "Creating raw.info structure...\n"
     ]
    },
    {
     "name": "stderr",
     "output_type": "stream",
     "text": [
      "<ipython-input-7-f7b0623b84e2>:3: RuntimeWarning: Physical range is not defined in following channels:\n",
      "sams_valence, sams_arousal, sams_valencert, sams_arousalrt, nback_stimuli, nback_keypress\n",
      "  data = mne.io.read_raw_edf(file)\n"
     ]
    },
    {
     "name": "stdout",
     "output_type": "stream",
     "text": [
      "Extracting EDF parameters from C:\\Users\\usr1\\Documents\\NMA Project\\sub-08\\eeg\\sub-08_task-genMusic02_eeg.edf...\n",
      "EDF file detected\n",
      "Setting channel info structure...\n",
      "Creating raw.info structure...\n",
      "Extracting EDF parameters from C:\\Users\\usr1\\Documents\\NMA Project\\sub-08\\eeg\\sub-08_task-genMusic03_eeg.edf...\n"
     ]
    },
    {
     "name": "stderr",
     "output_type": "stream",
     "text": [
      "<ipython-input-7-f7b0623b84e2>:3: RuntimeWarning: Physical range is not defined in following channels:\n",
      "sams_valence, sams_arousal, sams_valencert, sams_arousalrt, nback_stimuli, nback_keypress\n",
      "  data = mne.io.read_raw_edf(file)\n"
     ]
    },
    {
     "name": "stdout",
     "output_type": "stream",
     "text": [
      "EDF file detected\n",
      "Setting channel info structure...\n",
      "Creating raw.info structure...\n"
     ]
    },
    {
     "name": "stderr",
     "output_type": "stream",
     "text": [
      "<ipython-input-7-f7b0623b84e2>:3: RuntimeWarning: Physical range is not defined in following channels:\n",
      "sams_valence, sams_arousal, sams_valencert, sams_arousalrt, nback_stimuli, nback_keypress\n",
      "  data = mne.io.read_raw_edf(file)\n"
     ]
    },
    {
     "name": "stdout",
     "output_type": "stream",
     "text": [
      "Extracting EDF parameters from C:\\Users\\usr1\\Documents\\NMA Project\\sub-08\\eeg\\sub-08_task-washout_eeg.edf...\n",
      "EDF file detected\n",
      "Setting channel info structure...\n",
      "Creating raw.info structure...\n",
      "Extracting EDF parameters from C:\\Users\\usr1\\Documents\\NMA Project\\sub-09\\eeg\\sub-09_task-classicalMusic_eeg.edf...\n",
      "EDF file detected\n",
      "Setting channel info structure...\n",
      "Creating raw.info structure...\n"
     ]
    },
    {
     "name": "stderr",
     "output_type": "stream",
     "text": [
      "<ipython-input-7-f7b0623b84e2>:3: RuntimeWarning: Physical range is not defined in following channels:\n",
      "ft_valance, ft_arousal, ft_x, ft_y, ft_ghostvalence, ft_ghostarousal, music, trialtype, sams_valence, sams_arousal, sams_valencert, sams_arousalrt\n",
      "  data = mne.io.read_raw_edf(file)\n",
      "<ipython-input-7-f7b0623b84e2>:3: RuntimeWarning: Physical range is not defined in following channels:\n",
      "sams_valence, sams_arousal, sams_valencert, sams_arousalrt, nback_stimuli, nback_keypress\n",
      "  data = mne.io.read_raw_edf(file)\n"
     ]
    },
    {
     "name": "stdout",
     "output_type": "stream",
     "text": [
      "Extracting EDF parameters from C:\\Users\\usr1\\Documents\\NMA Project\\sub-09\\eeg\\sub-09_task-genMusic01_eeg.edf...\n",
      "EDF file detected\n",
      "Setting channel info structure...\n",
      "Creating raw.info structure...\n"
     ]
    },
    {
     "name": "stderr",
     "output_type": "stream",
     "text": [
      "<ipython-input-7-f7b0623b84e2>:3: RuntimeWarning: Physical range is not defined in following channels:\n",
      "sams_valence, sams_arousal, sams_valencert, sams_arousalrt, nback_stimuli, nback_keypress\n",
      "  data = mne.io.read_raw_edf(file)\n"
     ]
    },
    {
     "name": "stdout",
     "output_type": "stream",
     "text": [
      "Extracting EDF parameters from C:\\Users\\usr1\\Documents\\NMA Project\\sub-09\\eeg\\sub-09_task-genMusic02_eeg.edf...\n",
      "EDF file detected\n",
      "Setting channel info structure...\n",
      "Creating raw.info structure...\n"
     ]
    },
    {
     "name": "stderr",
     "output_type": "stream",
     "text": [
      "<ipython-input-7-f7b0623b84e2>:3: RuntimeWarning: Physical range is not defined in following channels:\n",
      "sams_valence, sams_arousal, sams_valencert, sams_arousalrt, nback_stimuli, nback_keypress\n",
      "  data = mne.io.read_raw_edf(file)\n"
     ]
    },
    {
     "name": "stdout",
     "output_type": "stream",
     "text": [
      "Extracting EDF parameters from C:\\Users\\usr1\\Documents\\NMA Project\\sub-09\\eeg\\sub-09_task-genMusic03_eeg.edf...\n",
      "EDF file detected\n",
      "Setting channel info structure...\n",
      "Creating raw.info structure...\n"
     ]
    },
    {
     "name": "stderr",
     "output_type": "stream",
     "text": [
      "<ipython-input-7-f7b0623b84e2>:3: RuntimeWarning: Physical range is not defined in following channels:\n",
      "sams_valence, sams_arousal, sams_valencert, sams_arousalrt, nback_stimuli, nback_keypress\n",
      "  data = mne.io.read_raw_edf(file)\n"
     ]
    },
    {
     "name": "stdout",
     "output_type": "stream",
     "text": [
      "Extracting EDF parameters from C:\\Users\\usr1\\Documents\\NMA Project\\sub-09\\eeg\\sub-09_task-washout_eeg.edf...\n",
      "EDF file detected\n",
      "Setting channel info structure...\n",
      "Creating raw.info structure...\n",
      "Extracting EDF parameters from C:\\Users\\usr1\\Documents\\NMA Project\\sub-10\\eeg\\sub-10_task-classicalMusic_eeg.edf...\n",
      "EDF file detected\n",
      "Setting channel info structure...\n",
      "Creating raw.info structure...\n"
     ]
    },
    {
     "name": "stderr",
     "output_type": "stream",
     "text": [
      "<ipython-input-7-f7b0623b84e2>:3: RuntimeWarning: Physical range is not defined in following channels:\n",
      "ft_valance, ft_arousal, ft_x, ft_y, ft_ghostvalence, ft_ghostarousal, music, trialtype, sams_valence, sams_arousal, sams_valencert, sams_arousalrt\n",
      "  data = mne.io.read_raw_edf(file)\n",
      "<ipython-input-7-f7b0623b84e2>:3: RuntimeWarning: Physical range is not defined in following channels:\n",
      "sams_valence, sams_arousal, sams_valencert, sams_arousalrt, nback_stimuli, nback_keypress\n",
      "  data = mne.io.read_raw_edf(file)\n"
     ]
    },
    {
     "name": "stdout",
     "output_type": "stream",
     "text": [
      "Extracting EDF parameters from C:\\Users\\usr1\\Documents\\NMA Project\\sub-10\\eeg\\sub-10_task-genMusic01_eeg.edf...\n",
      "EDF file detected\n",
      "Setting channel info structure...\n",
      "Creating raw.info structure...\n"
     ]
    },
    {
     "name": "stderr",
     "output_type": "stream",
     "text": [
      "<ipython-input-7-f7b0623b84e2>:3: RuntimeWarning: Physical range is not defined in following channels:\n",
      "sams_valence, sams_arousal, sams_valencert, sams_arousalrt, nback_stimuli, nback_keypress\n",
      "  data = mne.io.read_raw_edf(file)\n"
     ]
    },
    {
     "name": "stdout",
     "output_type": "stream",
     "text": [
      "Extracting EDF parameters from C:\\Users\\usr1\\Documents\\NMA Project\\sub-10\\eeg\\sub-10_task-genMusic02_eeg.edf...\n",
      "EDF file detected\n",
      "Setting channel info structure...\n",
      "Creating raw.info structure...\n"
     ]
    },
    {
     "name": "stderr",
     "output_type": "stream",
     "text": [
      "<ipython-input-7-f7b0623b84e2>:3: RuntimeWarning: Physical range is not defined in following channels:\n",
      "sams_valence, sams_arousal, sams_valencert, sams_arousalrt, nback_stimuli, nback_keypress\n",
      "  data = mne.io.read_raw_edf(file)\n"
     ]
    },
    {
     "name": "stdout",
     "output_type": "stream",
     "text": [
      "Extracting EDF parameters from C:\\Users\\usr1\\Documents\\NMA Project\\sub-10\\eeg\\sub-10_task-genMusic03_eeg.edf...\n",
      "EDF file detected\n",
      "Setting channel info structure...\n",
      "Creating raw.info structure...\n"
     ]
    },
    {
     "name": "stderr",
     "output_type": "stream",
     "text": [
      "<ipython-input-7-f7b0623b84e2>:3: RuntimeWarning: Physical range is not defined in following channels:\n",
      "sams_valence, sams_arousal, sams_valencert, sams_arousalrt, nback_stimuli, nback_keypress\n",
      "  data = mne.io.read_raw_edf(file)\n"
     ]
    },
    {
     "name": "stdout",
     "output_type": "stream",
     "text": [
      "Extracting EDF parameters from C:\\Users\\usr1\\Documents\\NMA Project\\sub-10\\eeg\\sub-10_task-washout_eeg.edf...\n",
      "EDF file detected\n",
      "Setting channel info structure...\n",
      "Creating raw.info structure...\n",
      "Extracting EDF parameters from C:\\Users\\usr1\\Documents\\NMA Project\\sub-11\\eeg\\sub-11_task-classicalMusic_eeg.edf...\n"
     ]
    },
    {
     "name": "stderr",
     "output_type": "stream",
     "text": [
      "<ipython-input-7-f7b0623b84e2>:3: RuntimeWarning: Physical range is not defined in following channels:\n",
      "ft_valance, ft_arousal, ft_x, ft_y, ft_ghostvalence, ft_ghostarousal, music, trialtype, sams_valence, sams_arousal, sams_valencert, sams_arousalrt\n",
      "  data = mne.io.read_raw_edf(file)\n"
     ]
    },
    {
     "name": "stdout",
     "output_type": "stream",
     "text": [
      "EDF file detected\n",
      "Setting channel info structure...\n",
      "Creating raw.info structure...\n"
     ]
    },
    {
     "name": "stderr",
     "output_type": "stream",
     "text": [
      "<ipython-input-7-f7b0623b84e2>:3: RuntimeWarning: Physical range is not defined in following channels:\n",
      "sams_valence, sams_arousal, sams_valencert, sams_arousalrt, nback_stimuli, nback_keypress\n",
      "  data = mne.io.read_raw_edf(file)\n"
     ]
    },
    {
     "name": "stdout",
     "output_type": "stream",
     "text": [
      "Extracting EDF parameters from C:\\Users\\usr1\\Documents\\NMA Project\\sub-11\\eeg\\sub-11_task-genMusic01_eeg.edf...\n",
      "EDF file detected\n",
      "Setting channel info structure...\n",
      "Creating raw.info structure...\n"
     ]
    },
    {
     "name": "stderr",
     "output_type": "stream",
     "text": [
      "<ipython-input-7-f7b0623b84e2>:3: RuntimeWarning: Physical range is not defined in following channels:\n",
      "sams_valence, sams_arousal, sams_valencert, sams_arousalrt, nback_stimuli, nback_keypress\n",
      "  data = mne.io.read_raw_edf(file)\n"
     ]
    },
    {
     "name": "stdout",
     "output_type": "stream",
     "text": [
      "Extracting EDF parameters from C:\\Users\\usr1\\Documents\\NMA Project\\sub-11\\eeg\\sub-11_task-genMusic02_eeg.edf...\n",
      "EDF file detected\n",
      "Setting channel info structure...\n",
      "Creating raw.info structure...\n"
     ]
    },
    {
     "name": "stderr",
     "output_type": "stream",
     "text": [
      "<ipython-input-7-f7b0623b84e2>:3: RuntimeWarning: Physical range is not defined in following channels:\n",
      "sams_valence, sams_arousal, sams_valencert, sams_arousalrt, nback_stimuli, nback_keypress\n",
      "  data = mne.io.read_raw_edf(file)\n"
     ]
    },
    {
     "name": "stdout",
     "output_type": "stream",
     "text": [
      "Extracting EDF parameters from C:\\Users\\usr1\\Documents\\NMA Project\\sub-11\\eeg\\sub-11_task-genMusic03_eeg.edf...\n",
      "EDF file detected\n",
      "Setting channel info structure...\n",
      "Creating raw.info structure...\n"
     ]
    },
    {
     "name": "stderr",
     "output_type": "stream",
     "text": [
      "<ipython-input-7-f7b0623b84e2>:3: RuntimeWarning: Physical range is not defined in following channels:\n",
      "sams_valence, sams_arousal, sams_valencert, sams_arousalrt, nback_stimuli, nback_keypress\n",
      "  data = mne.io.read_raw_edf(file)\n"
     ]
    },
    {
     "name": "stdout",
     "output_type": "stream",
     "text": [
      "Extracting EDF parameters from C:\\Users\\usr1\\Documents\\NMA Project\\sub-11\\eeg\\sub-11_task-washout_eeg.edf...\n",
      "EDF file detected\n",
      "Setting channel info structure...\n",
      "Creating raw.info structure...\n",
      "Extracting EDF parameters from C:\\Users\\usr1\\Documents\\NMA Project\\sub-12\\eeg\\sub-12_task-classicalMusic_eeg.edf...\n",
      "EDF file detected\n",
      "Setting channel info structure...\n",
      "Creating raw.info structure...\n"
     ]
    },
    {
     "name": "stderr",
     "output_type": "stream",
     "text": [
      "<ipython-input-7-f7b0623b84e2>:3: RuntimeWarning: Physical range is not defined in following channels:\n",
      "ft_valance, ft_arousal, ft_x, ft_y, ft_ghostvalence, ft_ghostarousal, music, trialtype, sams_valence, sams_arousal, sams_valencert, sams_arousalrt\n",
      "  data = mne.io.read_raw_edf(file)\n",
      "<ipython-input-7-f7b0623b84e2>:3: RuntimeWarning: Physical range is not defined in following channels:\n",
      "sams_valence, sams_arousal, sams_valencert, sams_arousalrt, nback_stimuli, nback_keypress\n",
      "  data = mne.io.read_raw_edf(file)\n"
     ]
    },
    {
     "name": "stdout",
     "output_type": "stream",
     "text": [
      "Extracting EDF parameters from C:\\Users\\usr1\\Documents\\NMA Project\\sub-12\\eeg\\sub-12_task-genMusic01_eeg.edf...\n",
      "EDF file detected\n",
      "Setting channel info structure...\n",
      "Creating raw.info structure...\n"
     ]
    },
    {
     "name": "stderr",
     "output_type": "stream",
     "text": [
      "<ipython-input-7-f7b0623b84e2>:3: RuntimeWarning: Physical range is not defined in following channels:\n",
      "sams_valence, sams_arousal, sams_valencert, sams_arousalrt, nback_stimuli, nback_keypress\n",
      "  data = mne.io.read_raw_edf(file)\n"
     ]
    },
    {
     "name": "stdout",
     "output_type": "stream",
     "text": [
      "Extracting EDF parameters from C:\\Users\\usr1\\Documents\\NMA Project\\sub-12\\eeg\\sub-12_task-genMusic02_eeg.edf...\n",
      "EDF file detected\n",
      "Setting channel info structure...\n",
      "Creating raw.info structure...\n"
     ]
    },
    {
     "name": "stderr",
     "output_type": "stream",
     "text": [
      "<ipython-input-7-f7b0623b84e2>:3: RuntimeWarning: Physical range is not defined in following channels:\n",
      "sams_valence, sams_arousal, sams_valencert, sams_arousalrt, nback_stimuli, nback_keypress\n",
      "  data = mne.io.read_raw_edf(file)\n"
     ]
    },
    {
     "name": "stdout",
     "output_type": "stream",
     "text": [
      "Extracting EDF parameters from C:\\Users\\usr1\\Documents\\NMA Project\\sub-12\\eeg\\sub-12_task-genMusic03_eeg.edf...\n",
      "EDF file detected\n",
      "Setting channel info structure...\n",
      "Creating raw.info structure...\n"
     ]
    },
    {
     "name": "stderr",
     "output_type": "stream",
     "text": [
      "<ipython-input-7-f7b0623b84e2>:3: RuntimeWarning: Physical range is not defined in following channels:\n",
      "sams_valence, sams_arousal, sams_valencert, sams_arousalrt, nback_stimuli, nback_keypress\n",
      "  data = mne.io.read_raw_edf(file)\n"
     ]
    },
    {
     "name": "stdout",
     "output_type": "stream",
     "text": [
      "Extracting EDF parameters from C:\\Users\\usr1\\Documents\\NMA Project\\sub-12\\eeg\\sub-12_task-washout_eeg.edf...\n",
      "EDF file detected\n",
      "Setting channel info structure...\n",
      "Creating raw.info structure...\n",
      "Extracting EDF parameters from C:\\Users\\usr1\\Documents\\NMA Project\\sub-13\\eeg\\sub-13_task-classicalMusic_eeg.edf...\n",
      "EDF file detected\n",
      "Setting channel info structure...\n",
      "Creating raw.info structure...\n"
     ]
    },
    {
     "name": "stderr",
     "output_type": "stream",
     "text": [
      "<ipython-input-7-f7b0623b84e2>:3: RuntimeWarning: Physical range is not defined in following channels:\n",
      "ft_valance, ft_arousal, ft_x, ft_y, ft_ghostvalence, ft_ghostarousal, music, trialtype, sams_valence, sams_arousal, sams_valencert, sams_arousalrt\n",
      "  data = mne.io.read_raw_edf(file)\n",
      "<ipython-input-7-f7b0623b84e2>:3: RuntimeWarning: Physical range is not defined in following channels:\n",
      "sams_valence, sams_arousal, sams_valencert, sams_arousalrt, nback_stimuli, nback_keypress\n",
      "  data = mne.io.read_raw_edf(file)\n"
     ]
    },
    {
     "name": "stdout",
     "output_type": "stream",
     "text": [
      "Extracting EDF parameters from C:\\Users\\usr1\\Documents\\NMA Project\\sub-13\\eeg\\sub-13_task-genMusic01_eeg.edf...\n",
      "EDF file detected\n",
      "Setting channel info structure...\n",
      "Creating raw.info structure...\n"
     ]
    },
    {
     "name": "stderr",
     "output_type": "stream",
     "text": [
      "<ipython-input-7-f7b0623b84e2>:3: RuntimeWarning: Physical range is not defined in following channels:\n",
      "sams_valence, sams_arousal, sams_valencert, sams_arousalrt, nback_stimuli, nback_keypress\n",
      "  data = mne.io.read_raw_edf(file)\n"
     ]
    },
    {
     "name": "stdout",
     "output_type": "stream",
     "text": [
      "Extracting EDF parameters from C:\\Users\\usr1\\Documents\\NMA Project\\sub-13\\eeg\\sub-13_task-genMusic02_eeg.edf...\n",
      "EDF file detected\n",
      "Setting channel info structure...\n",
      "Creating raw.info structure...\n"
     ]
    },
    {
     "name": "stderr",
     "output_type": "stream",
     "text": [
      "<ipython-input-7-f7b0623b84e2>:3: RuntimeWarning: Physical range is not defined in following channels:\n",
      "sams_valence, sams_arousal, sams_valencert, sams_arousalrt, nback_stimuli, nback_keypress\n",
      "  data = mne.io.read_raw_edf(file)\n"
     ]
    },
    {
     "name": "stdout",
     "output_type": "stream",
     "text": [
      "Extracting EDF parameters from C:\\Users\\usr1\\Documents\\NMA Project\\sub-13\\eeg\\sub-13_task-genMusic03_eeg.edf...\n",
      "EDF file detected\n",
      "Setting channel info structure...\n",
      "Creating raw.info structure...\n"
     ]
    },
    {
     "name": "stderr",
     "output_type": "stream",
     "text": [
      "<ipython-input-7-f7b0623b84e2>:3: RuntimeWarning: Physical range is not defined in following channels:\n",
      "sams_valence, sams_arousal, sams_valencert, sams_arousalrt, nback_stimuli, nback_keypress\n",
      "  data = mne.io.read_raw_edf(file)\n"
     ]
    },
    {
     "name": "stdout",
     "output_type": "stream",
     "text": [
      "Extracting EDF parameters from C:\\Users\\usr1\\Documents\\NMA Project\\sub-13\\eeg\\sub-13_task-washout_eeg.edf...\n",
      "EDF file detected\n",
      "Setting channel info structure...\n",
      "Creating raw.info structure...\n",
      "Extracting EDF parameters from C:\\Users\\usr1\\Documents\\NMA Project\\sub-14\\eeg\\sub-14_task-classicalMusic_eeg.edf...\n"
     ]
    },
    {
     "name": "stderr",
     "output_type": "stream",
     "text": [
      "<ipython-input-7-f7b0623b84e2>:3: RuntimeWarning: Physical range is not defined in following channels:\n",
      "ft_valance, ft_arousal, ft_x, ft_y, ft_ghostvalence, ft_ghostarousal, music, trialtype, sams_valence, sams_arousal, sams_valencert, sams_arousalrt\n",
      "  data = mne.io.read_raw_edf(file)\n"
     ]
    },
    {
     "name": "stdout",
     "output_type": "stream",
     "text": [
      "EDF file detected\n",
      "Setting channel info structure...\n",
      "Creating raw.info structure...\n"
     ]
    },
    {
     "name": "stderr",
     "output_type": "stream",
     "text": [
      "<ipython-input-7-f7b0623b84e2>:3: RuntimeWarning: Physical range is not defined in following channels:\n",
      "sams_valence, sams_arousal, sams_valencert, sams_arousalrt, nback_stimuli, nback_keypress\n",
      "  data = mne.io.read_raw_edf(file)\n"
     ]
    },
    {
     "name": "stdout",
     "output_type": "stream",
     "text": [
      "Extracting EDF parameters from C:\\Users\\usr1\\Documents\\NMA Project\\sub-14\\eeg\\sub-14_task-genMusic01_eeg.edf...\n",
      "EDF file detected\n",
      "Setting channel info structure...\n",
      "Creating raw.info structure...\n"
     ]
    },
    {
     "name": "stderr",
     "output_type": "stream",
     "text": [
      "<ipython-input-7-f7b0623b84e2>:3: RuntimeWarning: Physical range is not defined in following channels:\n",
      "sams_valence, sams_arousal, sams_valencert, sams_arousalrt, nback_stimuli, nback_keypress\n",
      "  data = mne.io.read_raw_edf(file)\n"
     ]
    },
    {
     "name": "stdout",
     "output_type": "stream",
     "text": [
      "Extracting EDF parameters from C:\\Users\\usr1\\Documents\\NMA Project\\sub-14\\eeg\\sub-14_task-genMusic02_eeg.edf...\n",
      "EDF file detected\n",
      "Setting channel info structure...\n",
      "Creating raw.info structure...\n"
     ]
    },
    {
     "name": "stderr",
     "output_type": "stream",
     "text": [
      "<ipython-input-7-f7b0623b84e2>:3: RuntimeWarning: Physical range is not defined in following channels:\n",
      "sams_valence, sams_arousal, sams_valencert, sams_arousalrt, nback_stimuli, nback_keypress\n",
      "  data = mne.io.read_raw_edf(file)\n"
     ]
    },
    {
     "name": "stdout",
     "output_type": "stream",
     "text": [
      "Extracting EDF parameters from C:\\Users\\usr1\\Documents\\NMA Project\\sub-14\\eeg\\sub-14_task-genMusic03_eeg.edf...\n",
      "EDF file detected\n",
      "Setting channel info structure...\n",
      "Creating raw.info structure...\n"
     ]
    },
    {
     "name": "stderr",
     "output_type": "stream",
     "text": [
      "<ipython-input-7-f7b0623b84e2>:3: RuntimeWarning: Physical range is not defined in following channels:\n",
      "sams_valence, sams_arousal, sams_valencert, sams_arousalrt, nback_stimuli, nback_keypress\n",
      "  data = mne.io.read_raw_edf(file)\n"
     ]
    },
    {
     "name": "stdout",
     "output_type": "stream",
     "text": [
      "Extracting EDF parameters from C:\\Users\\usr1\\Documents\\NMA Project\\sub-14\\eeg\\sub-14_task-washout_eeg.edf...\n",
      "EDF file detected\n",
      "Setting channel info structure...\n",
      "Creating raw.info structure...\n",
      "Extracting EDF parameters from C:\\Users\\usr1\\Documents\\NMA Project\\sub-15\\eeg\\sub-15_task-classicalMusic_eeg.edf...\n",
      "EDF file detected\n",
      "Setting channel info structure...\n",
      "Creating raw.info structure...\n"
     ]
    },
    {
     "name": "stderr",
     "output_type": "stream",
     "text": [
      "<ipython-input-7-f7b0623b84e2>:3: RuntimeWarning: Physical range is not defined in following channels:\n",
      "ft_valance, ft_arousal, ft_x, ft_y, ft_ghostvalence, ft_ghostarousal, music, trialtype, sams_valence, sams_arousal, sams_valencert, sams_arousalrt\n",
      "  data = mne.io.read_raw_edf(file)\n",
      "<ipython-input-7-f7b0623b84e2>:3: RuntimeWarning: Physical range is not defined in following channels:\n",
      "sams_valence, sams_arousal, sams_valencert, sams_arousalrt, nback_stimuli, nback_keypress\n",
      "  data = mne.io.read_raw_edf(file)\n"
     ]
    },
    {
     "name": "stdout",
     "output_type": "stream",
     "text": [
      "Extracting EDF parameters from C:\\Users\\usr1\\Documents\\NMA Project\\sub-15\\eeg\\sub-15_task-genMusic01_eeg.edf...\n",
      "EDF file detected\n",
      "Setting channel info structure...\n",
      "Creating raw.info structure...\n"
     ]
    },
    {
     "name": "stderr",
     "output_type": "stream",
     "text": [
      "<ipython-input-7-f7b0623b84e2>:3: RuntimeWarning: Physical range is not defined in following channels:\n",
      "ft_ghostvalence, ft_ghostarousal, sams_valence, sams_arousal, sams_valencert, sams_arousalrt, nback_stimuli, nback_keypress\n",
      "  data = mne.io.read_raw_edf(file)\n"
     ]
    },
    {
     "name": "stdout",
     "output_type": "stream",
     "text": [
      "Extracting EDF parameters from C:\\Users\\usr1\\Documents\\NMA Project\\sub-15\\eeg\\sub-15_task-genMusic02_eeg.edf...\n",
      "EDF file detected\n",
      "Setting channel info structure...\n",
      "Creating raw.info structure...\n"
     ]
    },
    {
     "name": "stderr",
     "output_type": "stream",
     "text": [
      "<ipython-input-7-f7b0623b84e2>:3: RuntimeWarning: Physical range is not defined in following channels:\n",
      "sams_valence, sams_arousal, sams_valencert, sams_arousalrt, nback_stimuli, nback_keypress\n",
      "  data = mne.io.read_raw_edf(file)\n"
     ]
    },
    {
     "name": "stdout",
     "output_type": "stream",
     "text": [
      "Extracting EDF parameters from C:\\Users\\usr1\\Documents\\NMA Project\\sub-15\\eeg\\sub-15_task-genMusic03_eeg.edf...\n",
      "EDF file detected\n",
      "Setting channel info structure...\n",
      "Creating raw.info structure...\n"
     ]
    },
    {
     "name": "stderr",
     "output_type": "stream",
     "text": [
      "<ipython-input-7-f7b0623b84e2>:3: RuntimeWarning: Physical range is not defined in following channels:\n",
      "sams_valence, sams_arousal, sams_valencert, sams_arousalrt, nback_stimuli, nback_keypress\n",
      "  data = mne.io.read_raw_edf(file)\n"
     ]
    },
    {
     "name": "stdout",
     "output_type": "stream",
     "text": [
      "Extracting EDF parameters from C:\\Users\\usr1\\Documents\\NMA Project\\sub-15\\eeg\\sub-15_task-washout_eeg.edf...\n",
      "EDF file detected\n",
      "Setting channel info structure...\n",
      "Creating raw.info structure...\n",
      "Extracting EDF parameters from C:\\Users\\usr1\\Documents\\NMA Project\\sub-16\\eeg\\sub-16_task-classicalMusic_eeg.edf...\n",
      "EDF file detected\n",
      "Setting channel info structure...\n",
      "Creating raw.info structure...\n"
     ]
    },
    {
     "name": "stderr",
     "output_type": "stream",
     "text": [
      "<ipython-input-7-f7b0623b84e2>:3: RuntimeWarning: Physical range is not defined in following channels:\n",
      "ft_valance, ft_arousal, ft_x, ft_y, ft_ghostvalence, ft_ghostarousal, music, trialtype, sams_valence, sams_arousal, sams_valencert, sams_arousalrt\n",
      "  data = mne.io.read_raw_edf(file)\n",
      "<ipython-input-7-f7b0623b84e2>:3: RuntimeWarning: Physical range is not defined in following channels:\n",
      "sams_valence, sams_arousal, sams_valencert, sams_arousalrt, nback_stimuli, nback_keypress\n",
      "  data = mne.io.read_raw_edf(file)\n"
     ]
    },
    {
     "name": "stdout",
     "output_type": "stream",
     "text": [
      "Extracting EDF parameters from C:\\Users\\usr1\\Documents\\NMA Project\\sub-16\\eeg\\sub-16_task-genMusic01_eeg.edf...\n",
      "EDF file detected\n",
      "Setting channel info structure...\n",
      "Creating raw.info structure...\n"
     ]
    },
    {
     "name": "stderr",
     "output_type": "stream",
     "text": [
      "<ipython-input-7-f7b0623b84e2>:3: RuntimeWarning: Physical range is not defined in following channels:\n",
      "sams_valence, sams_arousal, sams_valencert, sams_arousalrt, nback_stimuli, nback_keypress\n",
      "  data = mne.io.read_raw_edf(file)\n"
     ]
    },
    {
     "name": "stdout",
     "output_type": "stream",
     "text": [
      "Extracting EDF parameters from C:\\Users\\usr1\\Documents\\NMA Project\\sub-16\\eeg\\sub-16_task-genMusic02_eeg.edf...\n",
      "EDF file detected\n",
      "Setting channel info structure...\n",
      "Creating raw.info structure...\n"
     ]
    },
    {
     "name": "stderr",
     "output_type": "stream",
     "text": [
      "<ipython-input-7-f7b0623b84e2>:3: RuntimeWarning: Physical range is not defined in following channels:\n",
      "sams_valence, sams_arousal, sams_valencert, sams_arousalrt, nback_stimuli, nback_keypress\n",
      "  data = mne.io.read_raw_edf(file)\n"
     ]
    },
    {
     "name": "stdout",
     "output_type": "stream",
     "text": [
      "Extracting EDF parameters from C:\\Users\\usr1\\Documents\\NMA Project\\sub-16\\eeg\\sub-16_task-genMusic03_eeg.edf...\n",
      "EDF file detected\n",
      "Setting channel info structure...\n",
      "Creating raw.info structure...\n"
     ]
    },
    {
     "name": "stderr",
     "output_type": "stream",
     "text": [
      "<ipython-input-7-f7b0623b84e2>:3: RuntimeWarning: Physical range is not defined in following channels:\n",
      "sams_valence, sams_arousal, sams_valencert, sams_arousalrt, nback_stimuli, nback_keypress\n",
      "  data = mne.io.read_raw_edf(file)\n"
     ]
    },
    {
     "name": "stdout",
     "output_type": "stream",
     "text": [
      "Extracting EDF parameters from C:\\Users\\usr1\\Documents\\NMA Project\\sub-16\\eeg\\sub-16_task-washout_eeg.edf...\n",
      "EDF file detected\n",
      "Setting channel info structure...\n",
      "Creating raw.info structure...\n",
      "Extracting EDF parameters from C:\\Users\\usr1\\Documents\\NMA Project\\sub-17\\eeg\\sub-17_task-classicalMusic_eeg.edf...\n",
      "EDF file detected\n",
      "Setting channel info structure...\n",
      "Creating raw.info structure...\n"
     ]
    },
    {
     "name": "stderr",
     "output_type": "stream",
     "text": [
      "<ipython-input-7-f7b0623b84e2>:3: RuntimeWarning: Physical range is not defined in following channels:\n",
      "ft_valance, ft_arousal, ft_x, ft_y, ft_ghostvalence, ft_ghostarousal, music, trialtype, sams_valence, sams_arousal, sams_valencert, sams_arousalrt\n",
      "  data = mne.io.read_raw_edf(file)\n",
      "<ipython-input-7-f7b0623b84e2>:3: RuntimeWarning: Physical range is not defined in following channels:\n",
      "sams_valence, sams_arousal, sams_valencert, sams_arousalrt, nback_stimuli, nback_keypress\n",
      "  data = mne.io.read_raw_edf(file)\n"
     ]
    },
    {
     "name": "stdout",
     "output_type": "stream",
     "text": [
      "Extracting EDF parameters from C:\\Users\\usr1\\Documents\\NMA Project\\sub-17\\eeg\\sub-17_task-genMusic01_eeg.edf...\n",
      "EDF file detected\n",
      "Setting channel info structure...\n",
      "Creating raw.info structure...\n",
      "Extracting EDF parameters from C:\\Users\\usr1\\Documents\\NMA Project\\sub-17\\eeg\\sub-17_task-genMusic02_eeg.edf...\n",
      "EDF file detected\n",
      "Setting channel info structure...\n",
      "Creating raw.info structure...\n"
     ]
    },
    {
     "name": "stderr",
     "output_type": "stream",
     "text": [
      "<ipython-input-7-f7b0623b84e2>:3: RuntimeWarning: Physical range is not defined in following channels:\n",
      "ft_ghostvalence, ft_ghostarousal, sams_valence, sams_arousal, sams_valencert, sams_arousalrt, nback_stimuli, nback_keypress\n",
      "  data = mne.io.read_raw_edf(file)\n",
      "<ipython-input-7-f7b0623b84e2>:3: RuntimeWarning: Physical range is not defined in following channels:\n",
      "sams_valence, sams_arousal, sams_valencert, sams_arousalrt, nback_stimuli, nback_keypress\n",
      "  data = mne.io.read_raw_edf(file)\n"
     ]
    },
    {
     "name": "stdout",
     "output_type": "stream",
     "text": [
      "Extracting EDF parameters from C:\\Users\\usr1\\Documents\\NMA Project\\sub-17\\eeg\\sub-17_task-genMusic03_eeg.edf...\n",
      "EDF file detected\n",
      "Setting channel info structure...\n",
      "Creating raw.info structure...\n"
     ]
    },
    {
     "name": "stderr",
     "output_type": "stream",
     "text": [
      "<ipython-input-7-f7b0623b84e2>:3: RuntimeWarning: Physical range is not defined in following channels:\n",
      "sams_valence, sams_arousal, sams_valencert, sams_arousalrt, nback_stimuli, nback_keypress\n",
      "  data = mne.io.read_raw_edf(file)\n"
     ]
    },
    {
     "name": "stdout",
     "output_type": "stream",
     "text": [
      "Extracting EDF parameters from C:\\Users\\usr1\\Documents\\NMA Project\\sub-17\\eeg\\sub-17_task-washout_eeg.edf...\n",
      "EDF file detected\n",
      "Setting channel info structure...\n",
      "Creating raw.info structure...\n",
      "Extracting EDF parameters from C:\\Users\\usr1\\Documents\\NMA Project\\sub-18\\eeg\\sub-18_task-classicalMusic_eeg.edf...\n",
      "EDF file detected\n",
      "Setting channel info structure...\n",
      "Creating raw.info structure...\n"
     ]
    },
    {
     "name": "stderr",
     "output_type": "stream",
     "text": [
      "<ipython-input-7-f7b0623b84e2>:3: RuntimeWarning: Physical range is not defined in following channels:\n",
      "ft_valance, ft_arousal, ft_x, ft_y, ft_ghostvalence, ft_ghostarousal, music, trialtype, sams_valence, sams_arousal, sams_valencert, sams_arousalrt\n",
      "  data = mne.io.read_raw_edf(file)\n",
      "<ipython-input-7-f7b0623b84e2>:3: RuntimeWarning: Physical range is not defined in following channels:\n",
      "sams_valence, sams_arousal, sams_valencert, sams_arousalrt, nback_stimuli, nback_keypress\n",
      "  data = mne.io.read_raw_edf(file)\n"
     ]
    },
    {
     "name": "stdout",
     "output_type": "stream",
     "text": [
      "Extracting EDF parameters from C:\\Users\\usr1\\Documents\\NMA Project\\sub-18\\eeg\\sub-18_task-genMusic01_eeg.edf...\n",
      "EDF file detected\n",
      "Setting channel info structure...\n",
      "Creating raw.info structure...\n"
     ]
    },
    {
     "name": "stderr",
     "output_type": "stream",
     "text": [
      "<ipython-input-7-f7b0623b84e2>:3: RuntimeWarning: Physical range is not defined in following channels:\n",
      "sams_valence, sams_arousal, sams_valencert, sams_arousalrt, nback_stimuli, nback_keypress\n",
      "  data = mne.io.read_raw_edf(file)\n"
     ]
    },
    {
     "name": "stdout",
     "output_type": "stream",
     "text": [
      "Extracting EDF parameters from C:\\Users\\usr1\\Documents\\NMA Project\\sub-18\\eeg\\sub-18_task-genMusic02_eeg.edf...\n",
      "EDF file detected\n",
      "Setting channel info structure...\n",
      "Creating raw.info structure...\n"
     ]
    },
    {
     "name": "stderr",
     "output_type": "stream",
     "text": [
      "<ipython-input-7-f7b0623b84e2>:3: RuntimeWarning: Physical range is not defined in following channels:\n",
      "sams_valence, sams_arousal, sams_valencert, sams_arousalrt, nback_stimuli, nback_keypress\n",
      "  data = mne.io.read_raw_edf(file)\n"
     ]
    },
    {
     "name": "stdout",
     "output_type": "stream",
     "text": [
      "Extracting EDF parameters from C:\\Users\\usr1\\Documents\\NMA Project\\sub-18\\eeg\\sub-18_task-genMusic03_eeg.edf...\n",
      "EDF file detected\n",
      "Setting channel info structure...\n",
      "Creating raw.info structure...\n"
     ]
    },
    {
     "name": "stderr",
     "output_type": "stream",
     "text": [
      "<ipython-input-7-f7b0623b84e2>:3: RuntimeWarning: Physical range is not defined in following channels:\n",
      "sams_valence, sams_arousal, sams_valencert, sams_arousalrt, nback_stimuli, nback_keypress\n",
      "  data = mne.io.read_raw_edf(file)\n"
     ]
    },
    {
     "name": "stdout",
     "output_type": "stream",
     "text": [
      "Extracting EDF parameters from C:\\Users\\usr1\\Documents\\NMA Project\\sub-18\\eeg\\sub-18_task-washout_eeg.edf...\n",
      "EDF file detected\n",
      "Setting channel info structure...\n",
      "Creating raw.info structure...\n",
      "Extracting EDF parameters from C:\\Users\\usr1\\Documents\\NMA Project\\sub-19\\eeg\\sub-19_task-classicalMusic_eeg.edf...\n",
      "EDF file detected\n",
      "Setting channel info structure...\n",
      "Creating raw.info structure...\n"
     ]
    },
    {
     "name": "stderr",
     "output_type": "stream",
     "text": [
      "<ipython-input-7-f7b0623b84e2>:3: RuntimeWarning: Physical range is not defined in following channels:\n",
      "ft_valance, ft_arousal, ft_x, ft_y, ft_ghostvalence, ft_ghostarousal, music, trialtype, sams_valence, sams_arousal, sams_valencert, sams_arousalrt\n",
      "  data = mne.io.read_raw_edf(file)\n",
      "<ipython-input-7-f7b0623b84e2>:3: RuntimeWarning: Physical range is not defined in following channels:\n",
      "sams_valence, sams_arousal, sams_valencert, sams_arousalrt, nback_stimuli, nback_keypress\n",
      "  data = mne.io.read_raw_edf(file)\n"
     ]
    },
    {
     "name": "stdout",
     "output_type": "stream",
     "text": [
      "Extracting EDF parameters from C:\\Users\\usr1\\Documents\\NMA Project\\sub-19\\eeg\\sub-19_task-genMusic01_eeg.edf...\n",
      "EDF file detected\n",
      "Setting channel info structure...\n",
      "Creating raw.info structure...\n"
     ]
    },
    {
     "name": "stderr",
     "output_type": "stream",
     "text": [
      "<ipython-input-7-f7b0623b84e2>:3: RuntimeWarning: Physical range is not defined in following channels:\n",
      "sams_valence, sams_arousal, sams_valencert, sams_arousalrt, nback_stimuli, nback_keypress\n",
      "  data = mne.io.read_raw_edf(file)\n"
     ]
    },
    {
     "name": "stdout",
     "output_type": "stream",
     "text": [
      "Extracting EDF parameters from C:\\Users\\usr1\\Documents\\NMA Project\\sub-19\\eeg\\sub-19_task-genMusic02_eeg.edf...\n",
      "EDF file detected\n",
      "Setting channel info structure...\n",
      "Creating raw.info structure...\n"
     ]
    },
    {
     "name": "stderr",
     "output_type": "stream",
     "text": [
      "<ipython-input-7-f7b0623b84e2>:3: RuntimeWarning: Physical range is not defined in following channels:\n",
      "sams_valence, sams_arousal, sams_valencert, sams_arousalrt, nback_stimuli, nback_keypress\n",
      "  data = mne.io.read_raw_edf(file)\n"
     ]
    },
    {
     "name": "stdout",
     "output_type": "stream",
     "text": [
      "Extracting EDF parameters from C:\\Users\\usr1\\Documents\\NMA Project\\sub-19\\eeg\\sub-19_task-genMusic03_eeg.edf...\n",
      "EDF file detected\n",
      "Setting channel info structure...\n",
      "Creating raw.info structure...\n"
     ]
    },
    {
     "name": "stderr",
     "output_type": "stream",
     "text": [
      "<ipython-input-7-f7b0623b84e2>:3: RuntimeWarning: Physical range is not defined in following channels:\n",
      "sams_valence, sams_arousal, sams_valencert, sams_arousalrt, nback_stimuli, nback_keypress\n",
      "  data = mne.io.read_raw_edf(file)\n"
     ]
    },
    {
     "name": "stdout",
     "output_type": "stream",
     "text": [
      "Extracting EDF parameters from C:\\Users\\usr1\\Documents\\NMA Project\\sub-19\\eeg\\sub-19_task-washout_eeg.edf...\n",
      "EDF file detected\n",
      "Setting channel info structure...\n",
      "Creating raw.info structure...\n",
      "Extracting EDF parameters from C:\\Users\\usr1\\Documents\\NMA Project\\sub-20\\eeg\\sub-20_task-classicalMusic_eeg.edf...\n",
      "EDF file detected\n",
      "Setting channel info structure...\n",
      "Creating raw.info structure...\n"
     ]
    },
    {
     "name": "stderr",
     "output_type": "stream",
     "text": [
      "<ipython-input-7-f7b0623b84e2>:3: RuntimeWarning: Physical range is not defined in following channels:\n",
      "ft_valance, ft_arousal, ft_x, ft_y, ft_ghostvalence, ft_ghostarousal, music, trialtype, sams_valence, sams_arousal, sams_valencert, sams_arousalrt\n",
      "  data = mne.io.read_raw_edf(file)\n",
      "<ipython-input-7-f7b0623b84e2>:3: RuntimeWarning: Physical range is not defined in following channels:\n",
      "sams_valence, sams_arousal, sams_valencert, sams_arousalrt, nback_stimuli, nback_keypress\n",
      "  data = mne.io.read_raw_edf(file)\n"
     ]
    },
    {
     "name": "stdout",
     "output_type": "stream",
     "text": [
      "Extracting EDF parameters from C:\\Users\\usr1\\Documents\\NMA Project\\sub-20\\eeg\\sub-20_task-genMusic01_eeg.edf...\n",
      "EDF file detected\n",
      "Setting channel info structure...\n",
      "Creating raw.info structure...\n"
     ]
    },
    {
     "name": "stderr",
     "output_type": "stream",
     "text": [
      "<ipython-input-7-f7b0623b84e2>:3: RuntimeWarning: Physical range is not defined in following channels:\n",
      "sams_valence, sams_arousal, sams_valencert, sams_arousalrt, nback_stimuli, nback_keypress\n",
      "  data = mne.io.read_raw_edf(file)\n"
     ]
    },
    {
     "name": "stdout",
     "output_type": "stream",
     "text": [
      "Extracting EDF parameters from C:\\Users\\usr1\\Documents\\NMA Project\\sub-20\\eeg\\sub-20_task-genMusic02_eeg.edf...\n",
      "EDF file detected\n",
      "Setting channel info structure...\n",
      "Creating raw.info structure...\n"
     ]
    },
    {
     "name": "stderr",
     "output_type": "stream",
     "text": [
      "<ipython-input-7-f7b0623b84e2>:3: RuntimeWarning: Physical range is not defined in following channels:\n",
      "sams_valence, sams_arousal, sams_valencert, sams_arousalrt, nback_stimuli, nback_keypress\n",
      "  data = mne.io.read_raw_edf(file)\n"
     ]
    },
    {
     "name": "stdout",
     "output_type": "stream",
     "text": [
      "Extracting EDF parameters from C:\\Users\\usr1\\Documents\\NMA Project\\sub-20\\eeg\\sub-20_task-genMusic03_eeg.edf...\n",
      "EDF file detected\n",
      "Setting channel info structure...\n",
      "Creating raw.info structure...\n"
     ]
    },
    {
     "name": "stderr",
     "output_type": "stream",
     "text": [
      "<ipython-input-7-f7b0623b84e2>:3: RuntimeWarning: Physical range is not defined in following channels:\n",
      "sams_valence, sams_arousal, sams_valencert, sams_arousalrt, nback_stimuli, nback_keypress\n",
      "  data = mne.io.read_raw_edf(file)\n"
     ]
    },
    {
     "name": "stdout",
     "output_type": "stream",
     "text": [
      "Extracting EDF parameters from C:\\Users\\usr1\\Documents\\NMA Project\\sub-20\\eeg\\sub-20_task-washout_eeg.edf...\n",
      "EDF file detected\n",
      "Setting channel info structure...\n",
      "Creating raw.info structure...\n",
      "Extracting EDF parameters from C:\\Users\\usr1\\Documents\\NMA Project\\sub-21\\eeg\\sub-21_task-classicalMusic_eeg.edf...\n"
     ]
    },
    {
     "name": "stderr",
     "output_type": "stream",
     "text": [
      "<ipython-input-7-f7b0623b84e2>:3: RuntimeWarning: Physical range is not defined in following channels:\n",
      "ft_valance, ft_arousal, ft_x, ft_y, ft_ghostvalence, ft_ghostarousal, music, trialtype, sams_valence, sams_arousal, sams_valencert, sams_arousalrt\n",
      "  data = mne.io.read_raw_edf(file)\n"
     ]
    },
    {
     "name": "stdout",
     "output_type": "stream",
     "text": [
      "EDF file detected\n",
      "Setting channel info structure...\n",
      "Creating raw.info structure...\n"
     ]
    },
    {
     "name": "stderr",
     "output_type": "stream",
     "text": [
      "<ipython-input-7-f7b0623b84e2>:3: RuntimeWarning: Physical range is not defined in following channels:\n",
      "sams_valence, sams_arousal, sams_valencert, sams_arousalrt, nback_stimuli, nback_keypress\n",
      "  data = mne.io.read_raw_edf(file)\n"
     ]
    },
    {
     "name": "stdout",
     "output_type": "stream",
     "text": [
      "Extracting EDF parameters from C:\\Users\\usr1\\Documents\\NMA Project\\sub-21\\eeg\\sub-21_task-genMusic01_eeg.edf...\n",
      "EDF file detected\n",
      "Setting channel info structure...\n",
      "Creating raw.info structure...\n"
     ]
    },
    {
     "name": "stderr",
     "output_type": "stream",
     "text": [
      "<ipython-input-7-f7b0623b84e2>:3: RuntimeWarning: Physical range is not defined in following channels:\n",
      "sams_valence, sams_arousal, sams_valencert, sams_arousalrt, nback_stimuli, nback_keypress\n",
      "  data = mne.io.read_raw_edf(file)\n"
     ]
    },
    {
     "name": "stdout",
     "output_type": "stream",
     "text": [
      "Extracting EDF parameters from C:\\Users\\usr1\\Documents\\NMA Project\\sub-21\\eeg\\sub-21_task-genMusic02_eeg.edf...\n",
      "EDF file detected\n",
      "Setting channel info structure...\n",
      "Creating raw.info structure...\n"
     ]
    },
    {
     "name": "stderr",
     "output_type": "stream",
     "text": [
      "<ipython-input-7-f7b0623b84e2>:3: RuntimeWarning: Physical range is not defined in following channels:\n",
      "sams_valence, sams_arousal, sams_valencert, sams_arousalrt, nback_stimuli, nback_keypress\n",
      "  data = mne.io.read_raw_edf(file)\n"
     ]
    },
    {
     "name": "stdout",
     "output_type": "stream",
     "text": [
      "Extracting EDF parameters from C:\\Users\\usr1\\Documents\\NMA Project\\sub-21\\eeg\\sub-21_task-genMusic03_eeg.edf...\n",
      "EDF file detected\n",
      "Setting channel info structure...\n",
      "Creating raw.info structure...\n"
     ]
    },
    {
     "name": "stderr",
     "output_type": "stream",
     "text": [
      "<ipython-input-7-f7b0623b84e2>:3: RuntimeWarning: Physical range is not defined in following channels:\n",
      "sams_valence, sams_arousal, sams_valencert, sams_arousalrt, nback_stimuli, nback_keypress\n",
      "  data = mne.io.read_raw_edf(file)\n"
     ]
    },
    {
     "name": "stdout",
     "output_type": "stream",
     "text": [
      "Extracting EDF parameters from C:\\Users\\usr1\\Documents\\NMA Project\\sub-21\\eeg\\sub-21_task-washout_eeg.edf...\n",
      "EDF file detected\n",
      "Setting channel info structure...\n",
      "Creating raw.info structure...\n"
     ]
    },
    {
     "name": "stderr",
     "output_type": "stream",
     "text": [
      "<ipython-input-7-f7b0623b84e2>:3: RuntimeWarning: Physical range is not defined in following channels:\n",
      "ft_valance, ft_arousal, ft_x, ft_y, ft_ghostvalence, ft_ghostarousal, music, trialtype, sams_valence, sams_arousal, sams_valencert, sams_arousalrt\n",
      "  data = mne.io.read_raw_edf(file)\n"
     ]
    }
   ],
   "source": [
    "eeg_data = []\n",
    "for file in file_paths:\n",
    "    data = mne.io.read_raw_edf(file)\n",
    "    filename = './spec_files/' + file.split('/')[-1][:-4] + '.pck'\n",
    "    xf, freq_spectra = eeg_data_extraction(data)\n",
    "    with open(filename, 'wb') as handle:\n",
    "        pickle.dump(freq_spectra, handle, protocol=pickle.HIGHEST_PROTOCOL)"
   ]
  },
  {
   "cell_type": "code",
   "execution_count": null,
   "metadata": {},
   "outputs": [],
   "source": [
    "data_dic = {'classification': file_classifications,\n",
    "            'eeg_spectra': eeg_data,\n",
    "            'frequencies': xf[0]}"
   ]
  },
  {
   "cell_type": "code",
   "execution_count": null,
   "metadata": {},
   "outputs": [],
   "source": [
    "len(data_dic['eeg_spectra'][0][1][0])"
   ]
  },
  {
   "cell_type": "code",
   "execution_count": null,
   "metadata": {},
   "outputs": [],
   "source": [
    "len(data_dic['frequencies'])"
   ]
  },
  {
   "cell_type": "code",
   "execution_count": null,
   "metadata": {},
   "outputs": [],
   "source": [
    "#saving data\n",
    "with open('data_for_model.pickle', 'wb') as handle:\n",
    "    pickle.dump(data_dic, handle, protocol=pickle.HIGHEST_PROTOCOL)\n",
    "\n",
    "#reading data\n",
    "with open('data_for_model.pickle', 'rb') as handle:\n",
    "    test = pickle.load(handle)"
   ]
  },
  {
   "cell_type": "code",
   "execution_count": null,
   "metadata": {},
   "outputs": [],
   "source": [
    "test"
   ]
  },
  {
   "cell_type": "code",
   "execution_count": null,
   "metadata": {},
   "outputs": [],
   "source": [
    "for channel in freq_spectra:\n",
    "    plt.yscale('log')\n",
    "    plt.xscale('log')\n",
    "    plt.plot(xf[0], np.abs(channel))\n",
    "    plt.show()"
   ]
  },
  {
   "cell_type": "code",
   "execution_count": null,
   "metadata": {},
   "outputs": [],
   "source": []
  }
 ],
 "metadata": {
  "kernelspec": {
   "display_name": "Python 3",
   "language": "python",
   "name": "python3"
  },
  "language_info": {
   "codemirror_mode": {
    "name": "ipython",
    "version": 3
   },
   "file_extension": ".py",
   "mimetype": "text/x-python",
   "name": "python",
   "nbconvert_exporter": "python",
   "pygments_lexer": "ipython3",
   "version": "3.8.5"
  }
 },
 "nbformat": 4,
 "nbformat_minor": 4
}
