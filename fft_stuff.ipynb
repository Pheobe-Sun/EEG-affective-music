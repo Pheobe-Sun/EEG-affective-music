{
  "nbformat": 4,
  "nbformat_minor": 0,
  "metadata": {
    "kernelspec": {
      "display_name": "Python 3",
      "language": "python",
      "name": "python3"
    },
    "language_info": {
      "codemirror_mode": {
        "name": "ipython",
        "version": 3
      },
      "file_extension": ".py",
      "mimetype": "text/x-python",
      "name": "python",
      "nbconvert_exporter": "python",
      "pygments_lexer": "ipython3",
      "version": "3.8.5"
    },
    "colab": {
      "name": "fft_stuff.ipynb",
      "provenance": [],
      "include_colab_link": true
    }
  },
  "cells": [
    {
      "cell_type": "markdown",
      "metadata": {
        "id": "view-in-github",
        "colab_type": "text"
      },
      "source": [
        "<a href=\"https://colab.research.google.com/github/Pheobe-Sun/EEG-affective-music/blob/main/fft_stuff.ipynb\" target=\"_parent\"><img src=\"https://colab.research.google.com/assets/colab-badge.svg\" alt=\"Open In Colab\"/></a>"
      ]
    },
    {
      "cell_type": "code",
      "metadata": {
        "colab": {
          "base_uri": "https://localhost:8080/",
          "height": 389
        },
        "id": "Ni0OLrQn3vVO",
        "outputId": "0e80c1ce-d9ad-4eb8-8343-4aabb4a17644"
      },
      "source": [
        "import torch\n",
        "from torch import nn\n",
        "from torch.utils.data import DataLoader\n",
        "from torchvision import datasets\n",
        "from torchvision.transforms import ToTensor, Lambda, Compose\n",
        "import matplotlib.pyplot as plt\n",
        "import numpy as np\n",
        "import scipy\n",
        "import mne\n",
        "import matplotlib.pyplot as plt\n",
        "import os"
      ],
      "execution_count": 1,
      "outputs": [
        {
          "output_type": "error",
          "ename": "ModuleNotFoundError",
          "evalue": "ignored",
          "traceback": [
            "\u001b[0;31m---------------------------------------------------------------------------\u001b[0m",
            "\u001b[0;31mModuleNotFoundError\u001b[0m                       Traceback (most recent call last)",
            "\u001b[0;32m<ipython-input-1-6a1311f77f24>\u001b[0m in \u001b[0;36m<module>\u001b[0;34m()\u001b[0m\n\u001b[1;32m      7\u001b[0m \u001b[0;32mimport\u001b[0m \u001b[0mnumpy\u001b[0m \u001b[0;32mas\u001b[0m \u001b[0mnp\u001b[0m\u001b[0;34m\u001b[0m\u001b[0;34m\u001b[0m\u001b[0m\n\u001b[1;32m      8\u001b[0m \u001b[0;32mimport\u001b[0m \u001b[0mscipy\u001b[0m\u001b[0;34m\u001b[0m\u001b[0;34m\u001b[0m\u001b[0m\n\u001b[0;32m----> 9\u001b[0;31m \u001b[0;32mimport\u001b[0m \u001b[0mmne\u001b[0m\u001b[0;34m\u001b[0m\u001b[0;34m\u001b[0m\u001b[0m\n\u001b[0m\u001b[1;32m     10\u001b[0m \u001b[0;32mimport\u001b[0m \u001b[0mmatplotlib\u001b[0m\u001b[0;34m.\u001b[0m\u001b[0mpyplot\u001b[0m \u001b[0;32mas\u001b[0m \u001b[0mplt\u001b[0m\u001b[0;34m\u001b[0m\u001b[0;34m\u001b[0m\u001b[0m\n\u001b[1;32m     11\u001b[0m \u001b[0;32mimport\u001b[0m \u001b[0mos\u001b[0m\u001b[0;34m\u001b[0m\u001b[0;34m\u001b[0m\u001b[0m\n",
            "\u001b[0;31mModuleNotFoundError\u001b[0m: No module named 'mne'",
            "",
            "\u001b[0;31m---------------------------------------------------------------------------\u001b[0;32m\nNOTE: If your import is failing due to a missing package, you can\nmanually install dependencies using either !pip or !apt.\n\nTo view examples of installing some common dependencies, click the\n\"Open Examples\" button below.\n\u001b[0;31m---------------------------------------------------------------------------\u001b[0m\n"
          ]
        }
      ]
    },
    {
      "cell_type": "code",
      "metadata": {
        "id": "RrY_4G3j3vVR"
      },
      "source": [
        "def eeg_data_extraction(data):\n",
        "    max_time_len = 20000\n",
        "    raw_data = data.get_data()\n",
        "    coi = ['Fp1','Fp2','F7','F8','Fz','C3','C4','F3','F4']\n",
        "\n",
        "    coi_indexes = []\n",
        "    for channel_name in coi:\n",
        "        index = data.ch_names.index(channel_name)\n",
        "        coi_indexes.append(index)\n",
        "    \n",
        "    ft_time_series = []\n",
        "    for channel in coi_indexes:\n",
        "        time_serie = raw_data[channel][:max_time_len]\n",
        "        fourier_transform = scipy.fft(time_serie)\n",
        "        ft_time_series.append(fourier_transform)\n",
        "    \n",
        "    frequencies = []\n",
        "    freq_spectra = []\n",
        "    for channel in range(len(ft_time_series)):\n",
        "        x_axis = np.arange(0,len(ft_time_series[channel]))\n",
        "        N = ft_time_series[channel].shape[0]\n",
        "        T = 1.0 / 1000.0\n",
        "        xf = scipy.fftpack.fftfreq(N, T)[:N//2]\n",
        "        lower_bound = xf>4\n",
        "        upper_bound = xf<100\n",
        "        bounds = lower_bound & upper_bound\n",
        "        non_zero_indices = np.where(bounds,ft_time_series[channel][:N//2],0).nonzero()\n",
        "        frequencies.append(xf[non_zero_indices])\n",
        "        freq_spectra.append(np.abs(ft_time_series[channel])[non_zero_indices])\n",
        "    return frequencies,freq_spectra"
      ],
      "execution_count": null,
      "outputs": []
    },
    {
      "cell_type": "code",
      "metadata": {
        "id": "I0j7VSTF3vVT"
      },
      "source": [
        "def check(string, sub_str): \n",
        "    if (string.find(sub_str) == -1): \n",
        "        return(False) \n",
        "    else: \n",
        "        return(True)\n",
        "\n",
        "def list_files_with_string(files, string):\n",
        "    output_files = []\n",
        "    for file in files:\n",
        "        if check(file, string):\n",
        "            output_files.append(file)\n",
        "    return output_files"
      ],
      "execution_count": null,
      "outputs": []
    },
    {
      "cell_type": "code",
      "metadata": {
        "id": "3A86BapZ3vVU"
      },
      "source": [
        "folders = os.listdir()\n",
        "folders = list_files_with_string(folders, 'sub')\n",
        "file_paths=[]\n",
        "for folder in folders:\n",
        "    sub_path = './' + folder + '/eeg/'\n",
        "    files = os.listdir(sub_path)\n",
        "    edf_files = list_files_with_string(files, '.edf')\n",
        "    for file in edf_files:\n",
        "        file_paths.append(sub_path + file)"
      ],
      "execution_count": null,
      "outputs": []
    },
    {
      "cell_type": "code",
      "metadata": {
        "id": "-9oxf1cS3vVU"
      },
      "source": [
        "file_paths"
      ],
      "execution_count": null,
      "outputs": []
    },
    {
      "cell_type": "code",
      "metadata": {
        "id": "slTpsv1k3vVW"
      },
      "source": [
        "generated_music_files = list_files_with_string(file_paths, 'genMusic')\n",
        "classical_music_files = list_files_with_string(file_paths, 'classicalMusic')\n",
        "file_classifications = []\n",
        "for file in generated_music_files:\n",
        "    file_classifications.append([file, 'generated'])\n",
        "for file in classical_music_files:\n",
        "    file_classifications.append([file, 'classical'])"
      ],
      "execution_count": null,
      "outputs": []
    },
    {
      "cell_type": "code",
      "metadata": {
        "id": "PWHQTiBh3vVW",
        "outputId": "7ea7e8ec-733f-4931-9a07-7333c1db4c18"
      },
      "source": [
        "#file = \"./sub-01/eeg/sub-01_task-genMusic02_eeg.edf\"\n",
        "eeg_data = []\n",
        "for file in file_paths:\n",
        "    data = mne.io.read_raw_edf(file)\n",
        "    xf, freq_spectra = eeg_data_extraction(data)\n",
        "    eeg_data.append([file,freq_spectra])"
      ],
      "execution_count": null,
      "outputs": [
        {
          "output_type": "stream",
          "text": [
            "Extracting EDF parameters from C:\\Users\\usr1\\Documents\\NMA Project\\sub-01\\eeg\\sub-01_task-classicalMusic_eeg.edf...\n",
            "EDF file detected\n",
            "Setting channel info structure...\n",
            "Creating raw.info structure...\n"
          ],
          "name": "stdout"
        },
        {
          "output_type": "stream",
          "text": [
            "<ipython-input-121-03c2439b3907>:4: RuntimeWarning: Physical range is not defined in following channels:\n",
            "sams_valence, sams_arousal, sams_valencert, sams_arousalrt, nback_stimuli, nback_keypress\n",
            "  data = mne.io.read_raw_edf(file)\n"
          ],
          "name": "stderr"
        },
        {
          "output_type": "stream",
          "text": [
            "Extracting EDF parameters from C:\\Users\\usr1\\Documents\\NMA Project\\sub-01\\eeg\\sub-01_task-genMusic01_eeg.edf...\n",
            "EDF file detected\n",
            "Setting channel info structure...\n",
            "Creating raw.info structure...\n"
          ],
          "name": "stdout"
        },
        {
          "output_type": "stream",
          "text": [
            "<ipython-input-96-5665553f7c5d>:14: DeprecationWarning: Using scipy.fft as a function is deprecated and will be removed in SciPy 1.5.0, use scipy.fft.fft instead.\n",
            "  fourier_transform = scipy.fft(time_serie)\n",
            "<ipython-input-121-03c2439b3907>:4: RuntimeWarning: Physical range is not defined in following channels:\n",
            "sams_valence, sams_arousal, sams_valencert, sams_arousalrt, nback_stimuli, nback_keypress\n",
            "  data = mne.io.read_raw_edf(file)\n"
          ],
          "name": "stderr"
        },
        {
          "output_type": "stream",
          "text": [
            "Extracting EDF parameters from C:\\Users\\usr1\\Documents\\NMA Project\\sub-01\\eeg\\sub-01_task-genMusic02_eeg.edf...\n",
            "EDF file detected\n",
            "Setting channel info structure...\n",
            "Creating raw.info structure...\n"
          ],
          "name": "stdout"
        },
        {
          "output_type": "stream",
          "text": [
            "<ipython-input-121-03c2439b3907>:4: RuntimeWarning: Physical range is not defined in following channels:\n",
            "sams_valence, sams_arousal, sams_valencert, sams_arousalrt, nback_stimuli, nback_keypress\n",
            "  data = mne.io.read_raw_edf(file)\n"
          ],
          "name": "stderr"
        },
        {
          "output_type": "stream",
          "text": [
            "Extracting EDF parameters from C:\\Users\\usr1\\Documents\\NMA Project\\sub-01\\eeg\\sub-01_task-genMusic03_eeg.edf...\n",
            "EDF file detected\n",
            "Setting channel info structure...\n",
            "Creating raw.info structure...\n"
          ],
          "name": "stdout"
        },
        {
          "output_type": "stream",
          "text": [
            "<ipython-input-121-03c2439b3907>:4: RuntimeWarning: Physical range is not defined in following channels:\n",
            "sams_valence, sams_arousal, sams_valencert, sams_arousalrt, nback_stimuli, nback_keypress\n",
            "  data = mne.io.read_raw_edf(file)\n"
          ],
          "name": "stderr"
        },
        {
          "output_type": "stream",
          "text": [
            "Extracting EDF parameters from C:\\Users\\usr1\\Documents\\NMA Project\\sub-01\\eeg\\sub-01_task-washout_eeg.edf...\n",
            "EDF file detected\n",
            "Setting channel info structure...\n",
            "Creating raw.info structure...\n",
            "Extracting EDF parameters from C:\\Users\\usr1\\Documents\\NMA Project\\sub-02\\eeg\\sub-02_task-classicalMusic_eeg.edf...\n",
            "EDF file detected\n",
            "Setting channel info structure...\n",
            "Creating raw.info structure...\n"
          ],
          "name": "stdout"
        },
        {
          "output_type": "stream",
          "text": [
            "<ipython-input-121-03c2439b3907>:4: RuntimeWarning: Physical range is not defined in following channels:\n",
            "ft_valance, ft_arousal, ft_x, ft_y, ft_ghostvalence, ft_ghostarousal, music, trialtype, sams_valence, sams_arousal, sams_valencert, sams_arousalrt\n",
            "  data = mne.io.read_raw_edf(file)\n",
            "<ipython-input-121-03c2439b3907>:4: RuntimeWarning: Physical range is not defined in following channels:\n",
            "sams_valence, sams_arousal, sams_valencert, sams_arousalrt, nback_stimuli, nback_keypress\n",
            "  data = mne.io.read_raw_edf(file)\n"
          ],
          "name": "stderr"
        },
        {
          "output_type": "stream",
          "text": [
            "Extracting EDF parameters from C:\\Users\\usr1\\Documents\\NMA Project\\sub-02\\eeg\\sub-02_task-genMusic01_eeg.edf...\n",
            "EDF file detected\n",
            "Setting channel info structure...\n",
            "Creating raw.info structure...\n"
          ],
          "name": "stdout"
        },
        {
          "output_type": "stream",
          "text": [
            "<ipython-input-121-03c2439b3907>:4: RuntimeWarning: Physical range is not defined in following channels:\n",
            "sams_valence, sams_arousal, sams_valencert, sams_arousalrt, nback_stimuli, nback_keypress\n",
            "  data = mne.io.read_raw_edf(file)\n"
          ],
          "name": "stderr"
        },
        {
          "output_type": "stream",
          "text": [
            "Extracting EDF parameters from C:\\Users\\usr1\\Documents\\NMA Project\\sub-02\\eeg\\sub-02_task-genMusic02_eeg.edf...\n",
            "EDF file detected\n",
            "Setting channel info structure...\n",
            "Creating raw.info structure...\n"
          ],
          "name": "stdout"
        },
        {
          "output_type": "stream",
          "text": [
            "<ipython-input-121-03c2439b3907>:4: RuntimeWarning: Physical range is not defined in following channels:\n",
            "sams_valence, sams_arousal, sams_valencert, sams_arousalrt, nback_stimuli, nback_keypress\n",
            "  data = mne.io.read_raw_edf(file)\n"
          ],
          "name": "stderr"
        },
        {
          "output_type": "stream",
          "text": [
            "Extracting EDF parameters from C:\\Users\\usr1\\Documents\\NMA Project\\sub-02\\eeg\\sub-02_task-genMusic03_eeg.edf...\n",
            "EDF file detected\n",
            "Setting channel info structure...\n",
            "Creating raw.info structure...\n"
          ],
          "name": "stdout"
        },
        {
          "output_type": "stream",
          "text": [
            "<ipython-input-121-03c2439b3907>:4: RuntimeWarning: Physical range is not defined in following channels:\n",
            "sams_valence, sams_arousal, sams_valencert, sams_arousalrt, nback_stimuli, nback_keypress\n",
            "  data = mne.io.read_raw_edf(file)\n"
          ],
          "name": "stderr"
        },
        {
          "output_type": "stream",
          "text": [
            "Extracting EDF parameters from C:\\Users\\usr1\\Documents\\NMA Project\\sub-02\\eeg\\sub-02_task-washout_eeg.edf...\n",
            "EDF file detected\n",
            "Setting channel info structure...\n",
            "Creating raw.info structure...\n",
            "Extracting EDF parameters from C:\\Users\\usr1\\Documents\\NMA Project\\sub-03\\eeg\\sub-03_task-classicalMusic_eeg.edf...\n",
            "EDF file detected\n",
            "Setting channel info structure...\n",
            "Creating raw.info structure...\n"
          ],
          "name": "stdout"
        },
        {
          "output_type": "stream",
          "text": [
            "<ipython-input-121-03c2439b3907>:4: RuntimeWarning: Physical range is not defined in following channels:\n",
            "ft_valance, ft_arousal, ft_x, ft_y, ft_ghostvalence, ft_ghostarousal, music, trialtype, sams_valence, sams_arousal, sams_valencert, sams_arousalrt\n",
            "  data = mne.io.read_raw_edf(file)\n",
            "<ipython-input-121-03c2439b3907>:4: RuntimeWarning: Physical range is not defined in following channels:\n",
            "sams_valence, sams_arousal, sams_valencert, sams_arousalrt, nback_stimuli, nback_keypress\n",
            "  data = mne.io.read_raw_edf(file)\n"
          ],
          "name": "stderr"
        },
        {
          "output_type": "stream",
          "text": [
            "Extracting EDF parameters from C:\\Users\\usr1\\Documents\\NMA Project\\sub-03\\eeg\\sub-03_task-genMusic01_eeg.edf...\n",
            "EDF file detected\n",
            "Setting channel info structure...\n",
            "Creating raw.info structure...\n"
          ],
          "name": "stdout"
        },
        {
          "output_type": "stream",
          "text": [
            "<ipython-input-121-03c2439b3907>:4: RuntimeWarning: Physical range is not defined in following channels:\n",
            "ft_ghostvalence, ft_ghostarousal, sams_valence, sams_arousal, sams_valencert, sams_arousalrt, nback_stimuli, nback_keypress\n",
            "  data = mne.io.read_raw_edf(file)\n"
          ],
          "name": "stderr"
        },
        {
          "output_type": "stream",
          "text": [
            "Extracting EDF parameters from C:\\Users\\usr1\\Documents\\NMA Project\\sub-03\\eeg\\sub-03_task-genMusic02_eeg.edf...\n",
            "EDF file detected\n",
            "Setting channel info structure...\n",
            "Creating raw.info structure...\n"
          ],
          "name": "stdout"
        },
        {
          "output_type": "stream",
          "text": [
            "<ipython-input-121-03c2439b3907>:4: RuntimeWarning: Physical range is not defined in following channels:\n",
            "sams_valence, sams_arousal, sams_valencert, sams_arousalrt, nback_stimuli, nback_keypress\n",
            "  data = mne.io.read_raw_edf(file)\n"
          ],
          "name": "stderr"
        },
        {
          "output_type": "stream",
          "text": [
            "Extracting EDF parameters from C:\\Users\\usr1\\Documents\\NMA Project\\sub-03\\eeg\\sub-03_task-genMusic03_eeg.edf...\n",
            "EDF file detected\n",
            "Setting channel info structure...\n",
            "Creating raw.info structure...\n"
          ],
          "name": "stdout"
        },
        {
          "output_type": "stream",
          "text": [
            "<ipython-input-121-03c2439b3907>:4: RuntimeWarning: Physical range is not defined in following channels:\n",
            "sams_valence, sams_arousal, sams_valencert, sams_arousalrt, nback_stimuli, nback_keypress\n",
            "  data = mne.io.read_raw_edf(file)\n"
          ],
          "name": "stderr"
        },
        {
          "output_type": "stream",
          "text": [
            "Extracting EDF parameters from C:\\Users\\usr1\\Documents\\NMA Project\\sub-03\\eeg\\sub-03_task-washout_eeg.edf...\n",
            "EDF file detected\n",
            "Setting channel info structure...\n",
            "Creating raw.info structure...\n",
            "Extracting EDF parameters from C:\\Users\\usr1\\Documents\\NMA Project\\sub-04\\eeg\\sub-04_task-classicalMusic_eeg.edf...\n",
            "EDF file detected\n",
            "Setting channel info structure...\n"
          ],
          "name": "stdout"
        },
        {
          "output_type": "stream",
          "text": [
            "<ipython-input-121-03c2439b3907>:4: RuntimeWarning: Physical range is not defined in following channels:\n",
            "ft_valance, ft_arousal, ft_x, ft_y, ft_ghostvalence, ft_ghostarousal, music, trialtype, sams_valence, sams_arousal, sams_valencert, sams_arousalrt\n",
            "  data = mne.io.read_raw_edf(file)\n",
            "<ipython-input-121-03c2439b3907>:4: RuntimeWarning: Physical range is not defined in following channels:\n",
            "sams_valence, sams_arousal, sams_valencert, sams_arousalrt, nback_stimuli, nback_keypress\n",
            "  data = mne.io.read_raw_edf(file)\n"
          ],
          "name": "stderr"
        },
        {
          "output_type": "stream",
          "text": [
            "Creating raw.info structure...\n",
            "Extracting EDF parameters from C:\\Users\\usr1\\Documents\\NMA Project\\sub-04\\eeg\\sub-04_task-genMusic01_eeg.edf...\n",
            "EDF file detected\n",
            "Setting channel info structure...\n",
            "Creating raw.info structure...\n"
          ],
          "name": "stdout"
        },
        {
          "output_type": "stream",
          "text": [
            "<ipython-input-121-03c2439b3907>:4: RuntimeWarning: Physical range is not defined in following channels:\n",
            "sams_valence, sams_arousal, sams_valencert, sams_arousalrt, nback_stimuli, nback_keypress\n",
            "  data = mne.io.read_raw_edf(file)\n"
          ],
          "name": "stderr"
        },
        {
          "output_type": "stream",
          "text": [
            "Extracting EDF parameters from C:\\Users\\usr1\\Documents\\NMA Project\\sub-04\\eeg\\sub-04_task-genMusic02_eeg.edf...\n",
            "EDF file detected\n",
            "Setting channel info structure...\n",
            "Creating raw.info structure...\n"
          ],
          "name": "stdout"
        },
        {
          "output_type": "stream",
          "text": [
            "<ipython-input-121-03c2439b3907>:4: RuntimeWarning: Physical range is not defined in following channels:\n",
            "sams_valence, sams_arousal, sams_valencert, sams_arousalrt, nback_stimuli, nback_keypress\n",
            "  data = mne.io.read_raw_edf(file)\n"
          ],
          "name": "stderr"
        },
        {
          "output_type": "stream",
          "text": [
            "Extracting EDF parameters from C:\\Users\\usr1\\Documents\\NMA Project\\sub-04\\eeg\\sub-04_task-genMusic03_eeg.edf...\n",
            "EDF file detected\n",
            "Setting channel info structure...\n",
            "Creating raw.info structure...\n"
          ],
          "name": "stdout"
        },
        {
          "output_type": "stream",
          "text": [
            "<ipython-input-121-03c2439b3907>:4: RuntimeWarning: Physical range is not defined in following channels:\n",
            "sams_valence, sams_arousal, sams_valencert, sams_arousalrt, nback_stimuli, nback_keypress\n",
            "  data = mne.io.read_raw_edf(file)\n"
          ],
          "name": "stderr"
        },
        {
          "output_type": "stream",
          "text": [
            "Extracting EDF parameters from C:\\Users\\usr1\\Documents\\NMA Project\\sub-04\\eeg\\sub-04_task-washout_eeg.edf...\n",
            "EDF file detected\n",
            "Setting channel info structure...\n",
            "Creating raw.info structure...\n",
            "Extracting EDF parameters from C:\\Users\\usr1\\Documents\\NMA Project\\sub-05\\eeg\\sub-05_task-classicalMusic_eeg.edf...\n"
          ],
          "name": "stdout"
        },
        {
          "output_type": "stream",
          "text": [
            "<ipython-input-121-03c2439b3907>:4: RuntimeWarning: Physical range is not defined in following channels:\n",
            "ft_valance, ft_arousal, ft_x, ft_y, ft_ghostvalence, ft_ghostarousal, music, trialtype, sams_valence, sams_arousal, sams_valencert, sams_arousalrt\n",
            "  data = mne.io.read_raw_edf(file)\n"
          ],
          "name": "stderr"
        },
        {
          "output_type": "stream",
          "text": [
            "EDF file detected\n",
            "Setting channel info structure...\n",
            "Creating raw.info structure...\n"
          ],
          "name": "stdout"
        },
        {
          "output_type": "stream",
          "text": [
            "<ipython-input-121-03c2439b3907>:4: RuntimeWarning: Physical range is not defined in following channels:\n",
            "sams_valence, sams_arousal, sams_valencert, sams_arousalrt, nback_stimuli, nback_keypress\n",
            "  data = mne.io.read_raw_edf(file)\n"
          ],
          "name": "stderr"
        },
        {
          "output_type": "stream",
          "text": [
            "Extracting EDF parameters from C:\\Users\\usr1\\Documents\\NMA Project\\sub-05\\eeg\\sub-05_task-genMusic01_eeg.edf...\n",
            "EDF file detected\n",
            "Setting channel info structure...\n",
            "Creating raw.info structure...\n"
          ],
          "name": "stdout"
        },
        {
          "output_type": "stream",
          "text": [
            "<ipython-input-121-03c2439b3907>:4: RuntimeWarning: Physical range is not defined in following channels:\n",
            "sams_valence, sams_arousal, sams_valencert, sams_arousalrt, nback_stimuli, nback_keypress\n",
            "  data = mne.io.read_raw_edf(file)\n"
          ],
          "name": "stderr"
        },
        {
          "output_type": "stream",
          "text": [
            "Extracting EDF parameters from C:\\Users\\usr1\\Documents\\NMA Project\\sub-05\\eeg\\sub-05_task-genMusic02_eeg.edf...\n",
            "EDF file detected\n",
            "Setting channel info structure...\n",
            "Creating raw.info structure...\n"
          ],
          "name": "stdout"
        },
        {
          "output_type": "stream",
          "text": [
            "<ipython-input-121-03c2439b3907>:4: RuntimeWarning: Physical range is not defined in following channels:\n",
            "sams_valence, sams_arousal, sams_valencert, sams_arousalrt, nback_stimuli, nback_keypress\n",
            "  data = mne.io.read_raw_edf(file)\n"
          ],
          "name": "stderr"
        },
        {
          "output_type": "stream",
          "text": [
            "Extracting EDF parameters from C:\\Users\\usr1\\Documents\\NMA Project\\sub-05\\eeg\\sub-05_task-genMusic03_eeg.edf...\n",
            "EDF file detected\n",
            "Setting channel info structure...\n",
            "Creating raw.info structure...\n"
          ],
          "name": "stdout"
        },
        {
          "output_type": "stream",
          "text": [
            "<ipython-input-121-03c2439b3907>:4: RuntimeWarning: Physical range is not defined in following channels:\n",
            "sams_valence, sams_arousal, sams_valencert, sams_arousalrt, nback_stimuli, nback_keypress\n",
            "  data = mne.io.read_raw_edf(file)\n"
          ],
          "name": "stderr"
        },
        {
          "output_type": "stream",
          "text": [
            "Extracting EDF parameters from C:\\Users\\usr1\\Documents\\NMA Project\\sub-05\\eeg\\sub-05_task-washout_eeg.edf...\n",
            "EDF file detected\n",
            "Setting channel info structure...\n",
            "Creating raw.info structure...\n",
            "Extracting EDF parameters from C:\\Users\\usr1\\Documents\\NMA Project\\sub-06\\eeg\\sub-06_task-classicalMusic_eeg.edf...\n",
            "EDF file detected\n",
            "Setting channel info structure...\n"
          ],
          "name": "stdout"
        },
        {
          "output_type": "stream",
          "text": [
            "<ipython-input-121-03c2439b3907>:4: RuntimeWarning: Physical range is not defined in following channels:\n",
            "ft_valance, ft_arousal, ft_x, ft_y, ft_ghostvalence, ft_ghostarousal, music, trialtype, sams_valence, sams_arousal, sams_valencert, sams_arousalrt\n",
            "  data = mne.io.read_raw_edf(file)\n",
            "<ipython-input-121-03c2439b3907>:4: RuntimeWarning: Physical range is not defined in following channels:\n",
            "sams_valence, sams_arousal, sams_valencert, sams_arousalrt, nback_stimuli, nback_keypress\n",
            "  data = mne.io.read_raw_edf(file)\n"
          ],
          "name": "stderr"
        },
        {
          "output_type": "stream",
          "text": [
            "Creating raw.info structure...\n",
            "Extracting EDF parameters from C:\\Users\\usr1\\Documents\\NMA Project\\sub-06\\eeg\\sub-06_task-genMusic01_eeg.edf...\n",
            "EDF file detected\n",
            "Setting channel info structure...\n",
            "Creating raw.info structure...\n"
          ],
          "name": "stdout"
        },
        {
          "output_type": "stream",
          "text": [
            "<ipython-input-121-03c2439b3907>:4: RuntimeWarning: Physical range is not defined in following channels:\n",
            "sams_valence, sams_arousal, sams_valencert, sams_arousalrt, nback_stimuli, nback_keypress\n",
            "  data = mne.io.read_raw_edf(file)\n"
          ],
          "name": "stderr"
        },
        {
          "output_type": "stream",
          "text": [
            "Extracting EDF parameters from C:\\Users\\usr1\\Documents\\NMA Project\\sub-06\\eeg\\sub-06_task-genMusic02_eeg.edf...\n",
            "EDF file detected\n",
            "Setting channel info structure...\n",
            "Creating raw.info structure...\n"
          ],
          "name": "stdout"
        },
        {
          "output_type": "stream",
          "text": [
            "<ipython-input-121-03c2439b3907>:4: RuntimeWarning: Physical range is not defined in following channels:\n",
            "sams_valence, sams_arousal, sams_valencert, sams_arousalrt, nback_stimuli, nback_keypress\n",
            "  data = mne.io.read_raw_edf(file)\n"
          ],
          "name": "stderr"
        },
        {
          "output_type": "stream",
          "text": [
            "Extracting EDF parameters from C:\\Users\\usr1\\Documents\\NMA Project\\sub-06\\eeg\\sub-06_task-genMusic03_eeg.edf...\n",
            "EDF file detected\n",
            "Setting channel info structure...\n",
            "Creating raw.info structure...\n"
          ],
          "name": "stdout"
        },
        {
          "output_type": "stream",
          "text": [
            "<ipython-input-121-03c2439b3907>:4: RuntimeWarning: Physical range is not defined in following channels:\n",
            "sams_valence, sams_arousal, sams_valencert, sams_arousalrt, nback_stimuli, nback_keypress\n",
            "  data = mne.io.read_raw_edf(file)\n"
          ],
          "name": "stderr"
        },
        {
          "output_type": "stream",
          "text": [
            "Extracting EDF parameters from C:\\Users\\usr1\\Documents\\NMA Project\\sub-06\\eeg\\sub-06_task-washout_eeg.edf...\n",
            "EDF file detected\n",
            "Setting channel info structure...\n",
            "Creating raw.info structure...\n",
            "Extracting EDF parameters from C:\\Users\\usr1\\Documents\\NMA Project\\sub-07\\eeg\\sub-07_task-classicalMusic_eeg.edf...\n",
            "EDF file detected\n",
            "Setting channel info structure...\n",
            "Creating raw.info structure...\n"
          ],
          "name": "stdout"
        },
        {
          "output_type": "stream",
          "text": [
            "<ipython-input-121-03c2439b3907>:4: RuntimeWarning: Physical range is not defined in following channels:\n",
            "ft_valance, ft_arousal, ft_x, ft_y, ft_ghostvalence, ft_ghostarousal, music, trialtype, sams_valence, sams_arousal, sams_valencert, sams_arousalrt\n",
            "  data = mne.io.read_raw_edf(file)\n",
            "<ipython-input-121-03c2439b3907>:4: RuntimeWarning: Physical range is not defined in following channels:\n",
            "sams_valence, sams_arousal, sams_valencert, sams_arousalrt, nback_stimuli, nback_keypress\n",
            "  data = mne.io.read_raw_edf(file)\n"
          ],
          "name": "stderr"
        },
        {
          "output_type": "stream",
          "text": [
            "Extracting EDF parameters from C:\\Users\\usr1\\Documents\\NMA Project\\sub-07\\eeg\\sub-07_task-genMusic01_eeg.edf...\n",
            "EDF file detected\n",
            "Setting channel info structure...\n",
            "Creating raw.info structure...\n"
          ],
          "name": "stdout"
        },
        {
          "output_type": "stream",
          "text": [
            "<ipython-input-121-03c2439b3907>:4: RuntimeWarning: Physical range is not defined in following channels:\n",
            "ft_ghostvalence, ft_ghostarousal, sams_valence, sams_arousal, sams_valencert, sams_arousalrt, nback_stimuli, nback_keypress\n",
            "  data = mne.io.read_raw_edf(file)\n"
          ],
          "name": "stderr"
        },
        {
          "output_type": "stream",
          "text": [
            "Extracting EDF parameters from C:\\Users\\usr1\\Documents\\NMA Project\\sub-07\\eeg\\sub-07_task-genMusic02_eeg.edf...\n",
            "EDF file detected\n",
            "Setting channel info structure...\n",
            "Creating raw.info structure...\n"
          ],
          "name": "stdout"
        },
        {
          "output_type": "stream",
          "text": [
            "<ipython-input-121-03c2439b3907>:4: RuntimeWarning: Physical range is not defined in following channels:\n",
            "sams_valence, sams_arousal, sams_valencert, sams_arousalrt, nback_stimuli, nback_keypress\n",
            "  data = mne.io.read_raw_edf(file)\n"
          ],
          "name": "stderr"
        },
        {
          "output_type": "stream",
          "text": [
            "Extracting EDF parameters from C:\\Users\\usr1\\Documents\\NMA Project\\sub-07\\eeg\\sub-07_task-genMusic03_eeg.edf...\n",
            "EDF file detected\n",
            "Setting channel info structure...\n",
            "Creating raw.info structure...\n"
          ],
          "name": "stdout"
        },
        {
          "output_type": "stream",
          "text": [
            "<ipython-input-121-03c2439b3907>:4: RuntimeWarning: Physical range is not defined in following channels:\n",
            "sams_valence, sams_arousal, sams_valencert, sams_arousalrt, nback_stimuli, nback_keypress\n",
            "  data = mne.io.read_raw_edf(file)\n"
          ],
          "name": "stderr"
        },
        {
          "output_type": "stream",
          "text": [
            "Extracting EDF parameters from C:\\Users\\usr1\\Documents\\NMA Project\\sub-07\\eeg\\sub-07_task-washout_eeg.edf...\n",
            "EDF file detected\n",
            "Setting channel info structure...\n",
            "Creating raw.info structure...\n",
            "Extracting EDF parameters from C:\\Users\\usr1\\Documents\\NMA Project\\sub-08\\eeg\\sub-08_task-classicalMusic_eeg.edf...\n",
            "EDF file detected\n",
            "Setting channel info structure...\n",
            "Creating raw.info structure...\n"
          ],
          "name": "stdout"
        },
        {
          "output_type": "stream",
          "text": [
            "<ipython-input-121-03c2439b3907>:4: RuntimeWarning: Physical range is not defined in following channels:\n",
            "ft_valance, ft_arousal, ft_x, ft_y, ft_ghostvalence, ft_ghostarousal, music, trialtype, sams_valence, sams_arousal, sams_valencert, sams_arousalrt\n",
            "  data = mne.io.read_raw_edf(file)\n",
            "<ipython-input-121-03c2439b3907>:4: RuntimeWarning: Physical range is not defined in following channels:\n",
            "sams_valence, sams_arousal, sams_valencert, sams_arousalrt, nback_stimuli, nback_keypress\n",
            "  data = mne.io.read_raw_edf(file)\n"
          ],
          "name": "stderr"
        },
        {
          "output_type": "stream",
          "text": [
            "Extracting EDF parameters from C:\\Users\\usr1\\Documents\\NMA Project\\sub-08\\eeg\\sub-08_task-genMusic01_eeg.edf...\n",
            "EDF file detected\n",
            "Setting channel info structure...\n",
            "Creating raw.info structure...\n"
          ],
          "name": "stdout"
        },
        {
          "output_type": "stream",
          "text": [
            "<ipython-input-121-03c2439b3907>:4: RuntimeWarning: Physical range is not defined in following channels:\n",
            "sams_valence, sams_arousal, sams_valencert, sams_arousalrt, nback_stimuli, nback_keypress\n",
            "  data = mne.io.read_raw_edf(file)\n"
          ],
          "name": "stderr"
        },
        {
          "output_type": "stream",
          "text": [
            "Extracting EDF parameters from C:\\Users\\usr1\\Documents\\NMA Project\\sub-08\\eeg\\sub-08_task-genMusic02_eeg.edf...\n",
            "EDF file detected\n",
            "Setting channel info structure...\n",
            "Creating raw.info structure...\n"
          ],
          "name": "stdout"
        },
        {
          "output_type": "stream",
          "text": [
            "<ipython-input-121-03c2439b3907>:4: RuntimeWarning: Physical range is not defined in following channels:\n",
            "sams_valence, sams_arousal, sams_valencert, sams_arousalrt, nback_stimuli, nback_keypress\n",
            "  data = mne.io.read_raw_edf(file)\n"
          ],
          "name": "stderr"
        },
        {
          "output_type": "stream",
          "text": [
            "Extracting EDF parameters from C:\\Users\\usr1\\Documents\\NMA Project\\sub-08\\eeg\\sub-08_task-genMusic03_eeg.edf...\n",
            "EDF file detected\n",
            "Setting channel info structure...\n",
            "Creating raw.info structure...\n"
          ],
          "name": "stdout"
        },
        {
          "output_type": "stream",
          "text": [
            "<ipython-input-121-03c2439b3907>:4: RuntimeWarning: Physical range is not defined in following channels:\n",
            "sams_valence, sams_arousal, sams_valencert, sams_arousalrt, nback_stimuli, nback_keypress\n",
            "  data = mne.io.read_raw_edf(file)\n"
          ],
          "name": "stderr"
        },
        {
          "output_type": "stream",
          "text": [
            "Extracting EDF parameters from C:\\Users\\usr1\\Documents\\NMA Project\\sub-08\\eeg\\sub-08_task-washout_eeg.edf...\n",
            "EDF file detected\n",
            "Setting channel info structure...\n",
            "Creating raw.info structure...\n",
            "Extracting EDF parameters from C:\\Users\\usr1\\Documents\\NMA Project\\sub-09\\eeg\\sub-09_task-classicalMusic_eeg.edf...\n",
            "EDF file detected\n",
            "Setting channel info structure...\n"
          ],
          "name": "stdout"
        },
        {
          "output_type": "stream",
          "text": [
            "<ipython-input-121-03c2439b3907>:4: RuntimeWarning: Physical range is not defined in following channels:\n",
            "ft_valance, ft_arousal, ft_x, ft_y, ft_ghostvalence, ft_ghostarousal, music, trialtype, sams_valence, sams_arousal, sams_valencert, sams_arousalrt\n",
            "  data = mne.io.read_raw_edf(file)\n",
            "<ipython-input-121-03c2439b3907>:4: RuntimeWarning: Physical range is not defined in following channels:\n",
            "sams_valence, sams_arousal, sams_valencert, sams_arousalrt, nback_stimuli, nback_keypress\n",
            "  data = mne.io.read_raw_edf(file)\n"
          ],
          "name": "stderr"
        },
        {
          "output_type": "stream",
          "text": [
            "Creating raw.info structure...\n",
            "Extracting EDF parameters from C:\\Users\\usr1\\Documents\\NMA Project\\sub-09\\eeg\\sub-09_task-genMusic01_eeg.edf...\n",
            "EDF file detected\n",
            "Setting channel info structure...\n",
            "Creating raw.info structure...\n"
          ],
          "name": "stdout"
        },
        {
          "output_type": "stream",
          "text": [
            "<ipython-input-121-03c2439b3907>:4: RuntimeWarning: Physical range is not defined in following channels:\n",
            "sams_valence, sams_arousal, sams_valencert, sams_arousalrt, nback_stimuli, nback_keypress\n",
            "  data = mne.io.read_raw_edf(file)\n"
          ],
          "name": "stderr"
        },
        {
          "output_type": "stream",
          "text": [
            "Extracting EDF parameters from C:\\Users\\usr1\\Documents\\NMA Project\\sub-09\\eeg\\sub-09_task-genMusic02_eeg.edf...\n",
            "EDF file detected\n",
            "Setting channel info structure...\n",
            "Creating raw.info structure...\n"
          ],
          "name": "stdout"
        },
        {
          "output_type": "stream",
          "text": [
            "<ipython-input-121-03c2439b3907>:4: RuntimeWarning: Physical range is not defined in following channels:\n",
            "sams_valence, sams_arousal, sams_valencert, sams_arousalrt, nback_stimuli, nback_keypress\n",
            "  data = mne.io.read_raw_edf(file)\n"
          ],
          "name": "stderr"
        },
        {
          "output_type": "stream",
          "text": [
            "Extracting EDF parameters from C:\\Users\\usr1\\Documents\\NMA Project\\sub-09\\eeg\\sub-09_task-genMusic03_eeg.edf...\n",
            "EDF file detected\n",
            "Setting channel info structure...\n",
            "Creating raw.info structure...\n"
          ],
          "name": "stdout"
        },
        {
          "output_type": "stream",
          "text": [
            "<ipython-input-121-03c2439b3907>:4: RuntimeWarning: Physical range is not defined in following channels:\n",
            "sams_valence, sams_arousal, sams_valencert, sams_arousalrt, nback_stimuli, nback_keypress\n",
            "  data = mne.io.read_raw_edf(file)\n"
          ],
          "name": "stderr"
        },
        {
          "output_type": "stream",
          "text": [
            "Extracting EDF parameters from C:\\Users\\usr1\\Documents\\NMA Project\\sub-09\\eeg\\sub-09_task-washout_eeg.edf...\n",
            "EDF file detected\n",
            "Setting channel info structure...\n",
            "Creating raw.info structure...\n",
            "Extracting EDF parameters from C:\\Users\\usr1\\Documents\\NMA Project\\sub-10\\eeg\\sub-10_task-classicalMusic_eeg.edf...\n",
            "EDF file detected\n",
            "Setting channel info structure...\n",
            "Creating raw.info structure...\n"
          ],
          "name": "stdout"
        },
        {
          "output_type": "stream",
          "text": [
            "<ipython-input-121-03c2439b3907>:4: RuntimeWarning: Physical range is not defined in following channels:\n",
            "ft_valance, ft_arousal, ft_x, ft_y, ft_ghostvalence, ft_ghostarousal, music, trialtype, sams_valence, sams_arousal, sams_valencert, sams_arousalrt\n",
            "  data = mne.io.read_raw_edf(file)\n",
            "<ipython-input-121-03c2439b3907>:4: RuntimeWarning: Physical range is not defined in following channels:\n",
            "sams_valence, sams_arousal, sams_valencert, sams_arousalrt, nback_stimuli, nback_keypress\n",
            "  data = mne.io.read_raw_edf(file)\n"
          ],
          "name": "stderr"
        },
        {
          "output_type": "stream",
          "text": [
            "Extracting EDF parameters from C:\\Users\\usr1\\Documents\\NMA Project\\sub-10\\eeg\\sub-10_task-genMusic01_eeg.edf...\n",
            "EDF file detected\n",
            "Setting channel info structure...\n",
            "Creating raw.info structure...\n"
          ],
          "name": "stdout"
        },
        {
          "output_type": "stream",
          "text": [
            "<ipython-input-121-03c2439b3907>:4: RuntimeWarning: Physical range is not defined in following channels:\n",
            "sams_valence, sams_arousal, sams_valencert, sams_arousalrt, nback_stimuli, nback_keypress\n",
            "  data = mne.io.read_raw_edf(file)\n"
          ],
          "name": "stderr"
        },
        {
          "output_type": "stream",
          "text": [
            "Extracting EDF parameters from C:\\Users\\usr1\\Documents\\NMA Project\\sub-10\\eeg\\sub-10_task-genMusic02_eeg.edf...\n",
            "EDF file detected\n",
            "Setting channel info structure...\n",
            "Creating raw.info structure...\n"
          ],
          "name": "stdout"
        },
        {
          "output_type": "stream",
          "text": [
            "<ipython-input-121-03c2439b3907>:4: RuntimeWarning: Physical range is not defined in following channels:\n",
            "sams_valence, sams_arousal, sams_valencert, sams_arousalrt, nback_stimuli, nback_keypress\n",
            "  data = mne.io.read_raw_edf(file)\n"
          ],
          "name": "stderr"
        },
        {
          "output_type": "stream",
          "text": [
            "Extracting EDF parameters from C:\\Users\\usr1\\Documents\\NMA Project\\sub-10\\eeg\\sub-10_task-genMusic03_eeg.edf...\n",
            "EDF file detected\n",
            "Setting channel info structure...\n",
            "Creating raw.info structure...\n"
          ],
          "name": "stdout"
        },
        {
          "output_type": "stream",
          "text": [
            "<ipython-input-121-03c2439b3907>:4: RuntimeWarning: Physical range is not defined in following channels:\n",
            "sams_valence, sams_arousal, sams_valencert, sams_arousalrt, nback_stimuli, nback_keypress\n",
            "  data = mne.io.read_raw_edf(file)\n"
          ],
          "name": "stderr"
        },
        {
          "output_type": "stream",
          "text": [
            "Extracting EDF parameters from C:\\Users\\usr1\\Documents\\NMA Project\\sub-10\\eeg\\sub-10_task-washout_eeg.edf...\n",
            "EDF file detected\n",
            "Setting channel info structure...\n",
            "Creating raw.info structure...\n",
            "Extracting EDF parameters from C:\\Users\\usr1\\Documents\\NMA Project\\sub-11\\eeg\\sub-11_task-classicalMusic_eeg.edf...\n",
            "EDF file detected\n",
            "Setting channel info structure...\n"
          ],
          "name": "stdout"
        },
        {
          "output_type": "stream",
          "text": [
            "<ipython-input-121-03c2439b3907>:4: RuntimeWarning: Physical range is not defined in following channels:\n",
            "ft_valance, ft_arousal, ft_x, ft_y, ft_ghostvalence, ft_ghostarousal, music, trialtype, sams_valence, sams_arousal, sams_valencert, sams_arousalrt\n",
            "  data = mne.io.read_raw_edf(file)\n",
            "<ipython-input-121-03c2439b3907>:4: RuntimeWarning: Physical range is not defined in following channels:\n",
            "sams_valence, sams_arousal, sams_valencert, sams_arousalrt, nback_stimuli, nback_keypress\n",
            "  data = mne.io.read_raw_edf(file)\n"
          ],
          "name": "stderr"
        },
        {
          "output_type": "stream",
          "text": [
            "Creating raw.info structure...\n",
            "Extracting EDF parameters from C:\\Users\\usr1\\Documents\\NMA Project\\sub-11\\eeg\\sub-11_task-genMusic01_eeg.edf...\n",
            "EDF file detected\n",
            "Setting channel info structure...\n",
            "Creating raw.info structure...\n"
          ],
          "name": "stdout"
        },
        {
          "output_type": "stream",
          "text": [
            "<ipython-input-121-03c2439b3907>:4: RuntimeWarning: Physical range is not defined in following channels:\n",
            "sams_valence, sams_arousal, sams_valencert, sams_arousalrt, nback_stimuli, nback_keypress\n",
            "  data = mne.io.read_raw_edf(file)\n"
          ],
          "name": "stderr"
        },
        {
          "output_type": "stream",
          "text": [
            "Extracting EDF parameters from C:\\Users\\usr1\\Documents\\NMA Project\\sub-11\\eeg\\sub-11_task-genMusic02_eeg.edf...\n",
            "EDF file detected\n",
            "Setting channel info structure...\n",
            "Creating raw.info structure...\n"
          ],
          "name": "stdout"
        },
        {
          "output_type": "stream",
          "text": [
            "<ipython-input-121-03c2439b3907>:4: RuntimeWarning: Physical range is not defined in following channels:\n",
            "sams_valence, sams_arousal, sams_valencert, sams_arousalrt, nback_stimuli, nback_keypress\n",
            "  data = mne.io.read_raw_edf(file)\n"
          ],
          "name": "stderr"
        },
        {
          "output_type": "stream",
          "text": [
            "Extracting EDF parameters from C:\\Users\\usr1\\Documents\\NMA Project\\sub-11\\eeg\\sub-11_task-genMusic03_eeg.edf...\n",
            "EDF file detected\n",
            "Setting channel info structure...\n",
            "Creating raw.info structure...\n"
          ],
          "name": "stdout"
        },
        {
          "output_type": "stream",
          "text": [
            "<ipython-input-121-03c2439b3907>:4: RuntimeWarning: Physical range is not defined in following channels:\n",
            "sams_valence, sams_arousal, sams_valencert, sams_arousalrt, nback_stimuli, nback_keypress\n",
            "  data = mne.io.read_raw_edf(file)\n"
          ],
          "name": "stderr"
        },
        {
          "output_type": "stream",
          "text": [
            "Extracting EDF parameters from C:\\Users\\usr1\\Documents\\NMA Project\\sub-11\\eeg\\sub-11_task-washout_eeg.edf...\n",
            "EDF file detected\n",
            "Setting channel info structure...\n",
            "Creating raw.info structure...\n",
            "Extracting EDF parameters from C:\\Users\\usr1\\Documents\\NMA Project\\sub-12\\eeg\\sub-12_task-classicalMusic_eeg.edf...\n",
            "EDF file detected\n",
            "Setting channel info structure...\n"
          ],
          "name": "stdout"
        },
        {
          "output_type": "stream",
          "text": [
            "<ipython-input-121-03c2439b3907>:4: RuntimeWarning: Physical range is not defined in following channels:\n",
            "ft_valance, ft_arousal, ft_x, ft_y, ft_ghostvalence, ft_ghostarousal, music, trialtype, sams_valence, sams_arousal, sams_valencert, sams_arousalrt\n",
            "  data = mne.io.read_raw_edf(file)\n",
            "<ipython-input-121-03c2439b3907>:4: RuntimeWarning: Physical range is not defined in following channels:\n",
            "sams_valence, sams_arousal, sams_valencert, sams_arousalrt, nback_stimuli, nback_keypress\n",
            "  data = mne.io.read_raw_edf(file)\n"
          ],
          "name": "stderr"
        },
        {
          "output_type": "stream",
          "text": [
            "Creating raw.info structure...\n",
            "Extracting EDF parameters from C:\\Users\\usr1\\Documents\\NMA Project\\sub-12\\eeg\\sub-12_task-genMusic01_eeg.edf...\n",
            "EDF file detected\n",
            "Setting channel info structure...\n",
            "Creating raw.info structure...\n"
          ],
          "name": "stdout"
        },
        {
          "output_type": "stream",
          "text": [
            "<ipython-input-121-03c2439b3907>:4: RuntimeWarning: Physical range is not defined in following channels:\n",
            "sams_valence, sams_arousal, sams_valencert, sams_arousalrt, nback_stimuli, nback_keypress\n",
            "  data = mne.io.read_raw_edf(file)\n"
          ],
          "name": "stderr"
        },
        {
          "output_type": "stream",
          "text": [
            "Extracting EDF parameters from C:\\Users\\usr1\\Documents\\NMA Project\\sub-12\\eeg\\sub-12_task-genMusic02_eeg.edf...\n",
            "EDF file detected\n",
            "Setting channel info structure...\n",
            "Creating raw.info structure...\n"
          ],
          "name": "stdout"
        },
        {
          "output_type": "stream",
          "text": [
            "<ipython-input-121-03c2439b3907>:4: RuntimeWarning: Physical range is not defined in following channels:\n",
            "sams_valence, sams_arousal, sams_valencert, sams_arousalrt, nback_stimuli, nback_keypress\n",
            "  data = mne.io.read_raw_edf(file)\n"
          ],
          "name": "stderr"
        },
        {
          "output_type": "stream",
          "text": [
            "Extracting EDF parameters from C:\\Users\\usr1\\Documents\\NMA Project\\sub-12\\eeg\\sub-12_task-genMusic03_eeg.edf...\n",
            "EDF file detected\n",
            "Setting channel info structure...\n",
            "Creating raw.info structure...\n"
          ],
          "name": "stdout"
        },
        {
          "output_type": "stream",
          "text": [
            "<ipython-input-121-03c2439b3907>:4: RuntimeWarning: Physical range is not defined in following channels:\n",
            "sams_valence, sams_arousal, sams_valencert, sams_arousalrt, nback_stimuli, nback_keypress\n",
            "  data = mne.io.read_raw_edf(file)\n"
          ],
          "name": "stderr"
        },
        {
          "output_type": "stream",
          "text": [
            "Extracting EDF parameters from C:\\Users\\usr1\\Documents\\NMA Project\\sub-12\\eeg\\sub-12_task-washout_eeg.edf...\n",
            "EDF file detected\n",
            "Setting channel info structure...\n",
            "Creating raw.info structure...\n",
            "Extracting EDF parameters from C:\\Users\\usr1\\Documents\\NMA Project\\sub-13\\eeg\\sub-13_task-classicalMusic_eeg.edf...\n",
            "EDF file detected\n",
            "Setting channel info structure...\n"
          ],
          "name": "stdout"
        },
        {
          "output_type": "stream",
          "text": [
            "<ipython-input-121-03c2439b3907>:4: RuntimeWarning: Physical range is not defined in following channels:\n",
            "ft_valance, ft_arousal, ft_x, ft_y, ft_ghostvalence, ft_ghostarousal, music, trialtype, sams_valence, sams_arousal, sams_valencert, sams_arousalrt\n",
            "  data = mne.io.read_raw_edf(file)\n",
            "<ipython-input-121-03c2439b3907>:4: RuntimeWarning: Physical range is not defined in following channels:\n",
            "sams_valence, sams_arousal, sams_valencert, sams_arousalrt, nback_stimuli, nback_keypress\n",
            "  data = mne.io.read_raw_edf(file)\n"
          ],
          "name": "stderr"
        },
        {
          "output_type": "stream",
          "text": [
            "Creating raw.info structure...\n",
            "Extracting EDF parameters from C:\\Users\\usr1\\Documents\\NMA Project\\sub-13\\eeg\\sub-13_task-genMusic01_eeg.edf...\n",
            "EDF file detected\n",
            "Setting channel info structure...\n",
            "Creating raw.info structure...\n"
          ],
          "name": "stdout"
        },
        {
          "output_type": "stream",
          "text": [
            "<ipython-input-121-03c2439b3907>:4: RuntimeWarning: Physical range is not defined in following channels:\n",
            "sams_valence, sams_arousal, sams_valencert, sams_arousalrt, nback_stimuli, nback_keypress\n",
            "  data = mne.io.read_raw_edf(file)\n"
          ],
          "name": "stderr"
        },
        {
          "output_type": "stream",
          "text": [
            "Extracting EDF parameters from C:\\Users\\usr1\\Documents\\NMA Project\\sub-13\\eeg\\sub-13_task-genMusic02_eeg.edf...\n",
            "EDF file detected\n",
            "Setting channel info structure...\n",
            "Creating raw.info structure...\n"
          ],
          "name": "stdout"
        },
        {
          "output_type": "stream",
          "text": [
            "<ipython-input-121-03c2439b3907>:4: RuntimeWarning: Physical range is not defined in following channels:\n",
            "sams_valence, sams_arousal, sams_valencert, sams_arousalrt, nback_stimuli, nback_keypress\n",
            "  data = mne.io.read_raw_edf(file)\n"
          ],
          "name": "stderr"
        },
        {
          "output_type": "stream",
          "text": [
            "Extracting EDF parameters from C:\\Users\\usr1\\Documents\\NMA Project\\sub-13\\eeg\\sub-13_task-genMusic03_eeg.edf...\n",
            "EDF file detected\n",
            "Setting channel info structure...\n",
            "Creating raw.info structure...\n"
          ],
          "name": "stdout"
        },
        {
          "output_type": "stream",
          "text": [
            "<ipython-input-121-03c2439b3907>:4: RuntimeWarning: Physical range is not defined in following channels:\n",
            "sams_valence, sams_arousal, sams_valencert, sams_arousalrt, nback_stimuli, nback_keypress\n",
            "  data = mne.io.read_raw_edf(file)\n"
          ],
          "name": "stderr"
        },
        {
          "output_type": "stream",
          "text": [
            "Extracting EDF parameters from C:\\Users\\usr1\\Documents\\NMA Project\\sub-13\\eeg\\sub-13_task-washout_eeg.edf...\n",
            "EDF file detected\n",
            "Setting channel info structure...\n",
            "Creating raw.info structure...\n",
            "Extracting EDF parameters from C:\\Users\\usr1\\Documents\\NMA Project\\sub-14\\eeg\\sub-14_task-classicalMusic_eeg.edf...\n",
            "EDF file detected\n",
            "Setting channel info structure...\n"
          ],
          "name": "stdout"
        },
        {
          "output_type": "stream",
          "text": [
            "<ipython-input-121-03c2439b3907>:4: RuntimeWarning: Physical range is not defined in following channels:\n",
            "ft_valance, ft_arousal, ft_x, ft_y, ft_ghostvalence, ft_ghostarousal, music, trialtype, sams_valence, sams_arousal, sams_valencert, sams_arousalrt\n",
            "  data = mne.io.read_raw_edf(file)\n",
            "<ipython-input-121-03c2439b3907>:4: RuntimeWarning: Physical range is not defined in following channels:\n",
            "sams_valence, sams_arousal, sams_valencert, sams_arousalrt, nback_stimuli, nback_keypress\n",
            "  data = mne.io.read_raw_edf(file)\n"
          ],
          "name": "stderr"
        },
        {
          "output_type": "stream",
          "text": [
            "Creating raw.info structure...\n",
            "Extracting EDF parameters from C:\\Users\\usr1\\Documents\\NMA Project\\sub-14\\eeg\\sub-14_task-genMusic01_eeg.edf...\n",
            "EDF file detected\n",
            "Setting channel info structure...\n",
            "Creating raw.info structure...\n"
          ],
          "name": "stdout"
        },
        {
          "output_type": "stream",
          "text": [
            "<ipython-input-121-03c2439b3907>:4: RuntimeWarning: Physical range is not defined in following channels:\n",
            "sams_valence, sams_arousal, sams_valencert, sams_arousalrt, nback_stimuli, nback_keypress\n",
            "  data = mne.io.read_raw_edf(file)\n"
          ],
          "name": "stderr"
        },
        {
          "output_type": "stream",
          "text": [
            "Extracting EDF parameters from C:\\Users\\usr1\\Documents\\NMA Project\\sub-14\\eeg\\sub-14_task-genMusic02_eeg.edf...\n",
            "EDF file detected\n",
            "Setting channel info structure...\n",
            "Creating raw.info structure...\n"
          ],
          "name": "stdout"
        },
        {
          "output_type": "stream",
          "text": [
            "<ipython-input-121-03c2439b3907>:4: RuntimeWarning: Physical range is not defined in following channels:\n",
            "sams_valence, sams_arousal, sams_valencert, sams_arousalrt, nback_stimuli, nback_keypress\n",
            "  data = mne.io.read_raw_edf(file)\n"
          ],
          "name": "stderr"
        },
        {
          "output_type": "stream",
          "text": [
            "Extracting EDF parameters from C:\\Users\\usr1\\Documents\\NMA Project\\sub-14\\eeg\\sub-14_task-genMusic03_eeg.edf...\n",
            "EDF file detected\n",
            "Setting channel info structure...\n",
            "Creating raw.info structure...\n"
          ],
          "name": "stdout"
        },
        {
          "output_type": "stream",
          "text": [
            "<ipython-input-121-03c2439b3907>:4: RuntimeWarning: Physical range is not defined in following channels:\n",
            "sams_valence, sams_arousal, sams_valencert, sams_arousalrt, nback_stimuli, nback_keypress\n",
            "  data = mne.io.read_raw_edf(file)\n"
          ],
          "name": "stderr"
        },
        {
          "output_type": "stream",
          "text": [
            "Extracting EDF parameters from C:\\Users\\usr1\\Documents\\NMA Project\\sub-14\\eeg\\sub-14_task-washout_eeg.edf...\n",
            "EDF file detected\n",
            "Setting channel info structure...\n",
            "Creating raw.info structure...\n",
            "Extracting EDF parameters from C:\\Users\\usr1\\Documents\\NMA Project\\sub-15\\eeg\\sub-15_task-classicalMusic_eeg.edf...\n",
            "EDF file detected\n",
            "Setting channel info structure...\n",
            "Creating raw.info structure...\n"
          ],
          "name": "stdout"
        },
        {
          "output_type": "stream",
          "text": [
            "<ipython-input-121-03c2439b3907>:4: RuntimeWarning: Physical range is not defined in following channels:\n",
            "ft_valance, ft_arousal, ft_x, ft_y, ft_ghostvalence, ft_ghostarousal, music, trialtype, sams_valence, sams_arousal, sams_valencert, sams_arousalrt\n",
            "  data = mne.io.read_raw_edf(file)\n",
            "<ipython-input-121-03c2439b3907>:4: RuntimeWarning: Physical range is not defined in following channels:\n",
            "sams_valence, sams_arousal, sams_valencert, sams_arousalrt, nback_stimuli, nback_keypress\n",
            "  data = mne.io.read_raw_edf(file)\n"
          ],
          "name": "stderr"
        },
        {
          "output_type": "stream",
          "text": [
            "Extracting EDF parameters from C:\\Users\\usr1\\Documents\\NMA Project\\sub-15\\eeg\\sub-15_task-genMusic01_eeg.edf...\n",
            "EDF file detected\n",
            "Setting channel info structure...\n",
            "Creating raw.info structure...\n"
          ],
          "name": "stdout"
        },
        {
          "output_type": "stream",
          "text": [
            "<ipython-input-121-03c2439b3907>:4: RuntimeWarning: Physical range is not defined in following channels:\n",
            "ft_ghostvalence, ft_ghostarousal, sams_valence, sams_arousal, sams_valencert, sams_arousalrt, nback_stimuli, nback_keypress\n",
            "  data = mne.io.read_raw_edf(file)\n"
          ],
          "name": "stderr"
        },
        {
          "output_type": "stream",
          "text": [
            "Extracting EDF parameters from C:\\Users\\usr1\\Documents\\NMA Project\\sub-15\\eeg\\sub-15_task-genMusic02_eeg.edf...\n",
            "EDF file detected\n",
            "Setting channel info structure...\n",
            "Creating raw.info structure...\n"
          ],
          "name": "stdout"
        },
        {
          "output_type": "stream",
          "text": [
            "<ipython-input-121-03c2439b3907>:4: RuntimeWarning: Physical range is not defined in following channels:\n",
            "sams_valence, sams_arousal, sams_valencert, sams_arousalrt, nback_stimuli, nback_keypress\n",
            "  data = mne.io.read_raw_edf(file)\n"
          ],
          "name": "stderr"
        },
        {
          "output_type": "stream",
          "text": [
            "Extracting EDF parameters from C:\\Users\\usr1\\Documents\\NMA Project\\sub-15\\eeg\\sub-15_task-genMusic03_eeg.edf...\n",
            "EDF file detected\n",
            "Setting channel info structure...\n",
            "Creating raw.info structure...\n"
          ],
          "name": "stdout"
        },
        {
          "output_type": "stream",
          "text": [
            "<ipython-input-121-03c2439b3907>:4: RuntimeWarning: Physical range is not defined in following channels:\n",
            "sams_valence, sams_arousal, sams_valencert, sams_arousalrt, nback_stimuli, nback_keypress\n",
            "  data = mne.io.read_raw_edf(file)\n"
          ],
          "name": "stderr"
        },
        {
          "output_type": "stream",
          "text": [
            "Extracting EDF parameters from C:\\Users\\usr1\\Documents\\NMA Project\\sub-15\\eeg\\sub-15_task-washout_eeg.edf...\n",
            "EDF file detected\n",
            "Setting channel info structure...\n",
            "Creating raw.info structure...\n",
            "Extracting EDF parameters from C:\\Users\\usr1\\Documents\\NMA Project\\sub-16\\eeg\\sub-16_task-classicalMusic_eeg.edf...\n",
            "EDF file detected\n"
          ],
          "name": "stdout"
        },
        {
          "output_type": "stream",
          "text": [
            "<ipython-input-121-03c2439b3907>:4: RuntimeWarning: Physical range is not defined in following channels:\n",
            "ft_valance, ft_arousal, ft_x, ft_y, ft_ghostvalence, ft_ghostarousal, music, trialtype, sams_valence, sams_arousal, sams_valencert, sams_arousalrt\n",
            "  data = mne.io.read_raw_edf(file)\n"
          ],
          "name": "stderr"
        },
        {
          "output_type": "stream",
          "text": [
            "Setting channel info structure...\n",
            "Creating raw.info structure...\n"
          ],
          "name": "stdout"
        },
        {
          "output_type": "stream",
          "text": [
            "<ipython-input-121-03c2439b3907>:4: RuntimeWarning: Physical range is not defined in following channels:\n",
            "sams_valence, sams_arousal, sams_valencert, sams_arousalrt, nback_stimuli, nback_keypress\n",
            "  data = mne.io.read_raw_edf(file)\n"
          ],
          "name": "stderr"
        },
        {
          "output_type": "stream",
          "text": [
            "Extracting EDF parameters from C:\\Users\\usr1\\Documents\\NMA Project\\sub-16\\eeg\\sub-16_task-genMusic01_eeg.edf...\n",
            "EDF file detected\n",
            "Setting channel info structure...\n",
            "Creating raw.info structure...\n"
          ],
          "name": "stdout"
        },
        {
          "output_type": "stream",
          "text": [
            "<ipython-input-121-03c2439b3907>:4: RuntimeWarning: Physical range is not defined in following channels:\n",
            "sams_valence, sams_arousal, sams_valencert, sams_arousalrt, nback_stimuli, nback_keypress\n",
            "  data = mne.io.read_raw_edf(file)\n"
          ],
          "name": "stderr"
        },
        {
          "output_type": "stream",
          "text": [
            "Extracting EDF parameters from C:\\Users\\usr1\\Documents\\NMA Project\\sub-16\\eeg\\sub-16_task-genMusic02_eeg.edf...\n",
            "EDF file detected\n",
            "Setting channel info structure...\n",
            "Creating raw.info structure...\n"
          ],
          "name": "stdout"
        },
        {
          "output_type": "stream",
          "text": [
            "<ipython-input-121-03c2439b3907>:4: RuntimeWarning: Physical range is not defined in following channels:\n",
            "sams_valence, sams_arousal, sams_valencert, sams_arousalrt, nback_stimuli, nback_keypress\n",
            "  data = mne.io.read_raw_edf(file)\n"
          ],
          "name": "stderr"
        },
        {
          "output_type": "stream",
          "text": [
            "Extracting EDF parameters from C:\\Users\\usr1\\Documents\\NMA Project\\sub-16\\eeg\\sub-16_task-genMusic03_eeg.edf...\n",
            "EDF file detected\n",
            "Setting channel info structure...\n",
            "Creating raw.info structure...\n"
          ],
          "name": "stdout"
        },
        {
          "output_type": "stream",
          "text": [
            "<ipython-input-121-03c2439b3907>:4: RuntimeWarning: Physical range is not defined in following channels:\n",
            "sams_valence, sams_arousal, sams_valencert, sams_arousalrt, nback_stimuli, nback_keypress\n",
            "  data = mne.io.read_raw_edf(file)\n"
          ],
          "name": "stderr"
        },
        {
          "output_type": "stream",
          "text": [
            "Extracting EDF parameters from C:\\Users\\usr1\\Documents\\NMA Project\\sub-16\\eeg\\sub-16_task-washout_eeg.edf...\n",
            "EDF file detected\n",
            "Setting channel info structure...\n",
            "Creating raw.info structure...\n"
          ],
          "name": "stdout"
        },
        {
          "output_type": "stream",
          "text": [
            "<ipython-input-121-03c2439b3907>:4: RuntimeWarning: Physical range is not defined in following channels:\n",
            "ft_valance, ft_arousal, ft_x, ft_y, ft_ghostvalence, ft_ghostarousal, music, trialtype, sams_valence, sams_arousal, sams_valencert, sams_arousalrt\n",
            "  data = mne.io.read_raw_edf(file)\n"
          ],
          "name": "stderr"
        },
        {
          "output_type": "stream",
          "text": [
            "Extracting EDF parameters from C:\\Users\\usr1\\Documents\\NMA Project\\sub-17\\eeg\\sub-17_task-classicalMusic_eeg.edf...\n",
            "EDF file detected\n",
            "Setting channel info structure...\n",
            "Creating raw.info structure...\n"
          ],
          "name": "stdout"
        },
        {
          "output_type": "stream",
          "text": [
            "<ipython-input-121-03c2439b3907>:4: RuntimeWarning: Physical range is not defined in following channels:\n",
            "sams_valence, sams_arousal, sams_valencert, sams_arousalrt, nback_stimuli, nback_keypress\n",
            "  data = mne.io.read_raw_edf(file)\n"
          ],
          "name": "stderr"
        },
        {
          "output_type": "stream",
          "text": [
            "Extracting EDF parameters from C:\\Users\\usr1\\Documents\\NMA Project\\sub-17\\eeg\\sub-17_task-genMusic01_eeg.edf...\n",
            "EDF file detected\n",
            "Setting channel info structure...\n",
            "Creating raw.info structure...\n"
          ],
          "name": "stdout"
        },
        {
          "output_type": "stream",
          "text": [
            "<ipython-input-121-03c2439b3907>:4: RuntimeWarning: Physical range is not defined in following channels:\n",
            "ft_ghostvalence, ft_ghostarousal, sams_valence, sams_arousal, sams_valencert, sams_arousalrt, nback_stimuli, nback_keypress\n",
            "  data = mne.io.read_raw_edf(file)\n"
          ],
          "name": "stderr"
        },
        {
          "output_type": "stream",
          "text": [
            "Extracting EDF parameters from C:\\Users\\usr1\\Documents\\NMA Project\\sub-17\\eeg\\sub-17_task-genMusic02_eeg.edf...\n",
            "EDF file detected\n",
            "Setting channel info structure...\n",
            "Creating raw.info structure...\n"
          ],
          "name": "stdout"
        },
        {
          "output_type": "stream",
          "text": [
            "<ipython-input-121-03c2439b3907>:4: RuntimeWarning: Physical range is not defined in following channels:\n",
            "sams_valence, sams_arousal, sams_valencert, sams_arousalrt, nback_stimuli, nback_keypress\n",
            "  data = mne.io.read_raw_edf(file)\n"
          ],
          "name": "stderr"
        },
        {
          "output_type": "stream",
          "text": [
            "Extracting EDF parameters from C:\\Users\\usr1\\Documents\\NMA Project\\sub-17\\eeg\\sub-17_task-genMusic03_eeg.edf...\n",
            "EDF file detected\n",
            "Setting channel info structure...\n",
            "Creating raw.info structure...\n"
          ],
          "name": "stdout"
        },
        {
          "output_type": "stream",
          "text": [
            "<ipython-input-121-03c2439b3907>:4: RuntimeWarning: Physical range is not defined in following channels:\n",
            "sams_valence, sams_arousal, sams_valencert, sams_arousalrt, nback_stimuli, nback_keypress\n",
            "  data = mne.io.read_raw_edf(file)\n"
          ],
          "name": "stderr"
        },
        {
          "output_type": "stream",
          "text": [
            "Extracting EDF parameters from C:\\Users\\usr1\\Documents\\NMA Project\\sub-17\\eeg\\sub-17_task-washout_eeg.edf...\n",
            "EDF file detected\n",
            "Setting channel info structure...\n",
            "Creating raw.info structure...\n",
            "Extracting EDF parameters from C:\\Users\\usr1\\Documents\\NMA Project\\sub-18\\eeg\\sub-18_task-classicalMusic_eeg.edf...\n",
            "EDF file detected\n"
          ],
          "name": "stdout"
        },
        {
          "output_type": "stream",
          "text": [
            "<ipython-input-121-03c2439b3907>:4: RuntimeWarning: Physical range is not defined in following channels:\n",
            "ft_valance, ft_arousal, ft_x, ft_y, ft_ghostvalence, ft_ghostarousal, music, trialtype, sams_valence, sams_arousal, sams_valencert, sams_arousalrt\n",
            "  data = mne.io.read_raw_edf(file)\n",
            "<ipython-input-121-03c2439b3907>:4: RuntimeWarning: Physical range is not defined in following channels:\n",
            "sams_valence, sams_arousal, sams_valencert, sams_arousalrt, nback_stimuli, nback_keypress\n",
            "  data = mne.io.read_raw_edf(file)\n"
          ],
          "name": "stderr"
        },
        {
          "output_type": "stream",
          "text": [
            "Setting channel info structure...\n",
            "Creating raw.info structure...\n",
            "Extracting EDF parameters from C:\\Users\\usr1\\Documents\\NMA Project\\sub-18\\eeg\\sub-18_task-genMusic01_eeg.edf...\n",
            "EDF file detected\n",
            "Setting channel info structure...\n",
            "Creating raw.info structure...\n"
          ],
          "name": "stdout"
        },
        {
          "output_type": "stream",
          "text": [
            "<ipython-input-121-03c2439b3907>:4: RuntimeWarning: Physical range is not defined in following channels:\n",
            "sams_valence, sams_arousal, sams_valencert, sams_arousalrt, nback_stimuli, nback_keypress\n",
            "  data = mne.io.read_raw_edf(file)\n"
          ],
          "name": "stderr"
        },
        {
          "output_type": "stream",
          "text": [
            "Extracting EDF parameters from C:\\Users\\usr1\\Documents\\NMA Project\\sub-18\\eeg\\sub-18_task-genMusic02_eeg.edf...\n",
            "EDF file detected\n",
            "Setting channel info structure...\n",
            "Creating raw.info structure...\n"
          ],
          "name": "stdout"
        },
        {
          "output_type": "stream",
          "text": [
            "<ipython-input-121-03c2439b3907>:4: RuntimeWarning: Physical range is not defined in following channels:\n",
            "sams_valence, sams_arousal, sams_valencert, sams_arousalrt, nback_stimuli, nback_keypress\n",
            "  data = mne.io.read_raw_edf(file)\n"
          ],
          "name": "stderr"
        },
        {
          "output_type": "stream",
          "text": [
            "Extracting EDF parameters from C:\\Users\\usr1\\Documents\\NMA Project\\sub-18\\eeg\\sub-18_task-genMusic03_eeg.edf...\n",
            "EDF file detected\n",
            "Setting channel info structure...\n",
            "Creating raw.info structure...\n"
          ],
          "name": "stdout"
        },
        {
          "output_type": "stream",
          "text": [
            "<ipython-input-121-03c2439b3907>:4: RuntimeWarning: Physical range is not defined in following channels:\n",
            "sams_valence, sams_arousal, sams_valencert, sams_arousalrt, nback_stimuli, nback_keypress\n",
            "  data = mne.io.read_raw_edf(file)\n"
          ],
          "name": "stderr"
        },
        {
          "output_type": "stream",
          "text": [
            "Extracting EDF parameters from C:\\Users\\usr1\\Documents\\NMA Project\\sub-18\\eeg\\sub-18_task-washout_eeg.edf...\n",
            "EDF file detected\n",
            "Setting channel info structure...\n",
            "Creating raw.info structure...\n",
            "Extracting EDF parameters from C:\\Users\\usr1\\Documents\\NMA Project\\sub-19\\eeg\\sub-19_task-classicalMusic_eeg.edf...\n",
            "EDF file detected\n",
            "Setting channel info structure...\n"
          ],
          "name": "stdout"
        },
        {
          "output_type": "stream",
          "text": [
            "<ipython-input-121-03c2439b3907>:4: RuntimeWarning: Physical range is not defined in following channels:\n",
            "ft_valance, ft_arousal, ft_x, ft_y, ft_ghostvalence, ft_ghostarousal, music, trialtype, sams_valence, sams_arousal, sams_valencert, sams_arousalrt\n",
            "  data = mne.io.read_raw_edf(file)\n",
            "<ipython-input-121-03c2439b3907>:4: RuntimeWarning: Physical range is not defined in following channels:\n",
            "sams_valence, sams_arousal, sams_valencert, sams_arousalrt, nback_stimuli, nback_keypress\n",
            "  data = mne.io.read_raw_edf(file)\n"
          ],
          "name": "stderr"
        },
        {
          "output_type": "stream",
          "text": [
            "Creating raw.info structure...\n",
            "Extracting EDF parameters from C:\\Users\\usr1\\Documents\\NMA Project\\sub-19\\eeg\\sub-19_task-genMusic01_eeg.edf...\n",
            "EDF file detected\n",
            "Setting channel info structure...\n",
            "Creating raw.info structure...\n"
          ],
          "name": "stdout"
        },
        {
          "output_type": "stream",
          "text": [
            "<ipython-input-121-03c2439b3907>:4: RuntimeWarning: Physical range is not defined in following channels:\n",
            "sams_valence, sams_arousal, sams_valencert, sams_arousalrt, nback_stimuli, nback_keypress\n",
            "  data = mne.io.read_raw_edf(file)\n"
          ],
          "name": "stderr"
        },
        {
          "output_type": "stream",
          "text": [
            "Extracting EDF parameters from C:\\Users\\usr1\\Documents\\NMA Project\\sub-19\\eeg\\sub-19_task-genMusic02_eeg.edf...\n",
            "EDF file detected\n",
            "Setting channel info structure...\n",
            "Creating raw.info structure...\n"
          ],
          "name": "stdout"
        },
        {
          "output_type": "stream",
          "text": [
            "<ipython-input-121-03c2439b3907>:4: RuntimeWarning: Physical range is not defined in following channels:\n",
            "sams_valence, sams_arousal, sams_valencert, sams_arousalrt, nback_stimuli, nback_keypress\n",
            "  data = mne.io.read_raw_edf(file)\n"
          ],
          "name": "stderr"
        },
        {
          "output_type": "stream",
          "text": [
            "Extracting EDF parameters from C:\\Users\\usr1\\Documents\\NMA Project\\sub-19\\eeg\\sub-19_task-genMusic03_eeg.edf...\n",
            "EDF file detected\n",
            "Setting channel info structure...\n",
            "Creating raw.info structure...\n"
          ],
          "name": "stdout"
        },
        {
          "output_type": "stream",
          "text": [
            "<ipython-input-121-03c2439b3907>:4: RuntimeWarning: Physical range is not defined in following channels:\n",
            "sams_valence, sams_arousal, sams_valencert, sams_arousalrt, nback_stimuli, nback_keypress\n",
            "  data = mne.io.read_raw_edf(file)\n"
          ],
          "name": "stderr"
        },
        {
          "output_type": "stream",
          "text": [
            "Extracting EDF parameters from C:\\Users\\usr1\\Documents\\NMA Project\\sub-19\\eeg\\sub-19_task-washout_eeg.edf...\n",
            "EDF file detected\n",
            "Setting channel info structure...\n",
            "Creating raw.info structure...\n",
            "Extracting EDF parameters from C:\\Users\\usr1\\Documents\\NMA Project\\sub-20\\eeg\\sub-20_task-classicalMusic_eeg.edf...\n",
            "EDF file detected\n",
            "Setting channel info structure...\n",
            "Creating raw.info structure...\n"
          ],
          "name": "stdout"
        },
        {
          "output_type": "stream",
          "text": [
            "<ipython-input-121-03c2439b3907>:4: RuntimeWarning: Physical range is not defined in following channels:\n",
            "ft_valance, ft_arousal, ft_x, ft_y, ft_ghostvalence, ft_ghostarousal, music, trialtype, sams_valence, sams_arousal, sams_valencert, sams_arousalrt\n",
            "  data = mne.io.read_raw_edf(file)\n",
            "<ipython-input-121-03c2439b3907>:4: RuntimeWarning: Physical range is not defined in following channels:\n",
            "sams_valence, sams_arousal, sams_valencert, sams_arousalrt, nback_stimuli, nback_keypress\n",
            "  data = mne.io.read_raw_edf(file)\n"
          ],
          "name": "stderr"
        },
        {
          "output_type": "stream",
          "text": [
            "Extracting EDF parameters from C:\\Users\\usr1\\Documents\\NMA Project\\sub-20\\eeg\\sub-20_task-genMusic01_eeg.edf...\n",
            "EDF file detected\n",
            "Setting channel info structure...\n",
            "Creating raw.info structure...\n"
          ],
          "name": "stdout"
        },
        {
          "output_type": "stream",
          "text": [
            "<ipython-input-121-03c2439b3907>:4: RuntimeWarning: Physical range is not defined in following channels:\n",
            "sams_valence, sams_arousal, sams_valencert, sams_arousalrt, nback_stimuli, nback_keypress\n",
            "  data = mne.io.read_raw_edf(file)\n"
          ],
          "name": "stderr"
        },
        {
          "output_type": "stream",
          "text": [
            "Extracting EDF parameters from C:\\Users\\usr1\\Documents\\NMA Project\\sub-20\\eeg\\sub-20_task-genMusic02_eeg.edf...\n",
            "EDF file detected\n",
            "Setting channel info structure...\n",
            "Creating raw.info structure...\n"
          ],
          "name": "stdout"
        },
        {
          "output_type": "stream",
          "text": [
            "<ipython-input-121-03c2439b3907>:4: RuntimeWarning: Physical range is not defined in following channels:\n",
            "sams_valence, sams_arousal, sams_valencert, sams_arousalrt, nback_stimuli, nback_keypress\n",
            "  data = mne.io.read_raw_edf(file)\n"
          ],
          "name": "stderr"
        },
        {
          "output_type": "stream",
          "text": [
            "Extracting EDF parameters from C:\\Users\\usr1\\Documents\\NMA Project\\sub-20\\eeg\\sub-20_task-genMusic03_eeg.edf...\n",
            "EDF file detected\n",
            "Setting channel info structure...\n",
            "Creating raw.info structure...\n"
          ],
          "name": "stdout"
        },
        {
          "output_type": "stream",
          "text": [
            "<ipython-input-121-03c2439b3907>:4: RuntimeWarning: Physical range is not defined in following channels:\n",
            "sams_valence, sams_arousal, sams_valencert, sams_arousalrt, nback_stimuli, nback_keypress\n",
            "  data = mne.io.read_raw_edf(file)\n"
          ],
          "name": "stderr"
        },
        {
          "output_type": "stream",
          "text": [
            "Extracting EDF parameters from C:\\Users\\usr1\\Documents\\NMA Project\\sub-20\\eeg\\sub-20_task-washout_eeg.edf...\n",
            "EDF file detected\n",
            "Setting channel info structure...\n",
            "Creating raw.info structure...\n",
            "Extracting EDF parameters from C:\\Users\\usr1\\Documents\\NMA Project\\sub-21\\eeg\\sub-21_task-classicalMusic_eeg.edf...\n",
            "EDF file detected\n",
            "Setting channel info structure...\n",
            "Creating raw.info structure...\n"
          ],
          "name": "stdout"
        },
        {
          "output_type": "stream",
          "text": [
            "<ipython-input-121-03c2439b3907>:4: RuntimeWarning: Physical range is not defined in following channels:\n",
            "ft_valance, ft_arousal, ft_x, ft_y, ft_ghostvalence, ft_ghostarousal, music, trialtype, sams_valence, sams_arousal, sams_valencert, sams_arousalrt\n",
            "  data = mne.io.read_raw_edf(file)\n",
            "<ipython-input-121-03c2439b3907>:4: RuntimeWarning: Physical range is not defined in following channels:\n",
            "sams_valence, sams_arousal, sams_valencert, sams_arousalrt, nback_stimuli, nback_keypress\n",
            "  data = mne.io.read_raw_edf(file)\n"
          ],
          "name": "stderr"
        },
        {
          "output_type": "stream",
          "text": [
            "Extracting EDF parameters from C:\\Users\\usr1\\Documents\\NMA Project\\sub-21\\eeg\\sub-21_task-genMusic01_eeg.edf...\n",
            "EDF file detected\n",
            "Setting channel info structure...\n",
            "Creating raw.info structure...\n"
          ],
          "name": "stdout"
        },
        {
          "output_type": "stream",
          "text": [
            "<ipython-input-121-03c2439b3907>:4: RuntimeWarning: Physical range is not defined in following channels:\n",
            "sams_valence, sams_arousal, sams_valencert, sams_arousalrt, nback_stimuli, nback_keypress\n",
            "  data = mne.io.read_raw_edf(file)\n"
          ],
          "name": "stderr"
        },
        {
          "output_type": "stream",
          "text": [
            "Extracting EDF parameters from C:\\Users\\usr1\\Documents\\NMA Project\\sub-21\\eeg\\sub-21_task-genMusic02_eeg.edf...\n",
            "EDF file detected\n",
            "Setting channel info structure...\n",
            "Creating raw.info structure...\n"
          ],
          "name": "stdout"
        },
        {
          "output_type": "stream",
          "text": [
            "<ipython-input-121-03c2439b3907>:4: RuntimeWarning: Physical range is not defined in following channels:\n",
            "sams_valence, sams_arousal, sams_valencert, sams_arousalrt, nback_stimuli, nback_keypress\n",
            "  data = mne.io.read_raw_edf(file)\n"
          ],
          "name": "stderr"
        },
        {
          "output_type": "stream",
          "text": [
            "Extracting EDF parameters from C:\\Users\\usr1\\Documents\\NMA Project\\sub-21\\eeg\\sub-21_task-genMusic03_eeg.edf...\n",
            "EDF file detected\n",
            "Setting channel info structure...\n",
            "Creating raw.info structure...\n"
          ],
          "name": "stdout"
        },
        {
          "output_type": "stream",
          "text": [
            "<ipython-input-121-03c2439b3907>:4: RuntimeWarning: Physical range is not defined in following channels:\n",
            "sams_valence, sams_arousal, sams_valencert, sams_arousalrt, nback_stimuli, nback_keypress\n",
            "  data = mne.io.read_raw_edf(file)\n"
          ],
          "name": "stderr"
        },
        {
          "output_type": "stream",
          "text": [
            "Extracting EDF parameters from C:\\Users\\usr1\\Documents\\NMA Project\\sub-21\\eeg\\sub-21_task-washout_eeg.edf...\n",
            "EDF file detected\n",
            "Setting channel info structure...\n",
            "Creating raw.info structure...\n"
          ],
          "name": "stdout"
        },
        {
          "output_type": "stream",
          "text": [
            "<ipython-input-121-03c2439b3907>:4: RuntimeWarning: Physical range is not defined in following channels:\n",
            "ft_valance, ft_arousal, ft_x, ft_y, ft_ghostvalence, ft_ghostarousal, music, trialtype, sams_valence, sams_arousal, sams_valencert, sams_arousalrt\n",
            "  data = mne.io.read_raw_edf(file)\n"
          ],
          "name": "stderr"
        }
      ]
    },
    {
      "cell_type": "code",
      "metadata": {
        "id": "tMjjHIAW3vVY"
      },
      "source": [
        "data_dic = {'classification': file_classifications,\n",
        "            'eeg_spectra': eeg_data,\n",
        "            'frequencies': xf[0]}"
      ],
      "execution_count": null,
      "outputs": []
    },
    {
      "cell_type": "code",
      "metadata": {
        "id": "34PtoDGO3vVZ",
        "outputId": "dc4967d8-a806-4660-c1ca-b519c7a263ef"
      },
      "source": [
        "len(data_dic['eeg_spectra'][0][1][0])"
      ],
      "execution_count": null,
      "outputs": [
        {
          "output_type": "execute_result",
          "data": {
            "text/plain": [
              "1919"
            ]
          },
          "metadata": {
            "tags": []
          },
          "execution_count": 132
        }
      ]
    },
    {
      "cell_type": "code",
      "metadata": {
        "id": "_z_UxdeD3vVa",
        "outputId": "76acded9-7ad2-4686-b0f7-72ce4625a242"
      },
      "source": [
        "len(data_dic['frequencies'])"
      ],
      "execution_count": null,
      "outputs": [
        {
          "output_type": "execute_result",
          "data": {
            "text/plain": [
              "1919"
            ]
          },
          "metadata": {
            "tags": []
          },
          "execution_count": 134
        }
      ]
    },
    {
      "cell_type": "code",
      "metadata": {
        "id": "jqU0E6Aw3vVb"
      },
      "source": [
        "import pickle\n",
        "\n",
        "#saving data\n",
        "with open('data_for_model.pickle', 'wb') as handle:\n",
        "    pickle.dump(data_dic, handle, protocol=pickle.HIGHEST_PROTOCOL)\n",
        "\n",
        "#reading data\n",
        "with open('data_for_model.pickle', 'rb') as handle:\n",
        "    test = pickle.load(handle)"
      ],
      "execution_count": null,
      "outputs": []
    },
    {
      "cell_type": "code",
      "metadata": {
        "id": "pyINP_bz3vVb",
        "outputId": "80d88455-2827-4014-fa0f-495703bd752e"
      },
      "source": [
        "test"
      ],
      "execution_count": null,
      "outputs": [
        {
          "output_type": "execute_result",
          "data": {
            "text/plain": [
              "{'classification': [['./sub-01/eeg/sub-01_task-genMusic01_eeg.edf',\n",
              "   'generated'],\n",
              "  ['./sub-01/eeg/sub-01_task-genMusic02_eeg.edf', 'generated'],\n",
              "  ['./sub-01/eeg/sub-01_task-genMusic03_eeg.edf', 'generated'],\n",
              "  ['./sub-02/eeg/sub-02_task-genMusic01_eeg.edf', 'generated'],\n",
              "  ['./sub-02/eeg/sub-02_task-genMusic02_eeg.edf', 'generated'],\n",
              "  ['./sub-02/eeg/sub-02_task-genMusic03_eeg.edf', 'generated'],\n",
              "  ['./sub-03/eeg/sub-03_task-genMusic01_eeg.edf', 'generated'],\n",
              "  ['./sub-03/eeg/sub-03_task-genMusic02_eeg.edf', 'generated'],\n",
              "  ['./sub-03/eeg/sub-03_task-genMusic03_eeg.edf', 'generated'],\n",
              "  ['./sub-04/eeg/sub-04_task-genMusic01_eeg.edf', 'generated'],\n",
              "  ['./sub-04/eeg/sub-04_task-genMusic02_eeg.edf', 'generated'],\n",
              "  ['./sub-04/eeg/sub-04_task-genMusic03_eeg.edf', 'generated'],\n",
              "  ['./sub-05/eeg/sub-05_task-genMusic01_eeg.edf', 'generated'],\n",
              "  ['./sub-05/eeg/sub-05_task-genMusic02_eeg.edf', 'generated'],\n",
              "  ['./sub-05/eeg/sub-05_task-genMusic03_eeg.edf', 'generated'],\n",
              "  ['./sub-06/eeg/sub-06_task-genMusic01_eeg.edf', 'generated'],\n",
              "  ['./sub-06/eeg/sub-06_task-genMusic02_eeg.edf', 'generated'],\n",
              "  ['./sub-06/eeg/sub-06_task-genMusic03_eeg.edf', 'generated'],\n",
              "  ['./sub-07/eeg/sub-07_task-genMusic01_eeg.edf', 'generated'],\n",
              "  ['./sub-07/eeg/sub-07_task-genMusic02_eeg.edf', 'generated'],\n",
              "  ['./sub-07/eeg/sub-07_task-genMusic03_eeg.edf', 'generated'],\n",
              "  ['./sub-08/eeg/sub-08_task-genMusic01_eeg.edf', 'generated'],\n",
              "  ['./sub-08/eeg/sub-08_task-genMusic02_eeg.edf', 'generated'],\n",
              "  ['./sub-08/eeg/sub-08_task-genMusic03_eeg.edf', 'generated'],\n",
              "  ['./sub-09/eeg/sub-09_task-genMusic01_eeg.edf', 'generated'],\n",
              "  ['./sub-09/eeg/sub-09_task-genMusic02_eeg.edf', 'generated'],\n",
              "  ['./sub-09/eeg/sub-09_task-genMusic03_eeg.edf', 'generated'],\n",
              "  ['./sub-10/eeg/sub-10_task-genMusic01_eeg.edf', 'generated'],\n",
              "  ['./sub-10/eeg/sub-10_task-genMusic02_eeg.edf', 'generated'],\n",
              "  ['./sub-10/eeg/sub-10_task-genMusic03_eeg.edf', 'generated'],\n",
              "  ['./sub-11/eeg/sub-11_task-genMusic01_eeg.edf', 'generated'],\n",
              "  ['./sub-11/eeg/sub-11_task-genMusic02_eeg.edf', 'generated'],\n",
              "  ['./sub-11/eeg/sub-11_task-genMusic03_eeg.edf', 'generated'],\n",
              "  ['./sub-12/eeg/sub-12_task-genMusic01_eeg.edf', 'generated'],\n",
              "  ['./sub-12/eeg/sub-12_task-genMusic02_eeg.edf', 'generated'],\n",
              "  ['./sub-12/eeg/sub-12_task-genMusic03_eeg.edf', 'generated'],\n",
              "  ['./sub-13/eeg/sub-13_task-genMusic01_eeg.edf', 'generated'],\n",
              "  ['./sub-13/eeg/sub-13_task-genMusic02_eeg.edf', 'generated'],\n",
              "  ['./sub-13/eeg/sub-13_task-genMusic03_eeg.edf', 'generated'],\n",
              "  ['./sub-14/eeg/sub-14_task-genMusic01_eeg.edf', 'generated'],\n",
              "  ['./sub-14/eeg/sub-14_task-genMusic02_eeg.edf', 'generated'],\n",
              "  ['./sub-14/eeg/sub-14_task-genMusic03_eeg.edf', 'generated'],\n",
              "  ['./sub-15/eeg/sub-15_task-genMusic01_eeg.edf', 'generated'],\n",
              "  ['./sub-15/eeg/sub-15_task-genMusic02_eeg.edf', 'generated'],\n",
              "  ['./sub-15/eeg/sub-15_task-genMusic03_eeg.edf', 'generated'],\n",
              "  ['./sub-16/eeg/sub-16_task-genMusic01_eeg.edf', 'generated'],\n",
              "  ['./sub-16/eeg/sub-16_task-genMusic02_eeg.edf', 'generated'],\n",
              "  ['./sub-16/eeg/sub-16_task-genMusic03_eeg.edf', 'generated'],\n",
              "  ['./sub-17/eeg/sub-17_task-genMusic01_eeg.edf', 'generated'],\n",
              "  ['./sub-17/eeg/sub-17_task-genMusic02_eeg.edf', 'generated'],\n",
              "  ['./sub-17/eeg/sub-17_task-genMusic03_eeg.edf', 'generated'],\n",
              "  ['./sub-18/eeg/sub-18_task-genMusic01_eeg.edf', 'generated'],\n",
              "  ['./sub-18/eeg/sub-18_task-genMusic02_eeg.edf', 'generated'],\n",
              "  ['./sub-18/eeg/sub-18_task-genMusic03_eeg.edf', 'generated'],\n",
              "  ['./sub-19/eeg/sub-19_task-genMusic01_eeg.edf', 'generated'],\n",
              "  ['./sub-19/eeg/sub-19_task-genMusic02_eeg.edf', 'generated'],\n",
              "  ['./sub-19/eeg/sub-19_task-genMusic03_eeg.edf', 'generated'],\n",
              "  ['./sub-20/eeg/sub-20_task-genMusic01_eeg.edf', 'generated'],\n",
              "  ['./sub-20/eeg/sub-20_task-genMusic02_eeg.edf', 'generated'],\n",
              "  ['./sub-20/eeg/sub-20_task-genMusic03_eeg.edf', 'generated'],\n",
              "  ['./sub-21/eeg/sub-21_task-genMusic01_eeg.edf', 'generated'],\n",
              "  ['./sub-21/eeg/sub-21_task-genMusic02_eeg.edf', 'generated'],\n",
              "  ['./sub-21/eeg/sub-21_task-genMusic03_eeg.edf', 'generated'],\n",
              "  ['./sub-01/eeg/sub-01_task-classicalMusic_eeg.edf', 'classical'],\n",
              "  ['./sub-02/eeg/sub-02_task-classicalMusic_eeg.edf', 'classical'],\n",
              "  ['./sub-03/eeg/sub-03_task-classicalMusic_eeg.edf', 'classical'],\n",
              "  ['./sub-04/eeg/sub-04_task-classicalMusic_eeg.edf', 'classical'],\n",
              "  ['./sub-05/eeg/sub-05_task-classicalMusic_eeg.edf', 'classical'],\n",
              "  ['./sub-06/eeg/sub-06_task-classicalMusic_eeg.edf', 'classical'],\n",
              "  ['./sub-07/eeg/sub-07_task-classicalMusic_eeg.edf', 'classical'],\n",
              "  ['./sub-08/eeg/sub-08_task-classicalMusic_eeg.edf', 'classical'],\n",
              "  ['./sub-09/eeg/sub-09_task-classicalMusic_eeg.edf', 'classical'],\n",
              "  ['./sub-10/eeg/sub-10_task-classicalMusic_eeg.edf', 'classical'],\n",
              "  ['./sub-11/eeg/sub-11_task-classicalMusic_eeg.edf', 'classical'],\n",
              "  ['./sub-12/eeg/sub-12_task-classicalMusic_eeg.edf', 'classical'],\n",
              "  ['./sub-13/eeg/sub-13_task-classicalMusic_eeg.edf', 'classical'],\n",
              "  ['./sub-14/eeg/sub-14_task-classicalMusic_eeg.edf', 'classical'],\n",
              "  ['./sub-15/eeg/sub-15_task-classicalMusic_eeg.edf', 'classical'],\n",
              "  ['./sub-16/eeg/sub-16_task-classicalMusic_eeg.edf', 'classical'],\n",
              "  ['./sub-17/eeg/sub-17_task-classicalMusic_eeg.edf', 'classical'],\n",
              "  ['./sub-18/eeg/sub-18_task-classicalMusic_eeg.edf', 'classical'],\n",
              "  ['./sub-19/eeg/sub-19_task-classicalMusic_eeg.edf', 'classical'],\n",
              "  ['./sub-20/eeg/sub-20_task-classicalMusic_eeg.edf', 'classical'],\n",
              "  ['./sub-21/eeg/sub-21_task-classicalMusic_eeg.edf', 'classical']],\n",
              " 'eeg_spectra': [['./sub-01/eeg/sub-01_task-classicalMusic_eeg.edf',\n",
              "   [array([0.02027287, 0.03214409, 0.03293867, ..., 0.00014879, 0.00014329,\n",
              "           0.00013889]),\n",
              "    array([9.47974975e-03, 2.04900169e-02, 3.69437339e-03, ...,\n",
              "           9.74228444e-06, 1.12612833e-05, 1.11367857e-05]),\n",
              "    array([4.21088457e-02, 3.16816366e-02, 1.90667023e-02, ...,\n",
              "           4.44646882e-05, 1.54680015e-04, 1.57050857e-04]),\n",
              "    array([3.18007678e-02, 1.46905064e-02, 3.58582370e-02, ...,\n",
              "           7.82745867e-05, 8.18122741e-05, 7.88462813e-05]),\n",
              "    array([3.78313657e-03, 5.57442512e-03, 3.40880648e-03, ...,\n",
              "           2.49389778e-05, 1.95402761e-05, 2.34202085e-05]),\n",
              "    array([1.29779265e-02, 1.11989489e-02, 1.31687981e-02, ...,\n",
              "           9.09786283e-05, 7.75515922e-05, 8.58045954e-05]),\n",
              "    array([2.02554369e-02, 1.24294075e-02, 2.70634500e-02, ...,\n",
              "           5.37255856e-06, 2.32812148e-05, 1.71780687e-06]),\n",
              "    array([1.86860899e-02, 1.45758822e-02, 1.83473304e-02, ...,\n",
              "           1.70104902e-05, 3.29208103e-05, 2.60300387e-05]),\n",
              "    array([0.03893097, 0.04945515, 0.02339912, ..., 0.00019026, 0.00023425,\n",
              "           0.00033115])]],\n",
              "  ['./sub-01/eeg/sub-01_task-genMusic01_eeg.edf',\n",
              "   [array([0.02676853, 0.03758436, 0.01519316, ..., 0.00030212, 0.00031139,\n",
              "           0.00031084]),\n",
              "    array([0.03764068, 0.02079211, 0.00945045, ..., 0.00015748, 0.00016451,\n",
              "           0.00016023]),\n",
              "    array([5.97214844e-02, 2.77852565e-02, 2.82569990e-02, ...,\n",
              "           4.20607723e-05, 4.75969137e-05, 4.86649267e-05]),\n",
              "    array([6.48677654e-02, 2.63551997e-02, 1.61004453e-02, ...,\n",
              "           7.39386322e-05, 7.35274967e-05, 6.78733863e-05]),\n",
              "    array([6.39683630e-03, 8.39505601e-03, 1.26121422e-03, ...,\n",
              "           4.24061502e-06, 2.79818188e-06, 5.27882649e-06]),\n",
              "    array([3.52815974e-02, 1.07564165e-02, 1.75924850e-02, ...,\n",
              "           1.31135330e-05, 7.88455849e-06, 8.46305030e-06]),\n",
              "    array([4.02564120e-02, 1.91099561e-02, 7.83422510e-03, ...,\n",
              "           2.06161229e-05, 2.51542292e-05, 2.32000451e-05]),\n",
              "    array([3.01524046e-02, 1.90253845e-02, 1.54603389e-02, ...,\n",
              "           4.80051898e-05, 5.40658132e-05, 5.38490554e-05]),\n",
              "    array([0.05062421, 0.00727876, 0.01131061, ..., 0.0002041 , 0.0001988 ,\n",
              "           0.00019285])]],\n",
              "  ['./sub-01/eeg/sub-01_task-genMusic02_eeg.edf',\n",
              "   [array([3.12368652e-02, 3.18730174e-02, 2.76046338e-02, ...,\n",
              "           8.39338721e-05, 8.81830804e-05, 8.10826440e-05]),\n",
              "    array([7.17757927e-03, 1.32949215e-02, 8.86696381e-03, ...,\n",
              "           4.09695818e-05, 4.29612728e-05, 5.08704245e-05]),\n",
              "    array([0.04061015, 0.03195806, 0.02445556, ..., 0.00012008, 0.00013587,\n",
              "           0.00015344]),\n",
              "    array([4.35254780e-02, 1.38267736e-02, 2.66568961e-02, ...,\n",
              "           3.65532701e-05, 3.63053492e-05, 4.00687004e-05]),\n",
              "    array([3.38537584e-03, 4.06262461e-03, 4.83562400e-03, ...,\n",
              "           2.10377129e-06, 4.78027224e-06, 3.33182556e-06]),\n",
              "    array([1.75644681e-02, 1.18791070e-02, 1.15834191e-02, ...,\n",
              "           7.30386072e-06, 9.44382994e-06, 1.14309984e-05]),\n",
              "    array([2.97962277e-02, 1.08643037e-02, 1.86086308e-02, ...,\n",
              "           2.49964671e-05, 3.07799915e-05, 2.60771410e-05]),\n",
              "    array([2.25595119e-02, 1.92066981e-02, 1.70371867e-02, ...,\n",
              "           7.06951459e-05, 6.74926603e-05, 7.20259857e-05]),\n",
              "    array([0.02803243, 0.03698855, 0.02751128, ..., 0.00014762, 0.0001344 ,\n",
              "           0.00013345])]],\n",
              "  ['./sub-01/eeg/sub-01_task-genMusic03_eeg.edf',\n",
              "   [array([0.07234911, 0.04970847, 0.05611716, ..., 0.00032485, 0.00032034,\n",
              "           0.00033147]),\n",
              "    array([4.04881586e-02, 4.91462637e-02, 3.73304093e-02, ...,\n",
              "           8.35170709e-05, 8.23103024e-05, 7.15561856e-05]),\n",
              "    array([0.08839653, 0.03481906, 0.04327909, ..., 0.00222477, 0.00222044,\n",
              "           0.00221313]),\n",
              "    array([0.03140356, 0.04697919, 0.01426341, ..., 0.00025589, 0.00026019,\n",
              "           0.00025399]),\n",
              "    array([1.45357478e-02, 1.07206295e-02, 1.26525027e-02, ...,\n",
              "           8.22198366e-05, 8.38599175e-05, 8.14417812e-05]),\n",
              "    array([0.00730955, 0.01455782, 0.01058099, ..., 0.00013321, 0.00013619,\n",
              "           0.00012399]),\n",
              "    array([0.04292993, 0.00755558, 0.02553229, ..., 0.0004436 , 0.00044467,\n",
              "           0.00043778]),\n",
              "    array([0.03244471, 0.0082335 , 0.01393849, ..., 0.00033867, 0.00033232,\n",
              "           0.00034362]),\n",
              "    array([0.09268134, 0.10244527, 0.08055965, ..., 0.00803431, 0.00828855,\n",
              "           0.00824611])]],\n",
              "  ['./sub-01/eeg/sub-01_task-washout_eeg.edf',\n",
              "   [array([4.96654856e-02, 2.11273753e-02, 4.46762632e-02, ...,\n",
              "           4.02380638e-05, 5.66452915e-05, 4.11322756e-05]),\n",
              "    array([4.46832008e-02, 7.43493845e-03, 4.47302150e-02, ...,\n",
              "           7.97564151e-05, 9.22243630e-05, 9.79340136e-05]),\n",
              "    array([0.01961717, 0.02372326, 0.0635147 , ..., 0.00504721, 0.00548658,\n",
              "           0.0044037 ]),\n",
              "    array([0.0137064 , 0.01782999, 0.03430122, ..., 0.0002353 , 0.00023703,\n",
              "           0.00025389]),\n",
              "    array([1.09179285e-02, 2.69725157e-03, 1.13645605e-02, ...,\n",
              "           6.41439080e-05, 6.28546092e-05, 6.14471920e-05]),\n",
              "    array([2.60009815e-03, 2.24481333e-02, 1.93283783e-02, ...,\n",
              "           2.36679973e-05, 1.19479322e-05, 9.59879608e-06]),\n",
              "    array([0.00662355, 0.01776246, 0.01197078, ..., 0.00015689, 0.00016243,\n",
              "           0.00016806]),\n",
              "    array([0.01307638, 0.02039666, 0.01353349, ..., 0.00011333, 0.00012772,\n",
              "           0.0001195 ]),\n",
              "    array([0.07478038, 0.03285478, 0.10546909, ..., 0.00901193, 0.01002402,\n",
              "           0.0092551 ])]],\n",
              "  ['./sub-02/eeg/sub-02_task-classicalMusic_eeg.edf',\n",
              "   [array([0.01270231, 0.04400897, 0.02737824, ..., 0.00021651, 0.00022379,\n",
              "           0.00022181]),\n",
              "    array([0.02619643, 0.00848278, 0.02780381, ..., 0.0002341 , 0.00023753,\n",
              "           0.00023379]),\n",
              "    array([1.64844871e-02, 6.99341225e-02, 4.52989142e-02, ...,\n",
              "           6.05006568e-05, 6.01244990e-05, 6.89804292e-05]),\n",
              "    array([0.02934415, 0.04945592, 0.04632458, ..., 0.00015294, 0.00015765,\n",
              "           0.00015976]),\n",
              "    array([3.80123940e-03, 9.47879646e-03, 7.16905399e-03, ...,\n",
              "           5.06353968e-05, 6.26669056e-05, 7.26803896e-05]),\n",
              "    array([0.00596797, 0.03301547, 0.02580095, ..., 0.00011111, 0.00012105,\n",
              "           0.00011835]),\n",
              "    array([0.01758991, 0.02502138, 0.01732849, ..., 0.00011292, 0.00011944,\n",
              "           0.00011473]),\n",
              "    array([0.00191677, 0.01894268, 0.01085572, ..., 0.00083189, 0.00079211,\n",
              "           0.00086885]),\n",
              "    array([0.0188193 , 0.01689819, 0.01951649, ..., 0.00088732, 0.00074266,\n",
              "           0.00082894])]],\n",
              "  ['./sub-02/eeg/sub-02_task-genMusic01_eeg.edf',\n",
              "   [array([5.33227640e-03, 2.40481450e-02, 1.98725032e-03, ...,\n",
              "           4.62940381e-05, 4.48112207e-05, 5.51215760e-05]),\n",
              "    array([8.11171371e-04, 2.57637955e-02, 1.55913054e-02, ...,\n",
              "           9.06147665e-05, 6.61127308e-05, 7.89338998e-05]),\n",
              "    array([7.01815740e-03, 5.22053486e-02, 3.23234654e-02, ...,\n",
              "           2.32428696e-05, 3.86895182e-05, 4.17265359e-05]),\n",
              "    array([1.42028828e-02, 3.01091276e-02, 1.85348862e-02, ...,\n",
              "           8.25536443e-05, 5.54756987e-05, 5.87025638e-05]),\n",
              "    array([2.77707028e-03, 1.07325177e-02, 4.13327993e-03, ...,\n",
              "           7.07323132e-05, 6.76328501e-05, 6.90864727e-05]),\n",
              "    array([2.58883086e-03, 2.79199978e-02, 1.02607806e-02, ...,\n",
              "           1.37055348e-04, 9.30300081e-05, 1.00992862e-04]),\n",
              "    array([0.00727878, 0.01136671, 0.01052339, ..., 0.00019736, 0.00012849,\n",
              "           0.00013876]),\n",
              "    array([0.00184123, 0.01630824, 0.00139504, ..., 0.0002571 , 0.00016493,\n",
              "           0.00017652]),\n",
              "    array([4.21345220e-03, 1.03118700e-02, 8.44669739e-03, ...,\n",
              "           1.12184130e-04, 6.80684429e-05, 7.96046224e-05])]],\n",
              "  ['./sub-02/eeg/sub-02_task-genMusic02_eeg.edf',\n",
              "   [array([0.06048945, 0.03273589, 0.02361593, ..., 0.00013353, 0.0001274 ,\n",
              "           0.00011704]),\n",
              "    array([4.51614992e-02, 1.21071316e-02, 1.50115214e-02, ...,\n",
              "           8.15360835e-05, 7.40354277e-05, 7.30618397e-05]),\n",
              "    array([0.07156079, 0.04031099, 0.02419456, ..., 0.00010685, 0.00010992,\n",
              "           0.00010513]),\n",
              "    array([0.04557454, 0.0063078 , 0.00786746, ..., 0.00011146, 0.00010851,\n",
              "           0.00011081]),\n",
              "    array([1.15632659e-02, 6.26777367e-03, 3.35886500e-03, ...,\n",
              "           2.00437616e-05, 1.86044130e-05, 2.13003406e-05]),\n",
              "    array([2.60690065e-02, 1.28011742e-02, 1.17577423e-02, ...,\n",
              "           6.41648109e-05, 5.76869399e-05, 5.53578501e-05]),\n",
              "    array([1.67354311e-02, 1.10223354e-02, 5.02747878e-03, ...,\n",
              "           2.63223763e-05, 2.08536715e-05, 2.39007238e-05]),\n",
              "    array([1.42363053e-02, 6.31375641e-03, 6.46920762e-03, ...,\n",
              "           5.78763047e-05, 5.28374299e-05, 5.25617987e-05]),\n",
              "    array([1.75112269e-02, 4.60594318e-03, 4.43212703e-03, ...,\n",
              "           7.90487720e-05, 7.41013472e-05, 7.21070626e-05])]],\n",
              "  ['./sub-02/eeg/sub-02_task-genMusic03_eeg.edf',\n",
              "   [array([1.31654466e-02, 1.71153813e-02, 1.31597827e-02, ...,\n",
              "           5.82878595e-05, 5.53896813e-05, 9.19635433e-05]),\n",
              "    array([2.64822526e-02, 1.62050311e-02, 1.30959947e-02, ...,\n",
              "           7.48041552e-05, 7.67321345e-05, 8.67859409e-05]),\n",
              "    array([3.55579557e-02, 4.72619780e-02, 2.61186051e-03, ...,\n",
              "           5.80654595e-06, 1.31299681e-05, 2.69061251e-05]),\n",
              "    array([4.83298365e-02, 3.47414142e-02, 1.61430888e-02, ...,\n",
              "           7.81777354e-05, 7.84368441e-05, 7.06415719e-05]),\n",
              "    array([4.44909613e-03, 6.34127291e-03, 2.21804658e-03, ...,\n",
              "           4.63465733e-05, 5.00830375e-05, 4.58791237e-05]),\n",
              "    array([1.54355358e-02, 1.98111313e-02, 7.74918376e-03, ...,\n",
              "           2.10932688e-05, 1.10613531e-05, 2.99436182e-05]),\n",
              "    array([2.39378481e-02, 1.47687100e-02, 2.40891397e-03, ...,\n",
              "           8.03066506e-05, 8.28765773e-05, 8.74750444e-05]),\n",
              "    array([5.02369889e-03, 8.77103622e-03, 1.94521690e-03, ...,\n",
              "           3.66562098e-05, 3.32718504e-05, 3.99917105e-05]),\n",
              "    array([2.01369487e-02, 1.20642288e-02, 7.56777392e-03, ...,\n",
              "           6.31107682e-05, 6.14608248e-05, 6.84090497e-05])]],\n",
              "  ['./sub-02/eeg/sub-02_task-washout_eeg.edf',\n",
              "   [array([0.0083873 , 0.03424697, 0.0171393 , ..., 0.00020132, 0.00020618,\n",
              "           0.00022307]),\n",
              "    array([0.01760762, 0.02788537, 0.01817206, ..., 0.00015781, 0.00016649,\n",
              "           0.0001824 ]),\n",
              "    array([9.52811070e-03, 2.06858533e-02, 1.05287008e-02, ...,\n",
              "           2.42072733e-05, 2.15551796e-05, 3.58271686e-05]),\n",
              "    array([1.89087325e-02, 1.05192037e-02, 1.29975075e-02, ...,\n",
              "           8.79468728e-06, 1.00094216e-05, 1.15512845e-05]),\n",
              "    array([7.67838486e-04, 7.61728755e-03, 2.17373551e-03, ...,\n",
              "           2.32482652e-05, 2.43122521e-05, 2.59270056e-05]),\n",
              "    array([0.00577418, 0.00594929, 0.00197068, ..., 0.00014901, 0.00013551,\n",
              "           0.00015559]),\n",
              "    array([1.02410354e-02, 4.27434894e-03, 8.99894756e-03, ...,\n",
              "           9.74882883e-05, 9.52293994e-05, 1.11429804e-04]),\n",
              "    array([3.12264246e-03, 1.32313606e-03, 2.36158091e-03, ...,\n",
              "           8.88565691e-05, 8.79386182e-05, 1.06545752e-04]),\n",
              "    array([0.01008042, 0.009129  , 0.00959458, ..., 0.00011785, 0.00011809,\n",
              "           0.00013191])]],\n",
              "  ['./sub-03/eeg/sub-03_task-classicalMusic_eeg.edf',\n",
              "   [array([0.14781784, 0.07437256, 0.05009296, ..., 0.00967804, 0.0099928 ,\n",
              "           0.01004631]),\n",
              "    array([0.08033143, 0.04928752, 0.04670096, ..., 0.00050626, 0.00050572,\n",
              "           0.00050995]),\n",
              "    array([0.31933041, 0.19879449, 0.07540648, ..., 0.02176528, 0.02175076,\n",
              "           0.02172084]),\n",
              "    array([0.22216913, 0.14610535, 0.07591001, ..., 0.01721211, 0.01734388,\n",
              "           0.01711037]),\n",
              "    array([0.04070794, 0.01843714, 0.00771923, ..., 0.00217322, 0.00210307,\n",
              "           0.00210562]),\n",
              "    array([0.18590093, 0.13423067, 0.06971636, ..., 0.01177932, 0.01173928,\n",
              "           0.01171537]),\n",
              "    array([0.13404205, 0.0838466 , 0.03492088, ..., 0.00955055, 0.00965173,\n",
              "           0.00965752]),\n",
              "    array([0.19265367, 0.11864553, 0.05766859, ..., 0.01331257, 0.01331272,\n",
              "           0.01329348]),\n",
              "    array([0.11691352, 0.08945311, 0.03040828, ..., 0.00826425, 0.00843435,\n",
              "           0.00845118])]],\n",
              "  ['./sub-03/eeg/sub-03_task-genMusic01_eeg.edf',\n",
              "   [array([0.06990139, 0.10705619, 0.06641343, ..., 0.00033993, 0.00033672,\n",
              "           0.00033704]),\n",
              "    array([3.30960870e-02, 4.94965710e-02, 3.35182734e-02, ...,\n",
              "           9.43800812e-05, 9.29946852e-05, 9.38498112e-05]),\n",
              "    array([0.00891774, 0.10800236, 0.07843199, ..., 0.00023435, 0.00023339,\n",
              "           0.00023285]),\n",
              "    array([3.16945894e-02, 7.93523734e-02, 5.34269812e-02, ...,\n",
              "           8.72162521e-05, 8.75727974e-05, 8.83991951e-05]),\n",
              "    array([0.01255029, 0.01736333, 0.01158937, ..., 0.00017788, 0.00017823,\n",
              "           0.00017763]),\n",
              "    array([8.46526814e-03, 5.81132325e-02, 4.59422369e-02, ...,\n",
              "           6.86191507e-05, 6.91257204e-05, 6.83574992e-05]),\n",
              "    array([5.20314681e-03, 5.27328064e-02, 4.06925547e-02, ...,\n",
              "           5.06575418e-05, 4.91210901e-05, 5.04739775e-05]),\n",
              "    array([0.00926501, 0.06882818, 0.05450599, ..., 0.00025992, 0.00026074,\n",
              "           0.00025855]),\n",
              "    array([1.77713663e-02, 3.96624905e-02, 2.20303949e-02, ...,\n",
              "           2.78587771e-05, 2.75167531e-05, 2.71806313e-05])]],\n",
              "  ['./sub-03/eeg/sub-03_task-genMusic02_eeg.edf',\n",
              "   [array([0.09723073, 0.0222497 , 0.02723765, ..., 0.00030386, 0.00030041,\n",
              "           0.00030279]),\n",
              "    array([0.04625085, 0.00938357, 0.00591346, ..., 0.0001857 , 0.00018903,\n",
              "           0.0001904 ]),\n",
              "    array([2.05539157e-01, 8.28140717e-02, 6.90806259e-02, ...,\n",
              "           5.36582631e-05, 4.48706379e-05, 5.35585232e-05]),\n",
              "    array([1.73332170e-01, 9.63986713e-02, 6.68165119e-02, ...,\n",
              "           1.12210852e-04, 1.15487537e-04, 1.15826309e-04]),\n",
              "    array([1.97945636e-02, 1.78918928e-03, 3.52581566e-03, ...,\n",
              "           2.33218339e-06, 2.80288349e-06, 2.64015052e-06]),\n",
              "    array([1.27242329e-01, 7.27559880e-02, 5.17509927e-02, ...,\n",
              "           1.44619462e-05, 1.45739845e-05, 1.15003934e-05]),\n",
              "    array([8.77058756e-02, 5.19572950e-02, 2.86613755e-02, ...,\n",
              "           8.52346685e-05, 8.25938618e-05, 8.05613210e-05]),\n",
              "    array([1.25840935e-01, 4.77406493e-02, 4.27156473e-02, ...,\n",
              "           1.86789377e-05, 1.30476355e-05, 1.51767483e-05]),\n",
              "    array([8.39984740e-02, 5.90543131e-02, 3.72152559e-02, ...,\n",
              "           1.11078810e-05, 1.30553140e-05, 1.40696385e-05])]],\n",
              "  ['./sub-03/eeg/sub-03_task-genMusic03_eeg.edf',\n",
              "   [array([1.17226257e-01, 1.39516772e-01, 1.35421137e-01, ...,\n",
              "           1.36954616e-04, 1.33240169e-04, 1.37002894e-04]),\n",
              "    array([0.06586574, 0.07645073, 0.07347574, ..., 0.00022915, 0.00023564,\n",
              "           0.00023213]),\n",
              "    array([0.07652288, 0.08776923, 0.085944  , ..., 0.00011851, 0.00011424,\n",
              "           0.00011723]),\n",
              "    array([3.59131665e-02, 7.23811997e-02, 1.02567265e-01, ...,\n",
              "           6.76685132e-05, 6.82168641e-05, 6.66017679e-05]),\n",
              "    array([0.01823312, 0.02597281, 0.02758108, ..., 0.00051142, 0.00053863,\n",
              "           0.00056998]),\n",
              "    array([2.56525948e-02, 4.71492448e-02, 7.60578214e-02, ...,\n",
              "           7.63755451e-05, 7.65210674e-05, 7.62004773e-05]),\n",
              "    array([0.05338028, 0.0575322 , 0.0296554 , ..., 0.00013013, 0.00013264,\n",
              "           0.00013221]),\n",
              "    array([5.85134241e-02, 5.93146831e-02, 4.28796406e-02, ...,\n",
              "           3.86846845e-05, 4.01022446e-05, 4.20450917e-05]),\n",
              "    array([2.00770339e-02, 4.20592369e-02, 5.98767645e-02, ...,\n",
              "           4.24169947e-05, 3.96523383e-05, 3.94474712e-05])]],\n",
              "  ['./sub-03/eeg/sub-03_task-washout_eeg.edf',\n",
              "   [array([0.08252888, 0.04714461, 0.1335422 , ..., 0.00014711, 0.00016318,\n",
              "           0.0001429 ]),\n",
              "    array([0.03393847, 0.04619432, 0.09864407, ..., 0.00027095, 0.00030009,\n",
              "           0.00025511]),\n",
              "    array([1.60467455e-01, 9.29760589e-02, 1.40977028e-01, ...,\n",
              "           2.73544519e-05, 2.00240377e-05, 2.43910941e-05]),\n",
              "    array([1.17928567e-01, 7.37140153e-02, 6.34563960e-02, ...,\n",
              "           3.48880285e-05, 3.76189477e-05, 3.61622858e-05]),\n",
              "    array([0.01891486, 0.0095691 , 0.02026012, ..., 0.00010859, 0.0001063 ,\n",
              "           0.00010805]),\n",
              "    array([8.67347318e-02, 4.45878665e-02, 7.29198610e-02, ...,\n",
              "           8.79971386e-05, 7.34001914e-05, 8.88449417e-05]),\n",
              "    array([0.07172298, 0.04692412, 0.06150047, ..., 0.00086804, 0.00085216,\n",
              "           0.00084631]),\n",
              "    array([0.0985449 , 0.04448194, 0.10034345, ..., 0.000153  , 0.00013405,\n",
              "           0.00015192]),\n",
              "    array([0.06061004, 0.04896901, 0.02549001, ..., 0.00022634, 0.00021345,\n",
              "           0.00022624])]],\n",
              "  ['./sub-04/eeg/sub-04_task-classicalMusic_eeg.edf',\n",
              "   [array([0.05346005, 0.00625538, 0.0279881 , ..., 0.0012491 , 0.00131544,\n",
              "           0.00136344]),\n",
              "    array([3.42128516e-02, 1.84603097e-02, 2.42047704e-02, ...,\n",
              "           3.01406759e-05, 4.87436876e-05, 2.26396014e-05]),\n",
              "    array([6.84211416e-02, 7.88153698e-03, 4.23393954e-02, ...,\n",
              "           3.82921839e-05, 3.26172194e-05, 3.74865358e-05]),\n",
              "    array([0.06436184, 0.04168362, 0.06475547, ..., 0.00062738, 0.00062892,\n",
              "           0.00063051]),\n",
              "    array([7.53655718e-03, 3.28032454e-03, 4.97582203e-03, ...,\n",
              "           3.34225121e-05, 3.29269415e-05, 3.89532585e-05]),\n",
              "    array([0.02918811, 0.02001053, 0.01618482, ..., 0.00104819, 0.00104611,\n",
              "           0.00105985]),\n",
              "    array([1.82291563e-02, 7.88825303e-03, 3.12850262e-02, ...,\n",
              "           6.59137639e-05, 5.63720735e-05, 6.81659095e-05]),\n",
              "    array([0.0353742 , 0.00845629, 0.01401079, ..., 0.0001972 , 0.00018241,\n",
              "           0.00020071]),\n",
              "    array([8.62671869e-03, 1.18710869e-02, 3.68746871e-02, ...,\n",
              "           1.42120164e-05, 9.21892575e-06, 1.31425303e-05])]],\n",
              "  ['./sub-04/eeg/sub-04_task-genMusic01_eeg.edf',\n",
              "   [array([0.03151203, 0.03607715, 0.03127669, ..., 0.00013906, 0.00013402,\n",
              "           0.00015385]),\n",
              "    array([0.03220843, 0.02843561, 0.01477357, ..., 0.00015542, 0.00017558,\n",
              "           0.00015505]),\n",
              "    array([0.00792178, 0.05357922, 0.02631048, ..., 0.00016638, 0.00017434,\n",
              "           0.00018152]),\n",
              "    array([0.00623819, 0.03877839, 0.01228125, ..., 0.00023916, 0.00028609,\n",
              "           0.00027794]),\n",
              "    array([1.51428419e-03, 5.34656301e-03, 4.74789668e-03, ...,\n",
              "           1.25261138e-05, 9.86207306e-06, 1.07302894e-05]),\n",
              "    array([7.77947240e-03, 2.32494537e-02, 1.04911745e-02, ...,\n",
              "           4.07340489e-05, 3.33850396e-05, 3.81839584e-05]),\n",
              "    array([2.67387530e-03, 1.94824117e-02, 1.28562542e-02, ...,\n",
              "           9.00008443e-05, 9.99803258e-05, 1.01970495e-04]),\n",
              "    array([4.67122140e-03, 2.40879236e-02, 2.17377173e-02, ...,\n",
              "           6.35989612e-05, 8.15014761e-05, 6.35508875e-05]),\n",
              "    array([5.97330812e-03, 1.72368694e-02, 1.15966338e-02, ...,\n",
              "           2.20150164e-05, 3.11364647e-05, 2.73419092e-05])]],\n",
              "  ['./sub-04/eeg/sub-04_task-genMusic02_eeg.edf',\n",
              "   [array([0.02572694, 0.01020462, 0.01859525, ..., 0.00014477, 0.00016536,\n",
              "           0.00013091]),\n",
              "    array([0.02549816, 0.03248993, 0.02513834, ..., 0.00010618, 0.00011287,\n",
              "           0.00010201]),\n",
              "    array([0.04268599, 0.03304462, 0.02700659, ..., 0.0002171 , 0.00024278,\n",
              "           0.00017636]),\n",
              "    array([0.03605185, 0.05895401, 0.0311534 , ..., 0.00014873, 0.00015525,\n",
              "           0.00011319]),\n",
              "    array([0.00190988, 0.00730153, 0.00774694, ..., 0.00015854, 0.00016949,\n",
              "           0.00013762]),\n",
              "    array([1.60456924e-02, 2.38975273e-02, 1.54240364e-02, ...,\n",
              "           3.18595528e-05, 4.23816994e-05, 2.77602171e-05]),\n",
              "    array([2.04429005e-02, 1.62747447e-02, 9.48874682e-03, ...,\n",
              "           2.64343086e-05, 3.11467266e-05, 2.78771931e-05]),\n",
              "    array([1.81872715e-02, 1.53614599e-02, 1.25656317e-02, ...,\n",
              "           1.84407952e-05, 2.10494751e-05, 2.64024882e-05]),\n",
              "    array([0.00956486, 0.01660715, 0.00882236, ..., 0.00021469, 0.00023563,\n",
              "           0.0001924 ])]],\n",
              "  ['./sub-04/eeg/sub-04_task-genMusic03_eeg.edf',\n",
              "   [array([9.82956234e-03, 4.81632243e-02, 1.75650967e-02, ...,\n",
              "           5.65294794e-05, 5.31201718e-05, 2.44294201e-05]),\n",
              "    array([2.02429996e-02, 1.92360371e-02, 8.20693201e-03, ...,\n",
              "           1.13336940e-05, 1.76515249e-05, 2.56938807e-05]),\n",
              "    array([0.02927845, 0.06313937, 0.0269216 , ..., 0.00035638, 0.00034046,\n",
              "           0.00033271]),\n",
              "    array([0.03270378, 0.07439343, 0.03926817, ..., 0.00043915, 0.00043228,\n",
              "           0.0004361 ]),\n",
              "    array([8.20356558e-04, 2.13479531e-03, 7.92065117e-04, ...,\n",
              "           7.93690058e-05, 8.11937699e-05, 8.52441376e-05]),\n",
              "    array([1.80206601e-02, 2.03158041e-02, 7.87478202e-03, ...,\n",
              "           6.47091800e-05, 5.94990980e-05, 3.30154463e-05]),\n",
              "    array([0.01066148, 0.03543158, 0.01715835, ..., 0.00013674, 0.00013167,\n",
              "           0.0001178 ]),\n",
              "    array([0.01143255, 0.02954414, 0.01189987, ..., 0.00044569, 0.00043702,\n",
              "           0.00041073]),\n",
              "    array([0.02445125, 0.02369775, 0.02017104, ..., 0.00025699, 0.00025598,\n",
              "           0.00024147])]],\n",
              "  ['./sub-04/eeg/sub-04_task-washout_eeg.edf',\n",
              "   [array([2.54418262e-02, 1.97346627e-02, 2.16409094e-02, ...,\n",
              "           6.47967500e-05, 6.05343079e-05, 6.53103423e-05]),\n",
              "    array([0.02044734, 0.02152175, 0.01855741, ..., 0.00013212, 0.00012759,\n",
              "           0.00012994]),\n",
              "    array([2.32086379e-02, 8.45391580e-03, 1.27723616e-02, ...,\n",
              "           6.78414251e-05, 7.33590250e-05, 7.43163419e-05]),\n",
              "    array([1.52861260e-02, 7.82721984e-04, 1.24683039e-02, ...,\n",
              "           3.75916051e-05, 3.78959097e-05, 3.73087433e-05]),\n",
              "    array([4.62703957e-03, 3.26853319e-03, 5.06056478e-03, ...,\n",
              "           2.55541639e-05, 2.31866453e-05, 2.54579086e-05]),\n",
              "    array([5.06326989e-03, 4.48678537e-03, 3.62167658e-03, ...,\n",
              "           2.02381892e-05, 1.80193419e-05, 1.95894835e-05]),\n",
              "    array([1.30869919e-02, 1.15068645e-03, 6.28981343e-03, ...,\n",
              "           2.37034663e-05, 2.12064425e-05, 2.10122104e-05]),\n",
              "    array([1.17004356e-02, 4.23041090e-03, 9.19145722e-03, ...,\n",
              "           5.00304757e-05, 4.26039539e-05, 4.39783625e-05]),\n",
              "    array([0.01124383, 0.01187421, 0.0151802 , ..., 0.00011918, 0.00011651,\n",
              "           0.00011602])]],\n",
              "  ['./sub-05/eeg/sub-05_task-classicalMusic_eeg.edf',\n",
              "   [array([3.38379124e-02, 1.33011959e-01, 9.83935499e-02, ...,\n",
              "           4.07498116e-05, 7.12709713e-05, 2.60079281e-05]),\n",
              "    array([2.47611893e-02, 2.00957830e-02, 6.96953136e-02, ...,\n",
              "           2.55718387e-05, 4.27749417e-05, 1.53499200e-05]),\n",
              "    array([0.06087972, 0.16890515, 0.17793245, ..., 0.00039439, 0.00039667,\n",
              "           0.00038094]),\n",
              "    array([0.06642757, 0.16349395, 0.19542086, ..., 0.00025137, 0.0002476 ,\n",
              "           0.00024806]),\n",
              "    array([7.57881702e-03, 3.33437345e-03, 1.62057078e-02, ...,\n",
              "           4.53777574e-05, 4.01257907e-05, 4.46222558e-05]),\n",
              "    array([3.80025287e-02, 8.72441716e-02, 1.00491118e-01, ...,\n",
              "           3.03011175e-05, 2.15034550e-05, 4.61704194e-05]),\n",
              "    array([0.03928656, 0.14073307, 0.14395313, ..., 0.00016912, 0.00016122,\n",
              "           0.00017873]),\n",
              "    array([0.038315  , 0.11131348, 0.11240217, ..., 0.00105325, 0.00099812,\n",
              "           0.00103679]),\n",
              "    array([0.03430651, 0.08484495, 0.10762322, ..., 0.00014599, 0.00013079,\n",
              "           0.00014846])]],\n",
              "  ['./sub-05/eeg/sub-05_task-genMusic01_eeg.edf',\n",
              "   [array([4.60092214e-02, 3.45276923e-02, 2.33408612e-02, ...,\n",
              "           1.23805994e-05, 2.85885076e-05, 1.73480950e-05]),\n",
              "    array([0.06460385, 0.0251495 , 0.0180159 , ..., 0.00029511, 0.00028599,\n",
              "           0.00029341]),\n",
              "    array([3.47914541e-02, 3.61614257e-02, 3.91287568e-02, ...,\n",
              "           1.48265751e-05, 2.65795617e-05, 1.60266485e-05]),\n",
              "    array([4.85489712e-02, 3.64486061e-02, 5.75015218e-02, ...,\n",
              "           5.80846436e-05, 6.53404332e-05, 6.70752108e-05]),\n",
              "    array([1.48844890e-02, 9.55375890e-03, 5.53169595e-03, ...,\n",
              "           9.64652132e-05, 1.01784269e-04, 9.92208416e-05]),\n",
              "    array([1.54414709e-02, 2.06560068e-02, 1.55269854e-02, ...,\n",
              "           9.72676947e-05, 8.20353755e-05, 9.29373541e-05]),\n",
              "    array([2.39080567e-02, 2.22570722e-02, 3.87248417e-02, ...,\n",
              "           2.22973254e-05, 1.49595895e-05, 2.97752698e-05]),\n",
              "    array([1.80570516e-02, 2.83447774e-02, 2.36811143e-02, ...,\n",
              "           8.61188961e-05, 1.11664959e-04, 9.68834552e-05]),\n",
              "    array([3.28289167e-02, 2.16608878e-02, 3.34142300e-02, ...,\n",
              "           2.49206969e-06, 1.23789437e-05, 8.35298366e-06])]],\n",
              "  ['./sub-05/eeg/sub-05_task-genMusic02_eeg.edf',\n",
              "   [array([9.08977468e-03, 1.03784310e-01, 2.67815553e-02, ...,\n",
              "           8.91530671e-05, 1.19515848e-04, 1.06738101e-04]),\n",
              "    array([5.99866590e-02, 1.31815813e-02, 4.47364167e-02, ...,\n",
              "           3.15307168e-05, 4.94964554e-05, 3.43929442e-05]),\n",
              "    array([5.22418017e-02, 1.27486616e-01, 7.31864842e-02, ...,\n",
              "           4.88019130e-05, 5.96630674e-05, 5.67513318e-05]),\n",
              "    array([0.07290822, 0.11309717, 0.09622351, ..., 0.00018596, 0.0001851 ,\n",
              "           0.00019343]),\n",
              "    array([0.01311801, 0.00683537, 0.00692282, ..., 0.00010578, 0.00010406,\n",
              "           0.00010817]),\n",
              "    array([0.03485465, 0.0809855 , 0.04321759, ..., 0.00016051, 0.00018782,\n",
              "           0.00017134]),\n",
              "    array([4.35230421e-02, 8.53243780e-02, 6.70729539e-02, ...,\n",
              "           2.41724941e-05, 3.30095740e-05, 2.32053526e-05]),\n",
              "    array([2.56661748e-02, 9.04738542e-02, 4.19975674e-02, ...,\n",
              "           8.39025794e-05, 1.12886793e-04, 9.33683582e-05]),\n",
              "    array([4.90945655e-02, 5.79274893e-02, 5.70598550e-02, ...,\n",
              "           4.27380345e-05, 2.89270236e-05, 4.63497260e-05])]],\n",
              "  ['./sub-05/eeg/sub-05_task-genMusic03_eeg.edf',\n",
              "   [array([0.00524824, 0.04912694, 0.02072683, ..., 0.00045161, 0.00038629,\n",
              "           0.00033762]),\n",
              "    array([2.26087978e-03, 2.03732728e-03, 2.04513436e-02, ...,\n",
              "           1.92395462e-05, 3.11473993e-05, 3.15144834e-05]),\n",
              "    array([1.17254139e-02, 6.16483074e-02, 2.38608758e-02, ...,\n",
              "           5.45051288e-05, 4.22743135e-05, 3.49174646e-05]),\n",
              "    array([7.99033644e-03, 5.08277202e-02, 2.15795386e-02, ...,\n",
              "           1.32368899e-04, 1.21122653e-04, 9.18269346e-05]),\n",
              "    array([2.41630778e-03, 2.12608000e-03, 4.59261629e-03, ...,\n",
              "           8.02305505e-05, 7.83362274e-05, 6.73008666e-05]),\n",
              "    array([0.00142359, 0.02953894, 0.01466946, ..., 0.00012306, 0.00012785,\n",
              "           0.00014124]),\n",
              "    array([1.41215796e-02, 4.39936441e-02, 1.61065213e-02, ...,\n",
              "           2.77163057e-05, 3.10605543e-05, 3.30858330e-05]),\n",
              "    array([0.00211329, 0.04006151, 0.01540921, ..., 0.00022711, 0.00021181,\n",
              "           0.00020342]),\n",
              "    array([7.52959686e-03, 2.56853565e-02, 1.37013920e-02, ...,\n",
              "           1.10829114e-05, 5.02018001e-06, 9.67205703e-06])]],\n",
              "  ['./sub-05/eeg/sub-05_task-washout_eeg.edf',\n",
              "   [array([0.01359535, 0.03099733, 0.02348899, ..., 0.00019367, 0.00019184,\n",
              "           0.00020203]),\n",
              "    array([2.74305389e-02, 1.38598284e-02, 1.25589334e-02, ...,\n",
              "           7.32043504e-05, 8.52542989e-05, 8.55874038e-05]),\n",
              "    array([0.0373076 , 0.04968677, 0.01454365, ..., 0.00030428, 0.00030498,\n",
              "           0.00031595]),\n",
              "    array([0.05341223, 0.05697447, 0.0131796 , ..., 0.00016828, 0.00017626,\n",
              "           0.00018234]),\n",
              "    array([7.88681132e-03, 1.84582573e-03, 2.82044798e-03, ...,\n",
              "           4.38428575e-05, 4.99179642e-05, 4.57057924e-05]),\n",
              "    array([0.02232062, 0.02850041, 0.00684021, ..., 0.00014514, 0.00014135,\n",
              "           0.00015175]),\n",
              "    array([0.03616696, 0.03926942, 0.01129131, ..., 0.00014281, 0.0001532 ,\n",
              "           0.00015064]),\n",
              "    array([0.01803266, 0.03068356, 0.01310486, ..., 0.00031451, 0.00031395,\n",
              "           0.00032111]),\n",
              "    array([3.37749127e-02, 2.54646132e-02, 2.03009567e-03, ...,\n",
              "           7.36123544e-05, 8.48719403e-05, 8.27934489e-05])]],\n",
              "  ['./sub-06/eeg/sub-06_task-classicalMusic_eeg.edf',\n",
              "   [array([0.12143543, 0.06162606, 0.04340725, ..., 0.00026536, 0.00029943,\n",
              "           0.00030764]),\n",
              "    array([0.0456711 , 0.01668553, 0.02875609, ..., 0.00027932, 0.00028354,\n",
              "           0.00028133]),\n",
              "    array([2.52452794e-01, 1.19401448e-01, 1.07688267e-01, ...,\n",
              "           1.47934632e-04, 1.69945665e-04, 1.83052914e-04]),\n",
              "    array([1.97122456e-01, 9.27695359e-02, 8.54161173e-02, ...,\n",
              "           1.49718682e-04, 1.50635527e-04, 1.49798133e-04]),\n",
              "    array([2.03525466e-02, 8.61018550e-03, 1.19348486e-02, ...,\n",
              "           7.77356605e-05, 8.87491013e-05, 1.05450576e-04]),\n",
              "    array([1.39400616e-01, 7.24526792e-02, 5.29854291e-02, ...,\n",
              "           1.07187263e-04, 1.24883559e-04, 1.22148108e-04]),\n",
              "    array([0.11016401, 0.0512277 , 0.06137623, ..., 0.00017115, 0.00017326,\n",
              "           0.00015887]),\n",
              "    array([1.25554823e-01, 6.31435333e-02, 4.23371744e-02, ...,\n",
              "           6.22660298e-05, 8.19072681e-05, 7.88674295e-05]),\n",
              "    array([0.09065002, 0.04529466, 0.04720909, ..., 0.00024948, 0.00025086,\n",
              "           0.00023071])]],\n",
              "  ['./sub-06/eeg/sub-06_task-genMusic01_eeg.edf',\n",
              "   [array([0.02497976, 0.04366469, 0.07844045, ..., 0.00022088, 0.00017803,\n",
              "           0.0001996 ]),\n",
              "    array([0.01524244, 0.01998755, 0.02062957, ..., 0.00039269, 0.00032747,\n",
              "           0.00036556]),\n",
              "    array([0.04737296, 0.08033034, 0.13471045, ..., 0.00019616, 0.0001427 ,\n",
              "           0.00018898]),\n",
              "    array([0.04550053, 0.06142198, 0.09654117, ..., 0.00023574, 0.00022426,\n",
              "           0.00024537]),\n",
              "    array([0.00867496, 0.00451283, 0.0141748 , ..., 0.0004493 , 0.00043705,\n",
              "           0.00047181]),\n",
              "    array([0.02837185, 0.03671307, 0.07369468, ..., 0.00012658, 0.0001114 ,\n",
              "           0.00011835]),\n",
              "    array([0.02911631, 0.04121023, 0.05900897, ..., 0.00025504, 0.0002386 ,\n",
              "           0.0002509 ]),\n",
              "    array([2.56910496e-02, 3.94837853e-02, 6.85434058e-02, ...,\n",
              "           5.52993070e-05, 6.22506659e-05, 8.35148732e-05]),\n",
              "    array([1.74149219e-02, 2.15807018e-02, 4.51751783e-02, ...,\n",
              "           1.03689510e-04, 8.44261379e-05, 9.89515535e-05])]],\n",
              "  ['./sub-06/eeg/sub-06_task-genMusic02_eeg.edf',\n",
              "   [array([0.04217748, 0.00985016, 0.02683881, ..., 0.00030646, 0.00031046,\n",
              "           0.00031501]),\n",
              "    array([0.02874117, 0.02820298, 0.01501919, ..., 0.00049966, 0.00051152,\n",
              "           0.00050844]),\n",
              "    array([8.37274748e-02, 9.18264627e-03, 2.09271113e-02, ...,\n",
              "           1.03815179e-04, 9.97711653e-05, 1.02660267e-04]),\n",
              "    array([0.07310599, 0.01116597, 0.00747275, ..., 0.00074579, 0.00074465,\n",
              "           0.00074602]),\n",
              "    array([0.00585576, 0.00942294, 0.0159629 , ..., 0.00022372, 0.00022053,\n",
              "           0.00022032]),\n",
              "    array([3.29160310e-02, 6.45116580e-03, 2.32026479e-02, ...,\n",
              "           2.17233832e-05, 3.00788434e-05, 2.66363804e-05]),\n",
              "    array([0.02552188, 0.01827921, 0.01670044, ..., 0.00029665, 0.00029856,\n",
              "           0.00029778]),\n",
              "    array([0.03364661, 0.01262215, 0.02229193, ..., 0.00092686, 0.00092901,\n",
              "           0.00092471]),\n",
              "    array([0.01961697, 0.02179799, 0.01543686, ..., 0.00038531, 0.00038942,\n",
              "           0.00038762])]],\n",
              "  ['./sub-06/eeg/sub-06_task-genMusic03_eeg.edf',\n",
              "   [array([6.97615947e-02, 6.65198333e-02, 1.04088817e-01, ...,\n",
              "           8.71795079e-05, 9.34266554e-05, 9.92614591e-05]),\n",
              "    array([1.59334188e-02, 2.27566094e-02, 6.28494980e-02, ...,\n",
              "           7.88831863e-05, 8.63441980e-05, 9.67453071e-05]),\n",
              "    array([1.32390692e-01, 1.43266136e-01, 1.66169936e-01, ...,\n",
              "           8.44579847e-05, 8.41933163e-05, 8.50935849e-05]),\n",
              "    array([0.09328121, 0.10183713, 0.1328445 , ..., 0.00028267, 0.00029552,\n",
              "           0.00029618]),\n",
              "    array([1.26578851e-02, 1.44590894e-02, 1.15722759e-02, ...,\n",
              "           5.28733902e-05, 4.86648607e-05, 5.52740023e-05]),\n",
              "    array([6.80632193e-02, 8.35227796e-02, 9.96996769e-02, ...,\n",
              "           9.85406564e-05, 9.78862631e-05, 9.89641201e-05]),\n",
              "    array([0.05816205, 0.06120619, 0.07264345, ..., 0.00016165, 0.00016674,\n",
              "           0.00017119]),\n",
              "    array([6.22173423e-02, 6.96365893e-02, 8.91672317e-02, ...,\n",
              "           2.23921071e-05, 3.16275696e-05, 2.23969786e-05]),\n",
              "    array([0.0452817 , 0.04832077, 0.06542141, ..., 0.00024592, 0.00025146,\n",
              "           0.00025763])]],\n",
              "  ['./sub-06/eeg/sub-06_task-washout_eeg.edf',\n",
              "   [array([0.01922661, 0.01986654, 0.02743469, ..., 0.00084563, 0.00098604,\n",
              "           0.00098148]),\n",
              "    array([0.02094874, 0.03198802, 0.0342668 , ..., 0.0010009 , 0.00086153,\n",
              "           0.00085889]),\n",
              "    array([4.94625510e-02, 9.34888182e-03, 4.22903714e-02, ...,\n",
              "           4.91145803e-05, 3.54498013e-05, 2.90105804e-05]),\n",
              "    array([0.04989565, 0.03731123, 0.03832   , ..., 0.00024893, 0.00026565,\n",
              "           0.00025971]),\n",
              "    array([6.28536190e-03, 3.07633366e-03, 3.14681434e-03, ...,\n",
              "           2.38225030e-05, 3.03305252e-05, 3.93922837e-05]),\n",
              "    array([3.41058936e-02, 1.09979367e-02, 3.76396919e-02, ...,\n",
              "           4.69419087e-05, 6.35600678e-05, 4.81747804e-05]),\n",
              "    array([0.01822816, 0.0121655 , 0.01943782, ..., 0.00070146, 0.00039251,\n",
              "           0.00041586]),\n",
              "    array([2.28820915e-02, 9.16845630e-03, 2.58648872e-02, ...,\n",
              "           5.60737044e-05, 3.74369490e-05, 6.86164507e-05]),\n",
              "    array([0.01403416, 0.0122009 , 0.0246075 , ..., 0.00083591, 0.00040818,\n",
              "           0.00043207])]],\n",
              "  ['./sub-07/eeg/sub-07_task-classicalMusic_eeg.edf',\n",
              "   [array([3.11145219e-02, 1.52539080e-02, 3.48143894e-02, ...,\n",
              "           5.88926797e-05, 4.95891086e-05, 3.23369614e-05]),\n",
              "    array([9.43998760e-03, 2.18369906e-03, 1.75251886e-02, ...,\n",
              "           8.05317718e-05, 7.74567015e-05, 6.59657310e-05]),\n",
              "    array([4.64991520e-02, 1.53895153e-02, 4.08129170e-02, ...,\n",
              "           8.90400285e-05, 9.78071780e-05, 1.00701095e-04]),\n",
              "    array([3.21843580e-02, 7.43114892e-03, 2.08334030e-02, ...,\n",
              "           3.44310404e-05, 3.61391784e-05, 3.24231375e-05]),\n",
              "    array([8.93437771e-03, 3.96655180e-03, 7.19342682e-03, ...,\n",
              "           1.58197937e-05, 1.37711016e-05, 1.77783592e-05]),\n",
              "    array([2.32039611e-02, 3.62687441e-03, 1.51961301e-02, ...,\n",
              "           6.01324768e-05, 5.33753630e-05, 4.46538427e-05]),\n",
              "    array([1.64280268e-02, 1.20227333e-02, 1.35190742e-02, ...,\n",
              "           3.11566824e-05, 4.02758084e-05, 4.27200098e-05]),\n",
              "    array([0.02843368, 0.00943894, 0.02169073, ..., 0.00016809, 0.00014292,\n",
              "           0.00013396]),\n",
              "    array([1.17001153e-02, 6.66467102e-03, 3.41626937e-03, ...,\n",
              "           8.54911318e-05, 7.98808366e-05, 7.13117467e-05])]],\n",
              "  ['./sub-07/eeg/sub-07_task-genMusic01_eeg.edf',\n",
              "   [array([1.41257122e-02, 1.86122982e-02, 4.94781406e-03, ...,\n",
              "           4.40588950e-05, 4.10763954e-05, 3.55758560e-05]),\n",
              "    array([1.36583809e-02, 9.94034580e-03, 8.61069976e-03, ...,\n",
              "           2.18049417e-05, 1.20912879e-05, 6.93448736e-06]),\n",
              "    array([1.04980506e-02, 2.21685943e-02, 5.05196243e-03, ...,\n",
              "           6.44941959e-05, 6.47802569e-05, 6.35348219e-05]),\n",
              "    array([5.85237835e-03, 8.79683237e-03, 7.20484003e-03, ...,\n",
              "           2.72844790e-05, 1.58184186e-05, 2.66337977e-05]),\n",
              "    array([1.68541320e-03, 2.80857972e-03, 1.07948456e-03, ...,\n",
              "           2.64643780e-05, 1.80971986e-05, 1.59355392e-05]),\n",
              "    array([1.86661340e-03, 4.89429083e-03, 3.61976082e-03, ...,\n",
              "           1.80048536e-05, 1.30155290e-05, 1.62131442e-05]),\n",
              "    array([4.45696266e-03, 8.90315810e-03, 5.15497880e-03, ...,\n",
              "           3.28275871e-05, 9.58649447e-06, 1.33318073e-05]),\n",
              "    array([6.82692277e-03, 9.39393417e-03, 4.66071755e-03, ...,\n",
              "           8.83974794e-05, 7.96388104e-05, 7.76578919e-05]),\n",
              "    array([2.29554055e-03, 4.87529253e-03, 5.91399912e-03, ...,\n",
              "           2.52758353e-05, 2.75853889e-05, 3.02894250e-05])]],\n",
              "  ['./sub-07/eeg/sub-07_task-genMusic02_eeg.edf',\n",
              "   [array([4.98953762e-02, 6.37689177e-02, 2.03492353e-02, ...,\n",
              "           7.10793036e-05, 7.38118816e-05, 7.15642583e-05]),\n",
              "    array([2.93481975e-02, 2.53727085e-02, 4.01786817e-02, ...,\n",
              "           3.94826485e-05, 3.71464136e-05, 3.72723450e-05]),\n",
              "    array([6.73968982e-02, 1.40062596e-01, 1.40065360e-01, ...,\n",
              "           1.69210487e-05, 1.55207366e-05, 1.50930546e-05]),\n",
              "    array([2.45983059e-02, 1.26514169e-01, 1.11657436e-01, ...,\n",
              "           6.61379392e-05, 6.41097856e-05, 6.35240246e-05]),\n",
              "    array([1.34574932e-02, 1.84078499e-02, 2.18786462e-03, ...,\n",
              "           2.22201302e-05, 2.31715395e-05, 2.32783325e-05]),\n",
              "    array([2.08957205e-02, 5.76979297e-02, 5.06097356e-02, ...,\n",
              "           2.70883476e-05, 2.55856505e-05, 2.47879276e-05]),\n",
              "    array([2.47512595e-02, 7.40098502e-02, 9.08626935e-03, ...,\n",
              "           8.08496723e-05, 7.97065821e-05, 8.08185944e-05]),\n",
              "    array([3.20813120e-02, 7.05164788e-02, 2.36803090e-02, ...,\n",
              "           2.81081792e-05, 2.66087799e-05, 2.59668381e-05]),\n",
              "    array([1.60817464e-02, 5.19359185e-02, 2.69128406e-02, ...,\n",
              "           7.60272524e-05, 7.57331740e-05, 7.40233832e-05])]],\n",
              "  ['./sub-07/eeg/sub-07_task-genMusic03_eeg.edf',\n",
              "   [array([8.00889559e-02, 2.16464368e-02, 9.60912471e-02, ...,\n",
              "           4.87128980e-05, 4.86006165e-05, 5.27543479e-05]),\n",
              "    array([2.93312814e-02, 8.18809880e-02, 3.47180904e-02, ...,\n",
              "           1.55517832e-05, 1.74700909e-05, 1.58477365e-05]),\n",
              "    array([0.21043114, 0.14674192, 0.16100268, ..., 0.00301216, 0.00301587,\n",
              "           0.00317807]),\n",
              "    array([1.43949207e-01, 1.50401605e-01, 5.73228672e-02, ...,\n",
              "           1.89840166e-06, 9.24294855e-06, 1.19696871e-05]),\n",
              "    array([0.0362207 , 0.01026129, 0.03149109, ..., 0.00058634, 0.00056641,\n",
              "           0.00057374]),\n",
              "    array([0.05284918, 0.04720105, 0.0441657 , ..., 0.00129991, 0.00126682,\n",
              "           0.00126585]),\n",
              "    array([1.99404621e-02, 4.42706983e-02, 8.50820366e-02, ...,\n",
              "           5.34811346e-05, 5.56343698e-05, 5.72248682e-05]),\n",
              "    array([0.04794586, 0.02304262, 0.04579931, ..., 0.00103374, 0.00105529,\n",
              "           0.00110388]),\n",
              "    array([1.62612692e-02, 4.00634608e-02, 5.77188052e-02, ...,\n",
              "           3.23823632e-05, 3.56180022e-05, 3.70138385e-05])]],\n",
              "  ['./sub-07/eeg/sub-07_task-washout_eeg.edf',\n",
              "   [array([0.03722237, 0.05396023, 0.0560194 , ..., 0.00013491, 0.00012786,\n",
              "           0.00013061]),\n",
              "    array([1.04152427e-02, 2.23047452e-02, 4.22677134e-02, ...,\n",
              "           4.68355944e-05, 3.99900169e-05, 2.40244890e-05]),\n",
              "    array([0.08358622, 0.07699709, 0.1375758 , ..., 0.00016129, 0.00016502,\n",
              "           0.00017661]),\n",
              "    array([0.05726567, 0.05845131, 0.11550692, ..., 0.00122697, 0.00120002,\n",
              "           0.00120853]),\n",
              "    array([8.01490829e-03, 1.62542537e-02, 1.43532365e-02, ...,\n",
              "           2.28919327e-05, 2.79923367e-05, 2.83289725e-05]),\n",
              "    array([8.09427611e-03, 5.14126007e-02, 8.25418163e-02, ...,\n",
              "           7.05456599e-05, 6.35411364e-05, 6.05587793e-05]),\n",
              "    array([4.04241257e-03, 5.02461401e-02, 7.03501849e-02, ...,\n",
              "           4.52444745e-06, 1.05737109e-05, 1.19479328e-05]),\n",
              "    array([1.35933416e-02, 5.19637834e-02, 8.00078015e-02, ...,\n",
              "           1.05822991e-04, 9.49872343e-05, 9.01975747e-05]),\n",
              "    array([2.82495904e-03, 3.11997608e-02, 5.86085806e-02, ...,\n",
              "           1.05739437e-05, 2.32721666e-05, 2.11240657e-05])]],\n",
              "  ['./sub-08/eeg/sub-08_task-classicalMusic_eeg.edf',\n",
              "   [array([0.04490037, 0.04055813, 0.00693521, ..., 0.00020043, 0.00020863,\n",
              "           0.00019376]),\n",
              "    array([0.06686476, 0.04403489, 0.04772895, ..., 0.00015092, 0.00015166,\n",
              "           0.00014344]),\n",
              "    array([0.11704052, 0.09075616, 0.04812264, ..., 0.00017139, 0.00017719,\n",
              "           0.0001722 ]),\n",
              "    array([1.39637287e-01, 9.57656852e-02, 6.87823889e-02, ...,\n",
              "           4.43829555e-05, 3.35508737e-05, 4.06021346e-05]),\n",
              "    array([3.44345909e-03, 5.03622291e-03, 1.65071110e-02, ...,\n",
              "           3.90334634e-05, 3.68548118e-05, 3.75463161e-05]),\n",
              "    array([5.22872139e-02, 3.56825935e-02, 4.03246565e-02, ...,\n",
              "           1.61423420e-05, 2.24076636e-05, 1.30547624e-05]),\n",
              "    array([0.06214274, 0.04110145, 0.03985801, ..., 0.00012266, 0.00012284,\n",
              "           0.00011828]),\n",
              "    array([5.33444804e-02, 3.94995607e-02, 2.63838600e-02, ...,\n",
              "           6.37325173e-05, 7.16749105e-05, 6.20763969e-05]),\n",
              "    array([0.0724315 , 0.05516499, 0.06106112, ..., 0.00020932, 0.00021389,\n",
              "           0.00023393])]],\n",
              "  ['./sub-08/eeg/sub-08_task-genMusic01_eeg.edf',\n",
              "   [array([0.05056291, 0.05387599, 0.04691846, ..., 0.00038986, 0.00039546,\n",
              "           0.00038805]),\n",
              "    array([0.03954573, 0.02828537, 0.04367346, ..., 0.00039122, 0.00040022,\n",
              "           0.00039055]),\n",
              "    array([0.03506266, 0.08502557, 0.10965368, ..., 0.00035325, 0.00035648,\n",
              "           0.00034727]),\n",
              "    array([0.00426848, 0.07179806, 0.11336025, ..., 0.00023984, 0.00024323,\n",
              "           0.00024189]),\n",
              "    array([0.00924415, 0.00318169, 0.00434435, ..., 0.00022616, 0.00022828,\n",
              "           0.00022691]),\n",
              "    array([0.0071232 , 0.04312038, 0.05639576, ..., 0.00035853, 0.00036621,\n",
              "           0.00035482]),\n",
              "    array([0.0104247 , 0.04506699, 0.06262273, ..., 0.0001935 , 0.000202  ,\n",
              "           0.00019241]),\n",
              "    array([0.01951494, 0.04824088, 0.06160713, ..., 0.00037042, 0.000378  ,\n",
              "           0.00036542]),\n",
              "    array([9.23605528e-03, 4.07716223e-02, 6.75867833e-02, ...,\n",
              "           8.03101876e-05, 9.19928294e-05, 8.02236307e-05])]],\n",
              "  ['./sub-08/eeg/sub-08_task-genMusic02_eeg.edf',\n",
              "   [array([0.07641181, 0.04733619, 0.03516612, ..., 0.0002822 , 0.0002797 ,\n",
              "           0.00025756]),\n",
              "    array([0.03540451, 0.03934766, 0.02919341, ..., 0.00011781, 0.00010876,\n",
              "           0.0001063 ]),\n",
              "    array([0.08490001, 0.10031635, 0.03080697, ..., 0.00017745, 0.00018459,\n",
              "           0.00015792]),\n",
              "    array([0.06175534, 0.09804422, 0.0190233 , ..., 0.00068201, 0.00059883,\n",
              "           0.00070216]),\n",
              "    array([0.00135076, 0.00241225, 0.00398976, ..., 0.00016266, 0.00016348,\n",
              "           0.00016963]),\n",
              "    array([0.03228511, 0.05858492, 0.01665583, ..., 0.00013475, 0.00013195,\n",
              "           0.00011309]),\n",
              "    array([0.0390988 , 0.04231989, 0.02388725, ..., 0.00013919, 0.00012603,\n",
              "           0.00011028]),\n",
              "    array([0.04355408, 0.05326617, 0.02040106, ..., 0.00018711, 0.00018877,\n",
              "           0.00016956]),\n",
              "    array([0.04148683, 0.05661009, 0.02232302, ..., 0.00021474, 0.00022133,\n",
              "           0.00018009])]],\n",
              "  ['./sub-08/eeg/sub-08_task-genMusic03_eeg.edf',\n",
              "   [array([0.05293968, 0.01017832, 0.04373496, ..., 0.00143513, 0.00120076,\n",
              "           0.00130943]),\n",
              "    array([0.07324321, 0.05164135, 0.0553413 , ..., 0.0011465 , 0.00109389,\n",
              "           0.00112729]),\n",
              "    array([1.38529953e-01, 7.35995149e-02, 1.12200144e-01, ...,\n",
              "           3.79229028e-05, 4.18909084e-05, 2.78326326e-05]),\n",
              "    array([1.48051854e-01, 8.45895644e-02, 1.19257749e-01, ...,\n",
              "           2.03647260e-04, 1.99887340e-04, 1.42178600e-04]),\n",
              "    array([6.26144504e-03, 5.29584269e-03, 7.26447149e-03, ...,\n",
              "           2.79900146e-05, 2.91825086e-05, 2.45459667e-05]),\n",
              "    array([8.12760163e-02, 3.99548307e-02, 5.64388025e-02, ...,\n",
              "           3.14766572e-05, 4.00233815e-05, 2.22511273e-05]),\n",
              "    array([0.07830529, 0.05009131, 0.07266829, ..., 0.00095041, 0.00075876,\n",
              "           0.00086491]),\n",
              "    array([7.34071072e-02, 2.94511905e-02, 5.20654093e-02, ...,\n",
              "           1.13206552e-05, 2.69162307e-05, 9.27720757e-06]),\n",
              "    array([0.09008061, 0.05200446, 0.09455585, ..., 0.00019295, 0.00019282,\n",
              "           0.00023942])]],\n",
              "  ['./sub-08/eeg/sub-08_task-washout_eeg.edf',\n",
              "   [array([0.05375009, 0.00998136, 0.02397498, ..., 0.00072233, 0.00072337,\n",
              "           0.00071431]),\n",
              "    array([0.02297351, 0.01712073, 0.03725236, ..., 0.00042399, 0.00042437,\n",
              "           0.0004153 ]),\n",
              "    array([0.0936393 , 0.01647642, 0.02504607, ..., 0.00019282, 0.0001917 ,\n",
              "           0.00018878]),\n",
              "    array([0.0799222 , 0.03389302, 0.04056249, ..., 0.00013315, 0.00013391,\n",
              "           0.00013291]),\n",
              "    array([7.95055172e-03, 1.41042152e-03, 6.44479989e-03, ...,\n",
              "           2.18483959e-05, 1.97245956e-05, 2.05861841e-05]),\n",
              "    array([0.0499919 , 0.00966868, 0.00873305, ..., 0.00024542, 0.00024685,\n",
              "           0.00023753]),\n",
              "    array([0.04862162, 0.01431956, 0.01460816, ..., 0.00029499, 0.00029601,\n",
              "           0.00028842]),\n",
              "    array([0.04938462, 0.00677964, 0.0109305 , ..., 0.00020912, 0.00020803,\n",
              "           0.00019998]),\n",
              "    array([0.06671752, 0.01604467, 0.03036266, ..., 0.00030446, 0.00021269,\n",
              "           0.0002916 ])]],\n",
              "  ['./sub-09/eeg/sub-09_task-classicalMusic_eeg.edf',\n",
              "   [array([3.57421251e-02, 3.86903339e-02, 2.81099802e-02, ...,\n",
              "           5.98257721e-05, 9.46004561e-05, 3.17927195e-05]),\n",
              "    array([0.02913516, 0.03605509, 0.03159866, ..., 0.00218456, 0.00205116,\n",
              "           0.00223161]),\n",
              "    array([2.39770065e-02, 2.18129608e-02, 3.95556103e-02, ...,\n",
              "           2.22308261e-05, 2.67707347e-05, 1.46714315e-05]),\n",
              "    array([1.60790622e-02, 2.00560972e-02, 4.07072355e-02, ...,\n",
              "           4.12467964e-06, 2.04832121e-05, 1.27258218e-05]),\n",
              "    array([4.35019122e-03, 8.01724922e-03, 1.29501361e-03, ...,\n",
              "           2.40037455e-05, 4.18466299e-05, 1.75916736e-05]),\n",
              "    array([1.37077843e-02, 1.79650850e-02, 1.92132227e-02, ...,\n",
              "           9.14759742e-05, 7.55081065e-05, 1.01209020e-04]),\n",
              "    array([7.64803757e-03, 7.22151109e-03, 1.98583820e-02, ...,\n",
              "           3.65498084e-05, 6.31355062e-05, 2.39654311e-05]),\n",
              "    array([6.97806572e-03, 1.38600675e-02, 2.76839451e-02, ...,\n",
              "           4.16983339e-05, 8.59045982e-05, 4.61933791e-05]),\n",
              "    array([0.00758141, 0.00920313, 0.02245214, ..., 0.00101665, 0.00100107,\n",
              "           0.0010438 ])]],\n",
              "  ['./sub-09/eeg/sub-09_task-genMusic01_eeg.edf',\n",
              "   [array([0.03077108, 0.00305284, 0.03015642, ..., 0.00020504, 0.00020431,\n",
              "           0.00020049]),\n",
              "    array([0.02446862, 0.00556551, 0.02420158, ..., 0.00013764, 0.00013708,\n",
              "           0.00014173]),\n",
              "    array([0.01921247, 0.0132335 , 0.01469592, ..., 0.00021134, 0.00020315,\n",
              "           0.00020999]),\n",
              "    array([7.81198707e-03, 8.54992932e-03, 9.94751082e-03, ...,\n",
              "           5.82291622e-06, 5.50389708e-06, 4.47340004e-06]),\n",
              "    array([0.00676804, 0.0041705 , 0.00692491, ..., 0.00020271, 0.00018876,\n",
              "           0.00020183]),\n",
              "    array([4.10710876e-03, 8.17943424e-03, 6.03385975e-04, ...,\n",
              "           5.65139868e-05, 5.85894853e-05, 5.74467801e-05]),\n",
              "    array([0.00607339, 0.00916845, 0.01054424, ..., 0.00013429, 0.00012733,\n",
              "           0.00013382]),\n",
              "    array([9.65848376e-03, 8.41103941e-03, 1.23320175e-02, ...,\n",
              "           2.15656527e-05, 3.21463907e-05, 2.64317867e-05]),\n",
              "    array([0.00349915, 0.00577772, 0.00929267, ..., 0.00014496, 0.00014227,\n",
              "           0.00014646])]],\n",
              "  ['./sub-09/eeg/sub-09_task-genMusic02_eeg.edf',\n",
              "   [array([1.17616373e-02, 3.08806385e-02, 5.34378969e-02, ...,\n",
              "           5.21001309e-05, 9.00110993e-05, 5.53714416e-05]),\n",
              "    array([0.01346745, 0.02380608, 0.04676752, ..., 0.0003915 , 0.00042417,\n",
              "           0.00039549]),\n",
              "    array([2.57916085e-02, 6.01325438e-03, 1.84256387e-02, ...,\n",
              "           7.83453236e-05, 9.23419811e-05, 7.79574234e-05]),\n",
              "    array([2.65270133e-02, 1.16276616e-02, 2.30746790e-02, ...,\n",
              "           4.93970220e-05, 4.61570005e-05, 4.96160456e-05]),\n",
              "    array([5.57156188e-03, 4.42707821e-03, 7.92715607e-03, ...,\n",
              "           5.00885790e-05, 5.34717493e-05, 5.09284995e-05]),\n",
              "    array([0.01809108, 0.01901206, 0.01048706, ..., 0.00123706, 0.00112377,\n",
              "           0.00122227]),\n",
              "    array([0.01263217, 0.00634843, 0.01136515, ..., 0.00082388, 0.00076836,\n",
              "           0.00078645]),\n",
              "    array([0.01467733, 0.00657247, 0.01237073, ..., 0.00084216, 0.0009582 ,\n",
              "           0.00091281]),\n",
              "    array([1.00043692e-02, 9.89239995e-03, 2.34053214e-02, ...,\n",
              "           6.56037036e-05, 8.85529994e-05, 6.97161039e-05])]],\n",
              "  ['./sub-09/eeg/sub-09_task-genMusic03_eeg.edf',\n",
              "   [array([1.59100274e-02, 3.07068107e-03, 3.90816642e-02, ...,\n",
              "           9.10669525e-05, 9.76390822e-05, 1.21470199e-04]),\n",
              "    array([0.00909925, 0.02045768, 0.03222713, ..., 0.00127634, 0.00127335,\n",
              "           0.00138761]),\n",
              "    array([1.27687465e-02, 2.56278476e-02, 4.44131706e-02, ...,\n",
              "           7.06223187e-05, 7.36497284e-05, 8.58959985e-05]),\n",
              "    array([8.72348666e-03, 2.90814203e-02, 5.35935813e-02, ...,\n",
              "           1.33251332e-05, 1.16789116e-05, 1.18123061e-05]),\n",
              "    array([0.0055334 , 0.00383048, 0.00683273, ..., 0.00028885, 0.00026012,\n",
              "           0.00023553]),\n",
              "    array([0.00411763, 0.0259918 , 0.0373659 , ..., 0.00079105, 0.00079941,\n",
              "           0.0008238 ]),\n",
              "    array([0.01321709, 0.00384204, 0.01818981, ..., 0.00083715, 0.00082584,\n",
              "           0.0008545 ]),\n",
              "    array([0.00585822, 0.01121931, 0.03382394, ..., 0.00090988, 0.00094029,\n",
              "           0.00096553]),\n",
              "    array([0.00676812, 0.00932515, 0.01597826, ..., 0.00097197, 0.00096932,\n",
              "           0.00099517])]],\n",
              "  ['./sub-09/eeg/sub-09_task-washout_eeg.edf',\n",
              "   [array([2.66187375e-02, 2.36558253e-02, 4.17524047e-02, ...,\n",
              "           6.42386711e-05, 9.56541807e-05, 6.04729037e-05]),\n",
              "    array([0.00955334, 0.00437883, 0.04016448, ..., 0.00139961, 0.00140177,\n",
              "           0.00126294]),\n",
              "    array([2.37315159e-02, 2.64282418e-02, 1.06300933e-02, ...,\n",
              "           1.06609818e-05, 2.34147897e-05, 6.69140984e-06]),\n",
              "    array([1.70862516e-02, 2.12482948e-02, 1.86632475e-02, ...,\n",
              "           4.51826407e-05, 4.96008316e-05, 5.64885861e-05]),\n",
              "    array([0.00426168, 0.00636074, 0.00551897, ..., 0.00037538, 0.0003887 ,\n",
              "           0.00037325]),\n",
              "    array([0.01363371, 0.00193991, 0.00774433, ..., 0.00068253, 0.00071812,\n",
              "           0.00077134]),\n",
              "    array([5.27377044e-03, 1.84770299e-02, 9.59325257e-03, ...,\n",
              "           5.81136987e-05, 4.75542437e-05, 5.77078827e-05]),\n",
              "    array([0.01610704, 0.01462467, 0.00720423, ..., 0.00089891, 0.00085489,\n",
              "           0.0009115 ]),\n",
              "    array([0.00476214, 0.00668025, 0.01276902, ..., 0.00098051, 0.00099196,\n",
              "           0.00094841])]],\n",
              "  ['./sub-10/eeg/sub-10_task-classicalMusic_eeg.edf',\n",
              "   [array([0.02351198, 0.01371311, 0.02868054, ..., 0.00134153, 0.00164869,\n",
              "           0.00149302]),\n",
              "    array([0.02379216, 0.02165008, 0.01513987, ..., 0.00124412, 0.00145588,\n",
              "           0.00134159]),\n",
              "    array([1.70425633e-02, 1.82053074e-02, 3.16423652e-02, ...,\n",
              "           9.48646952e-05, 7.41146356e-05, 7.93379648e-05]),\n",
              "    array([9.77717891e-03, 2.19689586e-02, 2.24732158e-02, ...,\n",
              "           2.39767919e-05, 2.97138902e-05, 3.66698370e-05]),\n",
              "    array([3.32407364e-03, 1.03937903e-03, 2.53665198e-03, ...,\n",
              "           4.95613114e-05, 4.46759083e-05, 4.45085470e-05]),\n",
              "    array([1.25606094e-02, 1.31497332e-02, 1.70063828e-02, ...,\n",
              "           1.87601805e-05, 1.91552070e-05, 1.75063564e-05]),\n",
              "    array([1.78894526e-03, 2.30590921e-02, 1.69643656e-02, ...,\n",
              "           2.57757634e-05, 1.79077308e-05, 3.48314853e-05]),\n",
              "    array([0.01384248, 0.00842342, 0.01838248, ..., 0.00095553, 0.0010904 ,\n",
              "           0.00105826]),\n",
              "    array([7.08568586e-03, 1.97470736e-02, 1.00524429e-02, ...,\n",
              "           2.63552251e-05, 1.98936744e-05, 2.75428907e-05])]],\n",
              "  ['./sub-10/eeg/sub-10_task-genMusic01_eeg.edf',\n",
              "   [array([0.00873227, 0.0170081 , 0.03725396, ..., 0.00027011, 0.00027293,\n",
              "           0.00021922]),\n",
              "    array([0.0012414 , 0.00301138, 0.01006047, ..., 0.00023399, 0.00023544,\n",
              "           0.000192  ]),\n",
              "    array([1.40566610e-02, 1.56773767e-02, 5.59555178e-02, ...,\n",
              "           1.12228771e-04, 1.22750602e-04, 9.74816610e-05]),\n",
              "    array([5.33916099e-03, 1.72861906e-02, 5.47979795e-02, ...,\n",
              "           8.83241140e-05, 7.98685146e-05, 7.86453063e-05]),\n",
              "    array([3.37569166e-03, 1.88435032e-03, 7.40194866e-04, ...,\n",
              "           7.35799751e-05, 7.66787483e-05, 6.63063984e-05]),\n",
              "    array([0.00707213, 0.002804  , 0.02277183, ..., 0.00024478, 0.00025245,\n",
              "           0.00021315]),\n",
              "    array([0.0030282 , 0.01356801, 0.04428133, ..., 0.00028918, 0.00028743,\n",
              "           0.00026384]),\n",
              "    array([0.0061864 , 0.00753104, 0.03071913, ..., 0.00025904, 0.00026503,\n",
              "           0.0002177 ]),\n",
              "    array([4.59171326e-03, 9.86148243e-03, 2.43273430e-02, ...,\n",
              "           1.00746932e-04, 9.74709846e-05, 8.21473665e-05])]],\n",
              "  ['./sub-10/eeg/sub-10_task-genMusic02_eeg.edf',\n",
              "   [array([3.64641411e-02, 1.17453906e-02, 1.60600592e-02, ...,\n",
              "           2.00380290e-05, 3.69224113e-05, 2.92653909e-05]),\n",
              "    array([0.01939558, 0.03493978, 0.02488708, ..., 0.00015842, 0.00010552,\n",
              "           0.00013579]),\n",
              "    array([4.46269484e-02, 1.82159240e-02, 9.42294207e-03, ...,\n",
              "           2.56304303e-05, 2.55143669e-05, 7.29070770e-06]),\n",
              "    array([3.41715864e-02, 3.75860099e-02, 1.79777187e-02, ...,\n",
              "           7.64336877e-05, 6.84284954e-05, 6.94146056e-05]),\n",
              "    array([6.06408927e-03, 4.52994489e-03, 5.02766273e-03, ...,\n",
              "           3.22404512e-05, 2.89769362e-05, 2.33699103e-05]),\n",
              "    array([2.03416544e-02, 8.62793472e-04, 5.65198168e-03, ...,\n",
              "           3.94924089e-05, 6.75361164e-05, 4.29327033e-05]),\n",
              "    array([2.20829756e-02, 3.40397976e-02, 2.06237037e-02, ...,\n",
              "           1.88260966e-05, 4.30966607e-05, 3.47027523e-05]),\n",
              "    array([2.77203642e-02, 2.83886671e-03, 6.62571859e-03, ...,\n",
              "           4.37722535e-05, 6.58740660e-05, 4.21474000e-05]),\n",
              "    array([1.86238799e-02, 2.68867925e-02, 1.90832308e-02, ...,\n",
              "           1.23090968e-05, 1.76494995e-05, 2.13370262e-05])]],\n",
              "  ['./sub-10/eeg/sub-10_task-genMusic03_eeg.edf',\n",
              "   [array([3.92132329e-03, 5.77351466e-02, 1.15434203e-02, ...,\n",
              "           1.08532457e-04, 1.02058068e-04, 9.11844717e-05]),\n",
              "    array([0.01971118, 0.02087215, 0.02803669, ..., 0.00033917, 0.00033511,\n",
              "           0.00032958]),\n",
              "    array([2.36783894e-02, 4.88674900e-02, 2.33748349e-02, ...,\n",
              "           6.14212836e-05, 8.67091920e-05, 6.87186520e-05]),\n",
              "    array([2.87452704e-02, 2.10693716e-02, 3.57149053e-02, ...,\n",
              "           2.83452066e-05, 1.79199725e-05, 2.46159822e-05]),\n",
              "    array([1.05069677e-03, 6.76590631e-03, 4.26351102e-03, ...,\n",
              "           4.80346080e-05, 4.76165682e-05, 4.50196431e-05]),\n",
              "    array([7.95122358e-03, 1.79986489e-02, 9.56972020e-03, ...,\n",
              "           2.59437963e-05, 1.96649804e-05, 6.12585691e-06]),\n",
              "    array([2.47273300e-02, 1.48066131e-02, 3.05477171e-02, ...,\n",
              "           5.92525703e-05, 5.46145391e-05, 5.87143801e-05]),\n",
              "    array([1.04468570e-02, 3.24203570e-02, 9.10273555e-03, ...,\n",
              "           5.18629308e-05, 6.19108957e-05, 6.35718982e-05]),\n",
              "    array([1.61980822e-02, 7.64976884e-03, 2.44713418e-02, ...,\n",
              "           4.74042193e-05, 4.53036629e-05, 4.37900258e-05])]],\n",
              "  ['./sub-10/eeg/sub-10_task-washout_eeg.edf',\n",
              "   [array([0.03564017, 0.02373455, 0.04476444, ..., 0.00021962, 0.00019911,\n",
              "           0.00023181]),\n",
              "    array([3.84028273e-02, 3.42449037e-02, 7.14206352e-03, ...,\n",
              "           2.64270329e-05, 8.76187050e-06, 3.10422054e-05]),\n",
              "    array([0.06171929, 0.01573159, 0.07060072, ..., 0.00021921, 0.00021514,\n",
              "           0.00023005]),\n",
              "    array([6.70728890e-02, 4.07354302e-02, 4.29231234e-02, ...,\n",
              "           4.94893848e-05, 5.38330634e-05, 5.72190602e-05]),\n",
              "    array([5.36385992e-03, 4.79376550e-03, 4.92780192e-03, ...,\n",
              "           4.33911132e-05, 4.81394026e-05, 4.19034817e-05]),\n",
              "    array([2.23492442e-02, 1.21745771e-02, 1.16794190e-02, ...,\n",
              "           6.54066361e-06, 1.23669228e-05, 2.55521937e-05]),\n",
              "    array([4.96472617e-02, 2.60458007e-02, 4.92970914e-02, ...,\n",
              "           6.36290304e-05, 7.63561061e-05, 6.57249444e-05]),\n",
              "    array([0.02478758, 0.01127047, 0.02535869, ..., 0.00125164, 0.00136614,\n",
              "           0.0014477 ]),\n",
              "    array([3.72172246e-02, 2.56964329e-02, 2.90203038e-02, ...,\n",
              "           1.79601038e-05, 2.77777117e-05, 2.60344479e-05])]],\n",
              "  ['./sub-11/eeg/sub-11_task-classicalMusic_eeg.edf',\n",
              "   [array([5.50728679e-02, 1.05809767e-01, 3.80245327e-02, ...,\n",
              "           1.12322976e-04, 4.41391160e-05, 1.60194317e-04]),\n",
              "    array([0.03646891, 0.02880298, 0.05579607, ..., 0.00031746, 0.00034811,\n",
              "           0.00025898]),\n",
              "    array([0.14269761, 0.19059834, 0.1563403 , ..., 0.00055491, 0.0004982 ,\n",
              "           0.00054831]),\n",
              "    array([0.10249776, 0.12013419, 0.12791978, ..., 0.00058863, 0.00057962,\n",
              "           0.00055604]),\n",
              "    array([1.45871318e-03, 5.80304638e-03, 1.16663453e-03, ...,\n",
              "           1.62885325e-05, 4.63750627e-05, 2.73446085e-05]),\n",
              "    array([0.05255389, 0.07223383, 0.05429654, ..., 0.00024212, 0.00017814,\n",
              "           0.00023335]),\n",
              "    array([0.0392833 , 0.04469621, 0.04903686, ..., 0.00028819, 0.00031281,\n",
              "           0.00026644]),\n",
              "    array([0.0547212 , 0.08375561, 0.04805763, ..., 0.00015456, 0.00010075,\n",
              "           0.00019082]),\n",
              "    array([0.0437606 , 0.04209721, 0.05307233, ..., 0.00027402, 0.00025545,\n",
              "           0.00020479])]],\n",
              "  ['./sub-11/eeg/sub-11_task-genMusic01_eeg.edf',\n",
              "   [array([0.02052405, 0.03756004, 0.0249022 , ..., 0.00017182, 0.00017344,\n",
              "           0.00016822]),\n",
              "    array([1.50920869e-02, 8.56028610e-03, 8.13787935e-03, ...,\n",
              "           1.13234124e-04, 1.08835984e-04, 9.51905878e-05]),\n",
              "    array([0.04081112, 0.07519636, 0.02654558, ..., 0.00010014, 0.00011327,\n",
              "           0.0001281 ]),\n",
              "    array([3.31467589e-02, 4.54423382e-02, 4.83715907e-03, ...,\n",
              "           1.05369355e-04, 8.89426374e-05, 6.47736649e-05]),\n",
              "    array([2.49188755e-03, 4.62396427e-03, 1.74280689e-03, ...,\n",
              "           5.68134238e-05, 4.86501957e-05, 3.84324153e-05]),\n",
              "    array([1.57627299e-02, 2.42830610e-02, 7.09918338e-03, ...,\n",
              "           2.62500214e-05, 3.24227899e-05, 3.66241072e-05]),\n",
              "    array([0.00818092, 0.01885082, 0.00754449, ..., 0.00017278, 0.00014349,\n",
              "           0.00010625]),\n",
              "    array([1.55576180e-02, 3.20786720e-02, 1.17059895e-02, ...,\n",
              "           6.78107436e-05, 7.59774565e-05, 7.77326409e-05]),\n",
              "    array([7.14476532e-03, 1.62823519e-02, 3.76971911e-03, ...,\n",
              "           6.34838531e-05, 5.68343284e-05, 3.44333547e-05])]],\n",
              "  ['./sub-11/eeg/sub-11_task-genMusic02_eeg.edf',\n",
              "   [array([0.02838353, 0.02064296, 0.0161868 , ..., 0.00020859, 0.00018843,\n",
              "           0.00021557]),\n",
              "    array([3.25340245e-02, 9.98582777e-03, 7.72822530e-03, ...,\n",
              "           9.40003373e-05, 8.52903012e-05, 1.08148522e-04]),\n",
              "    array([0.05645863, 0.03062729, 0.01383629, ..., 0.00013576, 0.00012229,\n",
              "           0.00012871]),\n",
              "    array([6.27134866e-02, 2.01220063e-02, 4.67027802e-03, ...,\n",
              "           8.23475915e-05, 7.51528480e-05, 8.02346137e-05]),\n",
              "    array([5.90317224e-03, 3.14360737e-03, 1.94564445e-03, ...,\n",
              "           8.61789374e-05, 8.74807664e-05, 8.84031647e-05]),\n",
              "    array([2.01941398e-02, 1.79611749e-02, 1.71170228e-02, ...,\n",
              "           9.31843676e-05, 7.42483359e-05, 9.27972614e-05]),\n",
              "    array([3.81794699e-02, 9.79247798e-03, 7.07818344e-03, ...,\n",
              "           7.22947834e-05, 6.64429661e-05, 8.41043905e-05]),\n",
              "    array([0.02651193, 0.02282518, 0.02064406, ..., 0.00022061, 0.00020124,\n",
              "           0.00022361]),\n",
              "    array([3.54076008e-02, 1.00240031e-02, 5.52304506e-03, ...,\n",
              "           1.70936611e-05, 1.31123409e-05, 5.10816122e-05])]],\n",
              "  ['./sub-11/eeg/sub-11_task-genMusic03_eeg.edf',\n",
              "   [array([0.00530409, 0.03529317, 0.03365596, ..., 0.00119038, 0.00096213,\n",
              "           0.00084753]),\n",
              "    array([0.01981975, 0.01174764, 0.05447468, ..., 0.00105335, 0.00095853,\n",
              "           0.00092442]),\n",
              "    array([2.06000529e-02, 4.85474876e-02, 3.26609920e-02, ...,\n",
              "           6.94751141e-05, 8.09228161e-05, 7.39674840e-05]),\n",
              "    array([0.02238134, 0.02981749, 0.05376297, ..., 0.00012224, 0.00011113,\n",
              "           0.00012044]),\n",
              "    array([3.85537250e-03, 4.71171138e-03, 8.58425292e-03, ...,\n",
              "           8.45983668e-05, 8.69632440e-05, 8.84799171e-05]),\n",
              "    array([0.01096638, 0.02389246, 0.01061744, ..., 0.00071197, 0.00064875,\n",
              "           0.00063203]),\n",
              "    array([2.58727736e-02, 3.08808395e-02, 2.55245157e-02, ...,\n",
              "           6.92876087e-05, 9.32667629e-05, 6.84496293e-05]),\n",
              "    array([0.01200999, 0.03550132, 0.0090043 , ..., 0.0008585 , 0.00071561,\n",
              "           0.00065217]),\n",
              "    array([1.12915534e-02, 1.03115792e-02, 3.79393010e-02, ...,\n",
              "           7.58856479e-05, 1.01335362e-04, 6.80564154e-05])]],\n",
              "  ['./sub-11/eeg/sub-11_task-washout_eeg.edf',\n",
              "   [array([0.04608855, 0.0305297 , 0.07443989, ..., 0.00158158, 0.0014937 ,\n",
              "           0.00137759]),\n",
              "    array([0.02673873, 0.02183835, 0.03055664, ..., 0.00094571, 0.00106495,\n",
              "           0.00102475]),\n",
              "    array([0.04484613, 0.04149384, 0.10000066, ..., 0.00065192, 0.00064939,\n",
              "           0.00066117]),\n",
              "    array([0.02157478, 0.01139975, 0.05340442, ..., 0.00129119, 0.00139178,\n",
              "           0.00150671]),\n",
              "    array([0.01797602, 0.01353239, 0.01535907, ..., 0.00025318, 0.00025752,\n",
              "           0.00027225]),\n",
              "    array([0.02035983, 0.01462578, 0.03116868, ..., 0.00018713, 0.00018873,\n",
              "           0.00020647]),\n",
              "    array([0.01237822, 0.01421301, 0.03406512, ..., 0.00023402, 0.00023161,\n",
              "           0.00021606]),\n",
              "    array([0.02398227, 0.01057164, 0.0507568 , ..., 0.00016299, 0.00016651,\n",
              "           0.00018304]),\n",
              "    array([0.01664569, 0.009206  , 0.01693976, ..., 0.00023923, 0.00021812,\n",
              "           0.0001963 ])]],\n",
              "  ['./sub-12/eeg/sub-12_task-classicalMusic_eeg.edf',\n",
              "   [array([0.10900605, 0.09686782, 0.04668377, ..., 0.00019079, 0.00017897,\n",
              "           0.00018166]),\n",
              "    array([0.01620897, 0.04299672, 0.02872809, ..., 0.0002095 , 0.00019889,\n",
              "           0.00019612]),\n",
              "    array([2.13616109e-01, 1.57410967e-01, 1.25090778e-01, ...,\n",
              "           1.07039623e-04, 9.93413207e-05, 1.16265443e-04]),\n",
              "    array([1.87149099e-01, 1.44187330e-01, 9.88692695e-02, ...,\n",
              "           3.61180754e-05, 3.93249440e-05, 4.68472060e-05]),\n",
              "    array([0.04567693, 0.04137233, 0.02488109, ..., 0.00022938, 0.00022838,\n",
              "           0.00023558]),\n",
              "    array([0.11037474, 0.0773555 , 0.05753689, ..., 0.00016377, 0.00018064,\n",
              "           0.00017669]),\n",
              "    array([0.08617213, 0.06487304, 0.04317487, ..., 0.00014314, 0.00015136,\n",
              "           0.00014433]),\n",
              "    array([0.10592777, 0.08103522, 0.05643246, ..., 0.00014867, 0.00014842,\n",
              "           0.00014753]),\n",
              "    array([0.06841409, 0.04815887, 0.04205115, ..., 0.00012448, 0.00012694,\n",
              "           0.00011807])]],\n",
              "  ['./sub-12/eeg/sub-12_task-genMusic01_eeg.edf',\n",
              "   [array([0.00802794, 0.01605636, 0.0078652 , ..., 0.00013075, 0.0001387 ,\n",
              "           0.00012221]),\n",
              "    array([3.56614075e-03, 1.33062253e-02, 5.36637124e-03, ...,\n",
              "           1.02997455e-04, 9.50876125e-05, 1.09469057e-04]),\n",
              "    array([0.00513043, 0.01236095, 0.0074153 , ..., 0.00017885, 0.00017874,\n",
              "           0.00017484]),\n",
              "    array([0.00509778, 0.01205025, 0.0065235 , ..., 0.00015691, 0.00015422,\n",
              "           0.00016134]),\n",
              "    array([0.00358343, 0.01111659, 0.00416345, ..., 0.00013127, 0.0001279 ,\n",
              "           0.00012831]),\n",
              "    array([6.05221465e-03, 8.33973753e-03, 3.68378573e-03, ...,\n",
              "           7.63803564e-05, 7.78264300e-05, 6.84415080e-05]),\n",
              "    array([8.61922191e-03, 1.02088897e-02, 5.38916456e-03, ...,\n",
              "           5.05297506e-05, 4.80017883e-05, 5.55980805e-05]),\n",
              "    array([0.00830972, 0.00671151, 0.00862713, ..., 0.00021259, 0.00021407,\n",
              "           0.0002061 ]),\n",
              "    array([2.75844754e-03, 9.39300410e-03, 5.65542698e-03, ...,\n",
              "           4.59974249e-05, 4.09233251e-05, 4.89239391e-05])]],\n",
              "  ['./sub-12/eeg/sub-12_task-genMusic02_eeg.edf',\n",
              "   [array([0.06298904, 0.00558257, 0.07295173, ..., 0.00015032, 0.00014963,\n",
              "           0.00012112]),\n",
              "    array([0.02451875, 0.02079842, 0.01784058, ..., 0.00019731, 0.00020417,\n",
              "           0.00018668]),\n",
              "    array([1.14879149e-01, 5.50410144e-02, 1.18949305e-01, ...,\n",
              "           7.79106612e-05, 7.70579715e-05, 5.39106011e-05]),\n",
              "    array([1.00270114e-01, 4.61796701e-02, 1.18051732e-01, ...,\n",
              "           9.88781953e-05, 1.01434644e-04, 1.09804502e-04]),\n",
              "    array([0.00788915, 0.00743128, 0.00763104, ..., 0.00032127, 0.00031715,\n",
              "           0.00029872]),\n",
              "    array([6.25107692e-02, 4.07206729e-03, 5.75932753e-02, ...,\n",
              "           8.19453840e-05, 9.43425676e-05, 6.72069198e-05]),\n",
              "    array([0.04148774, 0.01745488, 0.04414108, ..., 0.00019121, 0.00021198,\n",
              "           0.00018907]),\n",
              "    array([7.35877833e-02, 7.69823180e-03, 6.94594447e-02, ...,\n",
              "           1.30227758e-05, 2.40965938e-05, 2.01717649e-05]),\n",
              "    array([0.05295743, 0.01093498, 0.04397825, ..., 0.00014275, 0.00015369,\n",
              "           0.00014156])]],\n",
              "  ['./sub-12/eeg/sub-12_task-genMusic03_eeg.edf',\n",
              "   [array([0.02886255, 0.01926021, 0.03765895, ..., 0.00021191, 0.00022033,\n",
              "           0.00019829]),\n",
              "    array([0.03873354, 0.01009673, 0.03317582, ..., 0.00018321, 0.00018735,\n",
              "           0.00017576]),\n",
              "    array([1.12421873e-02, 3.67372682e-02, 2.86418181e-02, ...,\n",
              "           1.12906697e-04, 1.21829939e-04, 9.29752264e-05]),\n",
              "    array([3.31418349e-02, 2.27776439e-02, 3.87349209e-02, ...,\n",
              "           9.77950977e-05, 1.00181124e-04, 9.43973401e-05]),\n",
              "    array([0.01371993, 0.01217194, 0.01576378, ..., 0.00024931, 0.00026848,\n",
              "           0.00027558]),\n",
              "    array([0.0161976 , 0.00607242, 0.02075786, ..., 0.00018614, 0.00018936,\n",
              "           0.00016942]),\n",
              "    array([0.0172116 , 0.01875206, 0.02103225, ..., 0.00016722, 0.00016862,\n",
              "           0.00014978]),\n",
              "    array([0.01892428, 0.01573304, 0.02442945, ..., 0.00013884, 0.00014492,\n",
              "           0.00012093]),\n",
              "    array([0.0278462 , 0.01170092, 0.02333035, ..., 0.00018072, 0.00017975,\n",
              "           0.00017478])]],\n",
              "  ['./sub-12/eeg/sub-12_task-washout_eeg.edf',\n",
              "   [array([0.01539446, 0.03349405, 0.02637268, ..., 0.0010446 , 0.00114429,\n",
              "           0.00102505]),\n",
              "    array([0.01487717, 0.02718023, 0.02889407, ..., 0.00126092, 0.00113871,\n",
              "           0.00126006]),\n",
              "    array([3.25624400e-02, 2.29387575e-02, 1.67222829e-02, ...,\n",
              "           1.87853765e-05, 1.98326820e-05, 2.34777977e-05]),\n",
              "    array([4.69730898e-03, 1.33472587e-02, 1.96577842e-02, ...,\n",
              "           2.70329276e-05, 3.46248441e-05, 3.74999152e-05]),\n",
              "    array([5.93028168e-03, 6.81239229e-03, 1.30424535e-02, ...,\n",
              "           8.94165402e-05, 9.01492050e-05, 9.09551234e-05]),\n",
              "    array([0.01941106, 0.00628278, 0.02326511, ..., 0.00013022, 0.00013142,\n",
              "           0.00013222]),\n",
              "    array([0.0122932 , 0.00726325, 0.01894536, ..., 0.00087133, 0.00064868,\n",
              "           0.00088954]),\n",
              "    array([0.00782094, 0.01359256, 0.01834605, ..., 0.00071552, 0.00074499,\n",
              "           0.00071007]),\n",
              "    array([0.01128211, 0.01370152, 0.0183748 , ..., 0.00102271, 0.0009159 ,\n",
              "           0.00102846])]],\n",
              "  ['./sub-13/eeg/sub-13_task-classicalMusic_eeg.edf',\n",
              "   [array([0.01541501, 0.01924035, 0.01641566, ..., 0.00014427, 0.00016036,\n",
              "           0.00013913]),\n",
              "    array([0.03114575, 0.02803537, 0.01210367, ..., 0.00011929, 0.00013651,\n",
              "           0.00011762]),\n",
              "    array([1.45527258e-02, 9.23747349e-03, 1.45701050e-02, ...,\n",
              "           7.49172120e-06, 7.17532917e-06, 1.37813899e-05]),\n",
              "    array([3.86730370e-02, 2.15580292e-02, 1.52594115e-02, ...,\n",
              "           5.56747509e-05, 6.10405540e-05, 5.37299682e-05]),\n",
              "    array([2.63123129e-03, 4.65478611e-03, 2.27391477e-03, ...,\n",
              "           4.38604828e-05, 4.32326213e-05, 4.22763291e-05]),\n",
              "    array([4.56446172e-03, 9.00202711e-03, 1.58881275e-02, ...,\n",
              "           1.07759684e-05, 7.38454242e-06, 1.16206490e-05]),\n",
              "    array([1.63852796e-02, 1.81287698e-02, 1.72708242e-02, ...,\n",
              "           4.25696804e-05, 5.71577678e-05, 4.31344591e-05]),\n",
              "    array([4.12367925e-03, 1.26717471e-02, 1.57844034e-02, ...,\n",
              "           3.80658632e-05, 5.37622791e-05, 3.14112788e-05]),\n",
              "    array([1.79776802e-02, 1.70334000e-02, 1.38347301e-02, ...,\n",
              "           9.96915269e-05, 1.12507506e-04, 9.84494905e-05])]],\n",
              "  ['./sub-13/eeg/sub-13_task-genMusic01_eeg.edf',\n",
              "   [array([0.03438231, 0.03290191, 0.01030353, ..., 0.00025172, 0.00024996,\n",
              "           0.00025671]),\n",
              "    array([0.02659261, 0.01968499, 0.02393588, ..., 0.0002586 , 0.00024634,\n",
              "           0.00025636]),\n",
              "    array([0.07326329, 0.05785814, 0.03693916, ..., 0.00013505, 0.0001396 ,\n",
              "           0.00013661]),\n",
              "    array([0.05022549, 0.03642102, 0.03435815, ..., 0.00011341, 0.0001055 ,\n",
              "           0.00011392]),\n",
              "    array([0.00910984, 0.00712251, 0.00492644, ..., 0.0001098 , 0.00011116,\n",
              "           0.00010764]),\n",
              "    array([0.03734425, 0.01953042, 0.01892514, ..., 0.00019734, 0.00020109,\n",
              "           0.00020229]),\n",
              "    array([2.32069988e-02, 2.39129992e-02, 1.34556805e-02, ...,\n",
              "           1.38083377e-05, 8.93349011e-06, 1.25464971e-05]),\n",
              "    array([0.04253006, 0.02304344, 0.0180483 , ..., 0.00032333, 0.00032842,\n",
              "           0.00032907]),\n",
              "    array([0.01049063, 0.00582948, 0.01138152, ..., 0.00020337, 0.00020281,\n",
              "           0.00020841])]],\n",
              "  ['./sub-13/eeg/sub-13_task-genMusic02_eeg.edf',\n",
              "   [array([0.02712918, 0.02881741, 0.02400599, ..., 0.00135047, 0.00126818,\n",
              "           0.00153629]),\n",
              "    array([0.01306476, 0.02413951, 0.01378994, ..., 0.00134823, 0.00134515,\n",
              "           0.00133921]),\n",
              "    array([0.02263543, 0.01762459, 0.01020185, ..., 0.00018529, 0.00017088,\n",
              "           0.00019247]),\n",
              "    array([0.01228329, 0.0184969 , 0.01516708, ..., 0.00020483, 0.00020112,\n",
              "           0.00020618]),\n",
              "    array([9.12142342e-03, 7.31378657e-03, 4.73210551e-03, ...,\n",
              "           7.75607225e-06, 9.60182787e-06, 9.11691163e-06]),\n",
              "    array([0.00895153, 0.01816243, 0.01856961, ..., 0.00088009, 0.00086448,\n",
              "           0.0009941 ]),\n",
              "    array([0.00145775, 0.00957997, 0.00662856, ..., 0.00106736, 0.00105771,\n",
              "           0.00105643]),\n",
              "    array([0.01553311, 0.01919251, 0.02071208, ..., 0.00093684, 0.00088628,\n",
              "           0.00112235]),\n",
              "    array([0.00622064, 0.02037552, 0.00936687, ..., 0.00120532, 0.00117825,\n",
              "           0.00130714])]],\n",
              "  ['./sub-13/eeg/sub-13_task-genMusic03_eeg.edf',\n",
              "   [array([5.98153263e-02, 7.27191351e-02, 6.67693660e-02, ...,\n",
              "           1.18911156e-04, 1.02887794e-04, 7.18553545e-05]),\n",
              "    array([7.85036900e-02, 7.81889078e-02, 7.91003028e-02, ...,\n",
              "           1.39108709e-04, 1.16058999e-04, 9.26973934e-05]),\n",
              "    array([4.11913855e-02, 5.49703924e-02, 3.73256753e-02, ...,\n",
              "           2.57292263e-05, 2.44478622e-05, 2.78693725e-05]),\n",
              "    array([0.03493286, 0.04206793, 0.05572806, ..., 0.00015873, 0.00014229,\n",
              "           0.00013754]),\n",
              "    array([4.02152693e-02, 3.68605847e-02, 3.67682976e-02, ...,\n",
              "           5.83481851e-06, 1.31438084e-05, 1.46949864e-05]),\n",
              "    array([1.59543273e-02, 1.61637208e-02, 4.31087827e-03, ...,\n",
              "           8.48206362e-05, 7.74276295e-05, 6.39914055e-05]),\n",
              "    array([3.66543450e-02, 3.40280161e-02, 2.79972521e-02, ...,\n",
              "           9.41392051e-05, 7.66841093e-05, 6.24756704e-05]),\n",
              "    array([2.50650086e-02, 3.16885921e-02, 2.03339432e-02, ...,\n",
              "           1.02923426e-04, 9.42022734e-05, 7.40998633e-05]),\n",
              "    array([0.05033005, 0.04709607, 0.03843486, ..., 0.00016134, 0.00014308,\n",
              "           0.00012148])]],\n",
              "  ['./sub-13/eeg/sub-13_task-washout_eeg.edf',\n",
              "   [array([0.04537546, 0.04970737, 0.02152749, ..., 0.00128453, 0.00150712,\n",
              "           0.00121171]),\n",
              "    array([0.02388514, 0.0138564 , 0.00535812, ..., 0.00131022, 0.00145423,\n",
              "           0.00122369]),\n",
              "    array([0.05359731, 0.0692337 , 0.02350876, ..., 0.00076145, 0.00075421,\n",
              "           0.00075933]),\n",
              "    array([1.47655385e-02, 3.96269893e-02, 1.00739740e-02, ...,\n",
              "           5.98236640e-05, 6.38394381e-05, 6.85274212e-05]),\n",
              "    array([0.01417804, 0.01617098, 0.00639134, ..., 0.00019368, 0.00021644,\n",
              "           0.00019088]),\n",
              "    array([0.02668571, 0.03588567, 0.02250275, ..., 0.0008046 , 0.0008327 ,\n",
              "           0.0008332 ]),\n",
              "    array([0.00705091, 0.00320596, 0.00622746, ..., 0.00096258, 0.00094371,\n",
              "           0.00099512]),\n",
              "    array([0.03190571, 0.03435654, 0.02250399, ..., 0.00092254, 0.00105624,\n",
              "           0.00086549]),\n",
              "    array([0.02324309, 0.01813215, 0.00335754, ..., 0.00115571, 0.00123661,\n",
              "           0.00107419])]],\n",
              "  ['./sub-14/eeg/sub-14_task-classicalMusic_eeg.edf',\n",
              "   [array([1.42207100e-02, 2.53798752e-02, 2.05994386e-02, ...,\n",
              "           8.76304078e-05, 1.01073157e-04, 7.19363593e-05]),\n",
              "    array([1.93680498e-02, 1.84674182e-02, 2.72480794e-03, ...,\n",
              "           1.06677949e-04, 1.17265503e-04, 8.74636776e-05]),\n",
              "    array([2.71178753e-03, 1.38332534e-02, 6.51597412e-03, ...,\n",
              "           1.03735515e-04, 8.75792381e-05, 1.06757025e-04]),\n",
              "    array([1.51929711e-02, 3.65531581e-03, 1.77160368e-02, ...,\n",
              "           8.73470793e-05, 7.81739784e-05, 9.24184115e-05]),\n",
              "    array([4.94024657e-03, 5.68602144e-03, 2.04397823e-03, ...,\n",
              "           2.54104113e-05, 2.52397178e-05, 2.58167554e-05]),\n",
              "    array([6.34429304e-03, 1.09691945e-02, 1.29259147e-02, ...,\n",
              "           1.76977432e-05, 2.38115546e-05, 5.99917819e-06]),\n",
              "    array([1.13418446e-02, 7.24958449e-03, 1.16685347e-02, ...,\n",
              "           2.35896699e-05, 2.44659178e-05, 1.56794625e-05]),\n",
              "    array([0.01449791, 0.01002021, 0.01128067, ..., 0.00022099, 0.00023425,\n",
              "           0.00020634]),\n",
              "    array([1.29811493e-02, 1.22864927e-02, 1.24608544e-02, ...,\n",
              "           7.25979751e-05, 6.90481964e-05, 8.51219007e-05])]],\n",
              "  ['./sub-14/eeg/sub-14_task-genMusic01_eeg.edf',\n",
              "   [array([0.01154151, 0.00303964, 0.03031846, ..., 0.00025309, 0.00026616,\n",
              "           0.00021617]),\n",
              "    array([2.82647123e-02, 6.23803680e-03, 3.15351847e-02, ...,\n",
              "           1.07114098e-04, 1.18643794e-04, 8.86679993e-05]),\n",
              "    array([1.55577060e-02, 1.22675965e-02, 3.25828955e-03, ...,\n",
              "           5.27155779e-05, 5.46952037e-05, 2.12320206e-05]),\n",
              "    array([3.47359724e-02, 8.42739469e-03, 1.50004910e-02, ...,\n",
              "           7.27188520e-05, 7.27975970e-05, 6.11603334e-05]),\n",
              "    array([5.21242040e-04, 4.43571459e-03, 5.23822908e-03, ...,\n",
              "           5.66893086e-05, 5.80082066e-05, 4.82104444e-05]),\n",
              "    array([0.0112756 , 0.00933068, 0.00858369, ..., 0.00017393, 0.00018542,\n",
              "           0.0001447 ]),\n",
              "    array([1.14379142e-02, 5.28521998e-03, 2.69041126e-03, ...,\n",
              "           1.29443321e-05, 7.01597325e-06, 1.91968246e-05]),\n",
              "    array([0.00365447, 0.00817907, 0.00762149, ..., 0.00014691, 0.00015212,\n",
              "           0.00012805]),\n",
              "    array([1.41557085e-02, 3.25016449e-03, 3.32446949e-03, ...,\n",
              "           8.39089915e-05, 9.51439430e-05, 6.41340275e-05])]],\n",
              "  ['./sub-14/eeg/sub-14_task-genMusic02_eeg.edf',\n",
              "   [array([0.01885308, 0.01080895, 0.03180674, ..., 0.00014705, 0.00014925,\n",
              "           0.00014587]),\n",
              "    array([0.00891301, 0.01782548, 0.02577012, ..., 0.00017507, 0.00017268,\n",
              "           0.00017709]),\n",
              "    array([0.01548284, 0.01402304, 0.02942633, ..., 0.00013023, 0.000111  ,\n",
              "           0.00012221]),\n",
              "    array([1.39381476e-02, 2.53262608e-02, 1.35330073e-02, ...,\n",
              "           2.86285258e-05, 2.42609054e-05, 1.80554242e-05]),\n",
              "    array([7.13199065e-03, 2.36154412e-03, 4.74634648e-03, ...,\n",
              "           4.98561525e-05, 4.82537236e-05, 5.09768628e-05]),\n",
              "    array([0.00618402, 0.01471263, 0.00615702, ..., 0.00097961, 0.00097438,\n",
              "           0.00099046]),\n",
              "    array([8.36758357e-03, 1.99802376e-02, 1.49389772e-02, ...,\n",
              "           7.99276581e-05, 7.10078315e-05, 7.07489726e-05]),\n",
              "    array([0.01834881, 0.00438266, 0.01431893, ..., 0.00103241, 0.00063724,\n",
              "           0.00095906]),\n",
              "    array([0.00284715, 0.01764007, 0.0192624 , ..., 0.00110895, 0.00108184,\n",
              "           0.00112245])]],\n",
              "  ['./sub-14/eeg/sub-14_task-genMusic03_eeg.edf',\n",
              "   [array([0.01447962, 0.02624963, 0.01798236, ..., 0.00167365, 0.00150549,\n",
              "           0.00153904]),\n",
              "    array([0.01896495, 0.03538086, 0.02354787, ..., 0.0013469 , 0.00136038,\n",
              "           0.00136317]),\n",
              "    array([0.00385787, 0.01876308, 0.00272077, ..., 0.0001248 , 0.00012201,\n",
              "           0.00013463]),\n",
              "    array([1.87831009e-02, 3.27097862e-02, 1.98971118e-02, ...,\n",
              "           5.51278217e-05, 5.18190802e-05, 4.35592940e-05]),\n",
              "    array([0.00320058, 0.0054434 , 0.00491126, ..., 0.00038413, 0.00036552,\n",
              "           0.00036079]),\n",
              "    array([0.0065971 , 0.01398484, 0.00958249, ..., 0.00091695, 0.00092394,\n",
              "           0.00093888]),\n",
              "    array([0.01244933, 0.01955022, 0.01404136, ..., 0.0008489 , 0.00074819,\n",
              "           0.00076294]),\n",
              "    array([0.01189654, 0.00770226, 0.01747138, ..., 0.00117535, 0.00085551,\n",
              "           0.00095469]),\n",
              "    array([0.01126142, 0.02302138, 0.01542279, ..., 0.00150529, 0.00156139,\n",
              "           0.00156202])]],\n",
              "  ['./sub-14/eeg/sub-14_task-washout_eeg.edf',\n",
              "   [array([0.00666163, 0.02662608, 0.01784435, ..., 0.00137479, 0.00107577,\n",
              "           0.0013422 ]),\n",
              "    array([0.01710265, 0.02377875, 0.03141255, ..., 0.001287  , 0.00113936,\n",
              "           0.00130037]),\n",
              "    array([1.45437012e-02, 1.01258714e-02, 1.74713128e-02, ...,\n",
              "           9.00673776e-05, 7.87755272e-05, 8.90265041e-05]),\n",
              "    array([1.78067289e-02, 2.97275119e-02, 3.54991198e-02, ...,\n",
              "           2.07034496e-05, 3.74257840e-05, 3.54990209e-05]),\n",
              "    array([1.17017813e-03, 6.51112584e-03, 1.93456685e-03, ...,\n",
              "           6.25542554e-05, 6.57998856e-05, 6.75244925e-05]),\n",
              "    array([0.01275222, 0.00524409, 0.01237318, ..., 0.00075642, 0.00078245,\n",
              "           0.0007785 ]),\n",
              "    array([0.00252565, 0.00607846, 0.01616681, ..., 0.0007302 , 0.00075932,\n",
              "           0.00074638]),\n",
              "    array([0.00515784, 0.0145776 , 0.00763896, ..., 0.00106969, 0.00062611,\n",
              "           0.00101734]),\n",
              "    array([0.00482265, 0.01642423, 0.01581736, ..., 0.00103488, 0.0009959 ,\n",
              "           0.00103949])]],\n",
              "  ['./sub-15/eeg/sub-15_task-classicalMusic_eeg.edf',\n",
              "   [array([2.39191031e-02, 3.22306988e-02, 2.71127763e-02, ...,\n",
              "           8.98035743e-05, 6.26140731e-05, 8.38537650e-05]),\n",
              "    array([3.47042353e-02, 2.45591900e-02, 9.93128711e-03, ...,\n",
              "           5.98486532e-05, 3.86248364e-05, 6.34077151e-05]),\n",
              "    array([0.01228625, 0.05780103, 0.03593616, ..., 0.00014128, 0.00015093,\n",
              "           0.00013712]),\n",
              "    array([0.03457278, 0.08319689, 0.04229056, ..., 0.00017664, 0.00017008,\n",
              "           0.0001646 ]),\n",
              "    array([1.44602379e-02, 6.53603263e-03, 4.15274017e-03, ...,\n",
              "           3.45326883e-05, 3.81047178e-05, 2.57710705e-05]),\n",
              "    array([3.62213671e-03, 4.44425415e-02, 2.66935333e-02, ...,\n",
              "           7.69262620e-05, 9.61439407e-05, 6.88945121e-05]),\n",
              "    array([0.0433042 , 0.03757556, 0.02108609, ..., 0.00018088, 0.00016192,\n",
              "           0.00016652]),\n",
              "    array([5.60554832e-03, 4.63425663e-02, 2.84466088e-02, ...,\n",
              "           6.67530619e-05, 4.20679567e-05, 5.32294923e-05]),\n",
              "    array([5.05383778e-02, 5.29129776e-02, 1.59612792e-02, ...,\n",
              "           6.14617533e-05, 7.63398035e-05, 4.52515051e-05])]],\n",
              "  ['./sub-15/eeg/sub-15_task-genMusic01_eeg.edf',\n",
              "   [array([5.18195935e-02, 7.51662410e-02, 4.37334024e-02, ...,\n",
              "           1.27260887e-05, 3.03462711e-05, 8.53351971e-06]),\n",
              "    array([8.38864036e-03, 2.58378970e-02, 6.31162370e-03, ...,\n",
              "           8.23522555e-05, 1.07885514e-04, 8.40252442e-05]),\n",
              "    array([7.78817750e-02, 1.23208738e-01, 6.11710824e-02, ...,\n",
              "           1.32516231e-04, 1.01220984e-04, 1.21585638e-04]),\n",
              "    array([6.36018046e-02, 1.17610362e-01, 4.02594639e-02, ...,\n",
              "           6.38859075e-05, 7.99099516e-05, 7.66089175e-05]),\n",
              "    array([0.00390282, 0.00535786, 0.00720076, ..., 0.00018001, 0.00011341,\n",
              "           0.00012915]),\n",
              "    array([4.30381757e-02, 5.86945473e-02, 2.86424061e-02, ...,\n",
              "           1.03843559e-04, 7.27518371e-05, 9.75465161e-05]),\n",
              "    array([0.0393348 , 0.08121607, 0.0272232 , ..., 0.00010729, 0.00011076,\n",
              "           0.00010354]),\n",
              "    array([5.13087314e-02, 7.52486874e-02, 3.46929830e-02, ...,\n",
              "           1.16863173e-04, 8.52947624e-05, 1.18031146e-04]),\n",
              "    array([0.03664085, 0.06711019, 0.0186102 , ..., 0.00013001, 0.00013576,\n",
              "           0.00012679])]],\n",
              "  ['./sub-15/eeg/sub-15_task-genMusic02_eeg.edf',\n",
              "   [array([0.04985724, 0.01158993, 0.02372175, ..., 0.0001625 , 0.00016151,\n",
              "           0.00016067]),\n",
              "    array([2.05692749e-02, 6.78428226e-03, 1.16997054e-02, ...,\n",
              "           1.80624045e-05, 2.03563640e-05, 1.86874655e-05]),\n",
              "    array([0.0908678 , 0.0141914 , 0.04506121, ..., 0.00011433, 0.00010911,\n",
              "           0.00010623]),\n",
              "    array([9.05973171e-02, 7.44496872e-03, 4.73555481e-02, ...,\n",
              "           3.41982671e-05, 2.80883032e-05, 2.64828289e-05]),\n",
              "    array([3.55006029e-03, 3.63308102e-03, 1.58001236e-03, ...,\n",
              "           6.11311906e-05, 6.10300818e-05, 6.24087484e-05]),\n",
              "    array([4.64277483e-02, 5.97151350e-03, 2.18674686e-02, ...,\n",
              "           7.64827569e-05, 7.35285833e-05, 7.23819552e-05]),\n",
              "    array([0.05927849, 0.01060964, 0.02898063, ..., 0.00015831, 0.00015688,\n",
              "           0.00015451]),\n",
              "    array([5.53619870e-02, 8.44599051e-03, 2.58713395e-02, ...,\n",
              "           6.79881923e-05, 6.67581033e-05, 6.34323060e-05]),\n",
              "    array([5.12137990e-02, 1.70361002e-03, 2.78241979e-02, ...,\n",
              "           4.67907354e-05, 4.66901694e-05, 4.33211625e-05])]],\n",
              "  ['./sub-15/eeg/sub-15_task-genMusic03_eeg.edf',\n",
              "   [array([3.26711232e-02, 3.59162245e-02, 3.54064756e-02, ...,\n",
              "           2.37749150e-05, 5.47396378e-05, 3.21048562e-05]),\n",
              "    array([0.0129097 , 0.01267948, 0.03569162, ..., 0.00011312, 0.00012687,\n",
              "           0.0001521 ]),\n",
              "    array([5.78503924e-02, 6.95755328e-02, 3.93462170e-02, ...,\n",
              "           3.46323578e-05, 5.57326873e-05, 4.72950541e-05]),\n",
              "    array([0.06299981, 0.05488353, 0.05022021, ..., 0.00010922, 0.00010768,\n",
              "           0.00011113]),\n",
              "    array([2.28806281e-03, 4.92783677e-03, 2.19010724e-03, ...,\n",
              "           1.64487686e-05, 2.03577292e-05, 2.40419142e-05]),\n",
              "    array([3.01379988e-02, 1.98379141e-02, 2.28866804e-02, ...,\n",
              "           1.98717789e-06, 3.79577666e-05, 2.64316418e-05]),\n",
              "    array([4.45072836e-02, 4.27737016e-02, 3.38051704e-02, ...,\n",
              "           2.84717655e-05, 2.03113089e-05, 4.04817063e-05]),\n",
              "    array([0.03389822, 0.03038289, 0.02432738, ..., 0.00129498, 0.00129222,\n",
              "           0.00132733]),\n",
              "    array([3.31850445e-02, 3.61109934e-02, 3.04404156e-02, ...,\n",
              "           3.79442771e-05, 3.70225733e-05, 6.04021217e-05])]],\n",
              "  ['./sub-15/eeg/sub-15_task-washout_eeg.edf',\n",
              "   [array([4.23384984e-02, 1.07722131e-02, 3.96508044e-02, ...,\n",
              "           1.03720398e-04, 9.44079491e-05, 8.72505774e-05]),\n",
              "    array([2.81187113e-02, 2.54048635e-02, 4.42585217e-02, ...,\n",
              "           2.25367981e-05, 6.87082903e-06, 3.03701848e-05]),\n",
              "    array([6.22859432e-02, 5.12861239e-02, 5.11597159e-02, ...,\n",
              "           2.79679968e-05, 2.44301485e-05, 3.39524005e-05]),\n",
              "    array([5.75008401e-02, 5.39436216e-02, 4.88167105e-02, ...,\n",
              "           1.33903223e-05, 5.91951151e-06, 6.17580613e-06]),\n",
              "    array([3.47601881e-03, 3.93325071e-03, 5.25225516e-03, ...,\n",
              "           2.08713177e-05, 2.18075606e-05, 2.02259193e-05]),\n",
              "    array([0.02329919, 0.01599264, 0.01832522, ..., 0.00077414, 0.00082121,\n",
              "           0.00080742]),\n",
              "    array([0.04511061, 0.03548239, 0.0374985 , ..., 0.00085192, 0.00082904,\n",
              "           0.00089884]),\n",
              "    array([0.02759979, 0.01781476, 0.01939844, ..., 0.00088892, 0.00104935,\n",
              "           0.00095421]),\n",
              "    array([3.63595246e-02, 3.04731035e-02, 3.42435037e-02, ...,\n",
              "           9.85182584e-05, 1.01003823e-04, 1.07265126e-04])]],\n",
              "  ['./sub-16/eeg/sub-16_task-classicalMusic_eeg.edf',\n",
              "   [array([0.03700121, 0.03307877, 0.04057011, ..., 0.00113599, 0.00099618,\n",
              "           0.00115075]),\n",
              "    array([0.01304215, 0.01522379, 0.02198308, ..., 0.00014382, 0.00015718,\n",
              "           0.00014953]),\n",
              "    array([7.81914974e-02, 4.16147898e-02, 4.07665279e-02, ...,\n",
              "           8.95694582e-05, 8.30805110e-05, 7.85086736e-05]),\n",
              "    array([6.13164595e-02, 3.09836945e-02, 2.89653084e-02, ...,\n",
              "           9.43511026e-05, 9.43948650e-05, 8.93899953e-05]),\n",
              "    array([6.07323828e-03, 3.86740168e-03, 3.64295061e-03, ...,\n",
              "           2.35259201e-05, 2.32733290e-05, 2.48932594e-05]),\n",
              "    array([0.04663788, 0.02556099, 0.02870906, ..., 0.00094256, 0.00098702,\n",
              "           0.00097266]),\n",
              "    array([0.02539005, 0.01546174, 0.00437904, ..., 0.00016782, 0.00017813,\n",
              "           0.00017516]),\n",
              "    array([4.42845244e-02, 3.22184929e-02, 3.19729087e-02, ...,\n",
              "           1.28782884e-05, 2.21232566e-05, 5.66265694e-06]),\n",
              "    array([0.02295518, 0.01067502, 0.00650356, ..., 0.00083761, 0.00070566,\n",
              "           0.00081037])]],\n",
              "  ['./sub-16/eeg/sub-16_task-genMusic01_eeg.edf',\n",
              "   [array([0.07673425, 0.05369274, 0.08091628, ..., 0.00020435, 0.00021966,\n",
              "           0.00019853]),\n",
              "    array([0.02901014, 0.05081682, 0.01593816, ..., 0.00026364, 0.00027375,\n",
              "           0.00025779]),\n",
              "    array([1.53177004e-01, 1.40518133e-01, 1.51515303e-01, ...,\n",
              "           1.09169008e-04, 1.31405722e-04, 1.13904940e-04]),\n",
              "    array([1.19744100e-01, 1.24157382e-01, 1.11322257e-01, ...,\n",
              "           5.34398916e-05, 4.34902905e-05, 4.96806505e-05]),\n",
              "    array([1.05063996e-02, 1.18005173e-02, 1.22240063e-02, ...,\n",
              "           5.51476648e-05, 6.25289824e-05, 5.54857428e-05]),\n",
              "    array([8.28101055e-02, 8.51664276e-02, 7.60293784e-02, ...,\n",
              "           1.43452469e-05, 1.96992070e-05, 2.25349786e-05]),\n",
              "    array([7.49578082e-02, 6.38497646e-02, 6.92189434e-02, ...,\n",
              "           8.24819366e-05, 1.03346742e-04, 9.33179032e-05]),\n",
              "    array([0.08509717, 0.07458626, 0.08312709, ..., 0.00016792, 0.00018963,\n",
              "           0.00016551]),\n",
              "    array([5.60813402e-02, 5.87354009e-02, 4.89544722e-02, ...,\n",
              "           5.92601489e-05, 6.16704660e-05, 5.36359198e-05])]],\n",
              "  ['./sub-16/eeg/sub-16_task-genMusic02_eeg.edf',\n",
              "   [array([1.08257544e-02, 8.73284818e-03, 2.54296307e-02, ...,\n",
              "           4.91498806e-05, 3.86240242e-05, 3.94264740e-05]),\n",
              "    array([0.01412008, 0.02495053, 0.01025531, ..., 0.0002637 , 0.00026432,\n",
              "           0.00026055]),\n",
              "    array([2.94896913e-02, 3.40723025e-02, 2.77603941e-02, ...,\n",
              "           4.73522969e-05, 4.79060181e-05, 3.62364974e-05]),\n",
              "    array([0.03156054, 0.03790551, 0.02604847, ..., 0.00012252, 0.00012559,\n",
              "           0.00012552]),\n",
              "    array([5.73007557e-03, 2.23867929e-03, 6.96356290e-03, ...,\n",
              "           9.74474796e-05, 9.69631828e-05, 9.60842999e-05]),\n",
              "    array([2.51919413e-02, 2.48902628e-02, 1.58405589e-02, ...,\n",
              "           4.49175901e-05, 3.26258100e-05, 3.96484390e-05]),\n",
              "    array([0.01232022, 0.01295901, 0.01476624, ..., 0.00019282, 0.00018098,\n",
              "           0.00018363]),\n",
              "    array([1.82304171e-02, 1.93517454e-02, 2.01709502e-02, ...,\n",
              "           2.65851100e-05, 9.82592383e-06, 1.65244240e-05]),\n",
              "    array([1.15560005e-02, 1.78779699e-02, 6.75053165e-03, ...,\n",
              "           7.28196664e-05, 5.73338762e-05, 6.07398969e-05])]],\n",
              "  ['./sub-16/eeg/sub-16_task-genMusic03_eeg.edf',\n",
              "   [array([0.03851391, 0.00680463, 0.01384689, ..., 0.00021528, 0.00020759,\n",
              "           0.00019527]),\n",
              "    array([1.52032161e-02, 2.60992008e-02, 1.61354192e-02, ...,\n",
              "           9.12530313e-05, 7.99136471e-05, 6.78300384e-05]),\n",
              "    array([3.83314518e-02, 3.51697453e-02, 3.78586892e-02, ...,\n",
              "           1.04783874e-05, 2.03209949e-05, 3.79443394e-05]),\n",
              "    array([0.00722162, 0.04108219, 0.03846517, ..., 0.0001941 , 0.00018598,\n",
              "           0.00018169]),\n",
              "    array([4.63742473e-03, 4.92099777e-03, 6.06914431e-03, ...,\n",
              "           2.32000391e-05, 2.81433190e-05, 2.95170199e-05]),\n",
              "    array([1.61582374e-02, 2.38547465e-02, 2.11032097e-02, ...,\n",
              "           6.25225512e-05, 6.59642755e-05, 7.28251118e-05]),\n",
              "    array([0.01408615, 0.01784522, 0.01903412, ..., 0.00011868, 0.00013484,\n",
              "           0.00014704]),\n",
              "    array([2.58775825e-02, 2.04296494e-02, 2.09632810e-02, ...,\n",
              "           3.06595957e-05, 2.78687353e-05, 2.91525998e-05]),\n",
              "    array([3.91479512e-03, 1.64843429e-02, 1.60394320e-02, ...,\n",
              "           1.82281792e-05, 7.94749306e-06, 3.28332941e-06])]],\n",
              "  ['./sub-16/eeg/sub-16_task-washout_eeg.edf',\n",
              "   [array([1.20505147e-02, 2.73204879e-02, 2.87232432e-02, ...,\n",
              "           1.39167628e-04, 1.52727699e-04, 9.87509924e-05]),\n",
              "    array([3.92614480e-03, 1.53024600e-02, 1.10776613e-02, ...,\n",
              "           1.23780032e-04, 1.33112072e-04, 9.71120835e-05]),\n",
              "    array([1.98364995e-02, 3.54857413e-02, 3.75561086e-02, ...,\n",
              "           3.13017865e-05, 3.51501030e-05, 2.08576471e-05]),\n",
              "    array([1.88364493e-02, 2.94473509e-02, 3.49557679e-02, ...,\n",
              "           6.58874247e-05, 6.62905631e-05, 6.26073308e-05]),\n",
              "    array([2.42283621e-03, 2.26258869e-03, 4.29037975e-03, ...,\n",
              "           4.65033582e-05, 4.07304978e-05, 4.41949984e-05]),\n",
              "    array([9.51122204e-03, 2.83052072e-02, 2.70566905e-02, ...,\n",
              "           3.57240294e-05, 4.22727862e-05, 6.75376963e-06]),\n",
              "    array([0.00984629, 0.01511238, 0.01882459, ..., 0.00013226, 0.00013807,\n",
              "           0.00010753]),\n",
              "    array([1.15278123e-02, 2.51304065e-02, 2.70014907e-02, ...,\n",
              "           2.46051569e-05, 1.50007961e-06, 4.47348617e-05]),\n",
              "    array([8.36934915e-03, 1.08641305e-02, 1.34503684e-02, ...,\n",
              "           5.03718657e-05, 5.40292268e-05, 2.39667405e-05])]],\n",
              "  ['./sub-17/eeg/sub-17_task-classicalMusic_eeg.edf',\n",
              "   [array([0.0503402 , 0.02517378, 0.03228677, ..., 0.00016391, 0.00014002,\n",
              "           0.00018179]),\n",
              "    array([0.05341579, 0.043618  , 0.03134594, ..., 0.00115346, 0.00118717,\n",
              "           0.00130196]),\n",
              "    array([1.03926781e-01, 7.44562506e-02, 7.89343364e-02, ...,\n",
              "           8.68835429e-05, 9.54294599e-05, 8.33475776e-05]),\n",
              "    array([0.06853425, 0.06321802, 0.06540104, ..., 0.00013812, 0.00013575,\n",
              "           0.00014163]),\n",
              "    array([3.28558610e-02, 2.68226639e-02, 3.11660826e-02, ...,\n",
              "           1.21364395e-05, 1.06717775e-05, 1.20749412e-05]),\n",
              "    array([5.35651218e-02, 3.13553456e-02, 4.00900701e-02, ...,\n",
              "           5.43562567e-05, 6.99299413e-05, 4.12898506e-05]),\n",
              "    array([2.52012413e-02, 3.08418721e-02, 2.31219046e-02, ...,\n",
              "           1.20959895e-05, 2.83908473e-05, 1.40573806e-05]),\n",
              "    array([3.51260521e-02, 1.95230723e-02, 3.45256864e-02, ...,\n",
              "           1.93074946e-05, 1.20902692e-05, 3.49455364e-05]),\n",
              "    array([0.03557145, 0.03142884, 0.01988116, ..., 0.00089051, 0.00087586,\n",
              "           0.00094001])]],\n",
              "  ['./sub-17/eeg/sub-17_task-genMusic01_eeg.edf',\n",
              "   [array([0.00981991, 0.03914976, 0.02668189, ..., 0.00025514, 0.00025508,\n",
              "           0.00027576]),\n",
              "    array([0.03339262, 0.0390038 , 0.05779551, ..., 0.00023436, 0.00024314,\n",
              "           0.0002422 ]),\n",
              "    array([0.01926376, 0.03497114, 0.01877831, ..., 0.00028596, 0.00025576,\n",
              "           0.00030811]),\n",
              "    array([0.03551121, 0.03036978, 0.04355238, ..., 0.00022764, 0.00022381,\n",
              "           0.00022524]),\n",
              "    array([4.79898915e-03, 9.40545350e-03, 3.00697618e-03, ...,\n",
              "           1.08541169e-05, 1.14618275e-05, 1.45507961e-05]),\n",
              "    array([0.02081865, 0.01513025, 0.01898511, ..., 0.00018634, 0.00016178,\n",
              "           0.00020869]),\n",
              "    array([0.00836364, 0.01785732, 0.01102367, ..., 0.00023155, 0.00021706,\n",
              "           0.00024345]),\n",
              "    array([0.00952316, 0.01227759, 0.00630752, ..., 0.00013109, 0.00012021,\n",
              "           0.00014996]),\n",
              "    array([0.01847531, 0.01961133, 0.02628892, ..., 0.00015348, 0.00015347,\n",
              "           0.00016057])]],\n",
              "  ['./sub-17/eeg/sub-17_task-genMusic02_eeg.edf',\n",
              "   [array([0.01990492, 0.03094628, 0.01964882, ..., 0.00032833, 0.00029441,\n",
              "           0.00030827]),\n",
              "    array([0.03085019, 0.04119626, 0.04354725, ..., 0.00025543, 0.00023225,\n",
              "           0.00024063]),\n",
              "    array([0.0147543 , 0.01728261, 0.01797579, ..., 0.00023462, 0.00021825,\n",
              "           0.00022976]),\n",
              "    array([0.02017302, 0.02638246, 0.04105839, ..., 0.00019001, 0.00018632,\n",
              "           0.00018788]),\n",
              "    array([3.82897507e-03, 5.76209277e-03, 4.62891015e-03, ...,\n",
              "           8.94343504e-05, 9.03031274e-05, 9.06719993e-05]),\n",
              "    array([0.00925204, 0.00626287, 0.02201212, ..., 0.00018178, 0.00015154,\n",
              "           0.0001666 ]),\n",
              "    array([5.10648434e-03, 6.58482239e-03, 1.45683446e-03, ...,\n",
              "           1.17388753e-04, 9.59609365e-05, 1.06369954e-04]),\n",
              "    array([0.00775819, 0.00250514, 0.00431405, ..., 0.0002152 , 0.0001809 ,\n",
              "           0.00019597]),\n",
              "    array([0.01505069, 0.01541921, 0.01856066, ..., 0.00014081, 0.00011723,\n",
              "           0.00012779])]],\n",
              "  ['./sub-17/eeg/sub-17_task-genMusic03_eeg.edf',\n",
              "   [array([0.02003845, 0.00325419, 0.04269607, ..., 0.00117498, 0.00113055,\n",
              "           0.00112351]),\n",
              "    array([0.0102419 , 0.00928355, 0.03964637, ..., 0.0011578 , 0.00112764,\n",
              "           0.00112938]),\n",
              "    array([2.28203979e-02, 1.56626667e-02, 2.12126392e-02, ...,\n",
              "           9.60592089e-05, 1.22941319e-04, 9.89551621e-05]),\n",
              "    array([0.01397525, 0.01214796, 0.00272658, ..., 0.00010072, 0.00012239,\n",
              "           0.00010139]),\n",
              "    array([6.07520514e-03, 3.68548927e-03, 9.27555286e-03, ...,\n",
              "           3.61660874e-05, 3.92316620e-05, 3.78189328e-05]),\n",
              "    array([0.01114712, 0.00533916, 0.0071786 , ..., 0.00063582, 0.00056176,\n",
              "           0.00056225]),\n",
              "    array([0.00808757, 0.00597376, 0.00237401, ..., 0.00060192, 0.00054449,\n",
              "           0.00052719]),\n",
              "    array([0.01398416, 0.00512675, 0.01854185, ..., 0.00090477, 0.00075867,\n",
              "           0.00071837]),\n",
              "    array([0.01127414, 0.00500715, 0.01282617, ..., 0.00080161, 0.00071601,\n",
              "           0.00071478])]],\n",
              "  ['./sub-17/eeg/sub-17_task-washout_eeg.edf',\n",
              "   [array([0.01532644, 0.03548556, 0.04212679, ..., 0.00101294, 0.00111992,\n",
              "           0.00117947]),\n",
              "    array([0.00487018, 0.03787653, 0.03286578, ..., 0.0011025 , 0.00112553,\n",
              "           0.00116983]),\n",
              "    array([1.96243763e-02, 1.93773969e-02, 1.89760987e-02, ...,\n",
              "           5.41953406e-05, 6.50760823e-05, 5.17060859e-05]),\n",
              "    array([1.93178493e-02, 1.97503890e-02, 7.24606623e-03, ...,\n",
              "           1.46745069e-05, 1.64944113e-05, 1.56765359e-05]),\n",
              "    array([4.79223106e-03, 5.99681034e-03, 5.88361822e-03, ...,\n",
              "           3.68073769e-05, 3.62048171e-05, 3.71408933e-05]),\n",
              "    array([0.00465561, 0.01587446, 0.01532558, ..., 0.00049088, 0.00051291,\n",
              "           0.00053833]),\n",
              "    array([0.01571964, 0.00480767, 0.00484701, ..., 0.00056442, 0.00054557,\n",
              "           0.00055311]),\n",
              "    array([0.00409778, 0.01563602, 0.01909859, ..., 0.00067534, 0.0007552 ,\n",
              "           0.00081007]),\n",
              "    array([0.01308503, 0.01096354, 0.01212199, ..., 0.00080931, 0.00080551,\n",
              "           0.00078204])]],\n",
              "  ['./sub-18/eeg/sub-18_task-classicalMusic_eeg.edf',\n",
              "   [array([0.01430963, 0.02520756, 0.01652419, ..., 0.00134484, 0.00138888,\n",
              "           0.00141299]),\n",
              "    array([0.0139163 , 0.02245491, 0.03968622, ..., 0.00127018, 0.00119945,\n",
              "           0.00119335]),\n",
              "    array([0.00793655, 0.02189085, 0.02355726, ..., 0.01020226, 0.00989555,\n",
              "           0.01000841]),\n",
              "    array([0.05624252, 0.05649542, 0.10774459, ..., 0.0010307 , 0.00103663,\n",
              "           0.00105071]),\n",
              "    array([0.00450903, 0.00586588, 0.00359312, ..., 0.0003988 , 0.00038041,\n",
              "           0.00048382]),\n",
              "    array([0.01071578, 0.01645964, 0.01054632, ..., 0.00083306, 0.00086955,\n",
              "           0.00088911]),\n",
              "    array([0.00732651, 0.00710808, 0.01041271, ..., 0.00071493, 0.00073366,\n",
              "           0.00074007]),\n",
              "    array([0.00654043, 0.01585287, 0.00293576, ..., 0.00087506, 0.00105434,\n",
              "           0.00111559]),\n",
              "    array([0.00278237, 0.01106735, 0.01641162, ..., 0.0008871 , 0.00093466,\n",
              "           0.00096016])]],\n",
              "  ['./sub-18/eeg/sub-18_task-genMusic01_eeg.edf',\n",
              "   [array([0.06215175, 0.01895434, 0.01281541, ..., 0.00019653, 0.00015578,\n",
              "           0.00012761]),\n",
              "    array([0.06900276, 0.02860628, 0.02600475, ..., 0.00027793, 0.00026899,\n",
              "           0.00026984]),\n",
              "    array([2.94030185e-02, 8.01808317e-03, 9.46901266e-03, ...,\n",
              "           7.51795226e-05, 1.21239043e-04, 1.39219211e-04]),\n",
              "    array([3.59391929e-02, 1.95245833e-02, 3.27970097e-02, ...,\n",
              "           1.01640215e-04, 5.46739150e-05, 3.03145304e-05]),\n",
              "    array([9.26695540e-03, 4.71003425e-03, 4.96063783e-03, ...,\n",
              "           1.30214584e-05, 4.43313917e-05, 4.96914356e-05]),\n",
              "    array([9.67915113e-03, 8.23228478e-03, 2.10643701e-03, ...,\n",
              "           6.62461809e-06, 4.09908166e-05, 5.47170058e-05]),\n",
              "    array([1.25100188e-02, 2.87587542e-03, 7.77534341e-03, ...,\n",
              "           8.69390631e-06, 4.74354146e-05, 4.61769131e-05]),\n",
              "    array([2.44558970e-02, 6.75673751e-03, 8.44809115e-03, ...,\n",
              "           5.98729459e-05, 9.85973336e-05, 1.20323095e-04]),\n",
              "    array([0.02065208, 0.01384801, 0.01415466, ..., 0.00011064, 0.00010972,\n",
              "           0.00011713])]],\n",
              "  ['./sub-18/eeg/sub-18_task-genMusic02_eeg.edf',\n",
              "   [array([0.02771297, 0.04544772, 0.01184121, ..., 0.00028895, 0.00027409,\n",
              "           0.00027581]),\n",
              "    array([0.02956933, 0.04405372, 0.0265696 , ..., 0.00134345, 0.00136569,\n",
              "           0.00140642]),\n",
              "    array([1.62911998e-02, 1.32315687e-02, 2.19149173e-02, ...,\n",
              "           5.16736029e-05, 7.09890275e-05, 5.83199895e-05]),\n",
              "    array([1.22661949e-02, 1.41207770e-02, 2.76124591e-02, ...,\n",
              "           1.37238753e-05, 2.02895796e-05, 9.79281584e-06]),\n",
              "    array([6.48784263e-03, 7.13311922e-03, 4.01053208e-03, ...,\n",
              "           1.91581128e-05, 1.77006044e-05, 1.26211058e-05]),\n",
              "    array([0.00740326, 0.00626932, 0.01850509, ..., 0.0008657 , 0.00087254,\n",
              "           0.00089674]),\n",
              "    array([0.01286783, 0.00563582, 0.02118885, ..., 0.00068383, 0.00068918,\n",
              "           0.00070362]),\n",
              "    array([0.00695722, 0.0217972 , 0.00358516, ..., 0.00099693, 0.00100821,\n",
              "           0.00104715]),\n",
              "    array([0.01439866, 0.0154923 , 0.01704462, ..., 0.00091605, 0.00091951,\n",
              "           0.00093306])]],\n",
              "  ['./sub-18/eeg/sub-18_task-genMusic03_eeg.edf',\n",
              "   [array([0.01561223, 0.01187991, 0.04196687, ..., 0.00013098, 0.00011869,\n",
              "           0.00015713]),\n",
              "    array([2.97047137e-02, 3.43497349e-02, 5.74196310e-02, ...,\n",
              "           6.36195841e-05, 4.72732583e-05, 6.20280273e-05]),\n",
              "    array([0.01836826, 0.02333274, 0.02434792, ..., 0.00032501, 0.0003183 ,\n",
              "           0.0003408 ]),\n",
              "    array([0.02432852, 0.03643246, 0.03197045, ..., 0.00022089, 0.00020635,\n",
              "           0.00024363]),\n",
              "    array([4.64674641e-03, 3.70344775e-03, 9.57425255e-03, ...,\n",
              "           7.49933732e-05, 9.15436953e-05, 9.02106810e-05]),\n",
              "    array([6.96347215e-03, 4.75476842e-03, 4.80862582e-03, ...,\n",
              "           5.08919643e-05, 8.80695285e-06, 5.34372052e-05]),\n",
              "    array([6.32658368e-03, 1.81890877e-02, 1.47320819e-02, ...,\n",
              "           6.30058326e-05, 6.26699016e-05, 5.20031697e-05]),\n",
              "    array([0.00741013, 0.00791583, 0.01363365, ..., 0.00017953, 0.00018794,\n",
              "           0.00018139]),\n",
              "    array([1.42226713e-02, 1.83493982e-02, 2.02610057e-02, ...,\n",
              "           6.90559800e-05, 7.30654043e-05, 6.21497361e-05])]],\n",
              "  ['./sub-18/eeg/sub-18_task-washout_eeg.edf',\n",
              "   [array([0.00298554, 0.03208201, 0.01527213, ..., 0.00030917, 0.00031436,\n",
              "           0.00030858]),\n",
              "    array([3.52669834e-03, 2.65127758e-02, 5.23610604e-03, ...,\n",
              "           9.21676483e-05, 9.48106280e-05, 9.21344700e-05]),\n",
              "    array([0.01606598, 0.00436065, 0.00631977, ..., 0.00010327, 0.00010284,\n",
              "           0.00010527]),\n",
              "    array([0.00614756, 0.01505752, 0.01751623, ..., 0.00028449, 0.00028153,\n",
              "           0.00029271]),\n",
              "    array([0.0024039 , 0.00346036, 0.00109553, ..., 0.00018723, 0.00018658,\n",
              "           0.00018599]),\n",
              "    array([0.00723935, 0.00537966, 0.00656369, ..., 0.00013155, 0.00013603,\n",
              "           0.00013128]),\n",
              "    array([1.60657488e-03, 3.80300523e-03, 4.28458948e-03, ...,\n",
              "           6.30578516e-05, 5.89274080e-05, 6.23206147e-05]),\n",
              "    array([0.00646491, 0.01120042, 0.00568871, ..., 0.00019597, 0.00020268,\n",
              "           0.00019697]),\n",
              "    array([7.91820365e-04, 4.31854950e-03, 3.44675106e-03, ...,\n",
              "           1.77760420e-05, 1.27838952e-05, 1.67158345e-05])]],\n",
              "  ['./sub-19/eeg/sub-19_task-classicalMusic_eeg.edf',\n",
              "   [array([0.04596083, 0.0150127 , 0.03873138, ..., 0.00117855, 0.00135896,\n",
              "           0.00124943]),\n",
              "    array([0.01288174, 0.01517912, 0.01560437, ..., 0.00105245, 0.00130988,\n",
              "           0.00111971]),\n",
              "    array([0.07120077, 0.02050874, 0.0377837 , ..., 0.0007347 , 0.00072691,\n",
              "           0.00074384]),\n",
              "    array([3.50835626e-02, 1.69002893e-02, 3.12273134e-02, ...,\n",
              "           6.84667811e-05, 6.70730011e-05, 7.13289600e-05]),\n",
              "    array([6.20747396e-03, 1.84152884e-03, 3.85374121e-03, ...,\n",
              "           2.56609982e-05, 2.44705884e-05, 3.22637617e-05]),\n",
              "    array([0.01974757, 0.00858033, 0.02079387, ..., 0.00076949, 0.00088458,\n",
              "           0.00081534]),\n",
              "    array([3.24674417e-02, 1.84880398e-02, 2.01838749e-02, ...,\n",
              "           5.85358077e-05, 5.15459358e-05, 5.41056264e-05]),\n",
              "    array([0.0319408 , 0.01159334, 0.02774533, ..., 0.00017551, 0.00016226,\n",
              "           0.00015862]),\n",
              "    array([2.28220043e-02, 1.52496889e-02, 1.49738744e-02, ...,\n",
              "           3.94562344e-05, 2.92405944e-05, 3.66836140e-05])]],\n",
              "  ['./sub-19/eeg/sub-19_task-genMusic01_eeg.edf',\n",
              "   [array([0.02213769, 0.01919086, 0.04091677, ..., 0.00034972, 0.00035524,\n",
              "           0.00035684]),\n",
              "    array([0.00210363, 0.01115593, 0.00628253, ..., 0.00032931, 0.00033117,\n",
              "           0.00033396]),\n",
              "    array([0.03318437, 0.0388891 , 0.07000748, ..., 0.00017561, 0.00017739,\n",
              "           0.00017978]),\n",
              "    array([2.97720570e-02, 2.88952118e-02, 5.07439978e-02, ...,\n",
              "           2.63964855e-05, 2.89738504e-05, 3.13832398e-05]),\n",
              "    array([5.00627455e-03, 7.50372151e-03, 2.87787646e-03, ...,\n",
              "           1.71877563e-05, 1.38548884e-05, 1.32576314e-05]),\n",
              "    array([0.01411894, 0.01548092, 0.02805651, ..., 0.00026602, 0.00026635,\n",
              "           0.00026907]),\n",
              "    array([0.01744356, 0.01494557, 0.03180521, ..., 0.00014042, 0.00013888,\n",
              "           0.00014331]),\n",
              "    array([0.02379468, 0.02119991, 0.03740344, ..., 0.00037571, 0.00037581,\n",
              "           0.00037705]),\n",
              "    array([0.01593042, 0.01529296, 0.03033468, ..., 0.00018005, 0.00018208,\n",
              "           0.00018419])]],\n",
              "  ['./sub-19/eeg/sub-19_task-genMusic02_eeg.edf',\n",
              "   [array([0.02550207, 0.02962753, 0.04188675, ..., 0.00129206, 0.00132773,\n",
              "           0.00134464]),\n",
              "    array([0.01745119, 0.01678052, 0.02447808, ..., 0.0010062 , 0.00110279,\n",
              "           0.00108615]),\n",
              "    array([0.0298832 , 0.02166102, 0.04831755, ..., 0.00061163, 0.00066125,\n",
              "           0.00078067]),\n",
              "    array([1.63555375e-02, 1.25255191e-02, 3.43949269e-02, ...,\n",
              "           9.20284432e-05, 9.89895708e-05, 8.95032563e-05]),\n",
              "    array([5.01998950e-03, 1.78952657e-03, 3.43821899e-03, ...,\n",
              "           2.56941923e-05, 2.86306804e-05, 2.73029419e-05]),\n",
              "    array([0.00823644, 0.01323486, 0.02588573, ..., 0.00079392, 0.0008422 ,\n",
              "           0.00092695]),\n",
              "    array([0.01652367, 0.00541998, 0.01463744, ..., 0.00054251, 0.00057112,\n",
              "           0.0006556 ]),\n",
              "    array([0.01737766, 0.01703773, 0.03203155, ..., 0.00100356, 0.00102856,\n",
              "           0.00112074]),\n",
              "    array([0.01190596, 0.0042219 , 0.01177886, ..., 0.0006605 , 0.00070898,\n",
              "           0.00078583])]],\n",
              "  ['./sub-19/eeg/sub-19_task-genMusic03_eeg.edf',\n",
              "   [array([0.03906633, 0.02834199, 0.05488057, ..., 0.00125848, 0.00126718,\n",
              "           0.00147212]),\n",
              "    array([0.00746805, 0.0233893 , 0.02576167, ..., 0.00104037, 0.00105976,\n",
              "           0.00121596]),\n",
              "    array([0.04734841, 0.04121372, 0.04694472, ..., 0.00014315, 0.00013258,\n",
              "           0.00014254]),\n",
              "    array([4.66695877e-02, 3.46272705e-02, 1.98357065e-02, ...,\n",
              "           8.36969760e-05, 8.64299798e-05, 8.00710556e-05]),\n",
              "    array([2.30410917e-03, 3.99116306e-03, 2.63115095e-03, ...,\n",
              "           4.84401312e-05, 5.50137846e-05, 4.20053514e-05]),\n",
              "    array([0.02150141, 0.00530606, 0.02164441, ..., 0.00077216, 0.00078514,\n",
              "           0.00094656]),\n",
              "    array([0.03124775, 0.02322189, 0.01645679, ..., 0.00057095, 0.0004715 ,\n",
              "           0.00060403]),\n",
              "    array([0.03166163, 0.0159913 , 0.03337556, ..., 0.00096496, 0.00097156,\n",
              "           0.00115636]),\n",
              "    array([0.03077695, 0.01917176, 0.01309079, ..., 0.00070243, 0.00070303,\n",
              "           0.00083129])]],\n",
              "  ['./sub-19/eeg/sub-19_task-washout_eeg.edf',\n",
              "   [array([0.0303558 , 0.01552699, 0.01363813, ..., 0.00107313, 0.00112335,\n",
              "           0.00122717]),\n",
              "    array([0.02583734, 0.00794939, 0.02821198, ..., 0.00088648, 0.00094881,\n",
              "           0.00107103]),\n",
              "    array([2.89168503e-02, 1.66979918e-02, 2.57723418e-02, ...,\n",
              "           1.13451286e-04, 9.95316191e-05, 1.13384662e-04]),\n",
              "    array([8.14176366e-03, 9.59139104e-03, 2.57812628e-02, ...,\n",
              "           4.58354897e-05, 3.74663334e-05, 5.01486736e-05]),\n",
              "    array([0.00553201, 0.00241129, 0.00312598, ..., 0.00024427, 0.00024041,\n",
              "           0.00023644]),\n",
              "    array([0.00966535, 0.01497602, 0.00509307, ..., 0.0007406 , 0.00078937,\n",
              "           0.00090885]),\n",
              "    array([0.00307136, 0.00122831, 0.02085487, ..., 0.00056274, 0.00047209,\n",
              "           0.0006787 ]),\n",
              "    array([0.0213044 , 0.01654649, 0.0126833 , ..., 0.0009338 , 0.000955  ,\n",
              "           0.00104855]),\n",
              "    array([0.00451933, 0.00373948, 0.01856758, ..., 0.00070623, 0.00070658,\n",
              "           0.00073254])]],\n",
              "  ['./sub-20/eeg/sub-20_task-classicalMusic_eeg.edf',\n",
              "   [array([0.03619304, 0.03668026, 0.02086819, ..., 0.00015424, 0.00017549,\n",
              "           0.0001499 ]),\n",
              "    array([0.02930218, 0.01729848, 0.05364982, ..., 0.00012652, 0.00014265,\n",
              "           0.00012585]),\n",
              "    array([0.02522538, 0.04354613, 0.06924763, ..., 0.00019431, 0.00020094,\n",
              "           0.00019316]),\n",
              "    array([2.48412375e-02, 5.73021273e-02, 1.07923793e-01, ...,\n",
              "           2.82508356e-05, 2.31776669e-05, 2.30019831e-05]),\n",
              "    array([3.16244071e-03, 3.88632025e-03, 7.89502135e-03, ...,\n",
              "           2.54125978e-05, 2.45274524e-05, 3.15045035e-05]),\n",
              "    array([1.03072385e-02, 3.17703697e-02, 3.31547632e-02, ...,\n",
              "           6.82319152e-05, 8.62357150e-05, 6.65490350e-05]),\n",
              "    array([7.33622373e-03, 1.34253463e-02, 5.44874798e-02, ...,\n",
              "           3.30650071e-05, 4.50549204e-05, 3.39365861e-05]),\n",
              "    array([0.03860629, 0.05527907, 0.05140991, ..., 0.00154587, 0.00150581,\n",
              "           0.00152854]),\n",
              "    array([8.75471975e-03, 1.42949159e-02, 5.33639834e-02, ...,\n",
              "           3.30559511e-05, 4.47547535e-05, 3.83133295e-05])]],\n",
              "  ['./sub-20/eeg/sub-20_task-genMusic01_eeg.edf',\n",
              "   [array([0.00655412, 0.03107865, 0.01457727, ..., 0.00029767, 0.00028688,\n",
              "           0.00029191]),\n",
              "    array([0.01602199, 0.0037971 , 0.01561902, ..., 0.00018493, 0.00017688,\n",
              "           0.00018177]),\n",
              "    array([0.01138995, 0.04535762, 0.00782956, ..., 0.00024047, 0.00022869,\n",
              "           0.00023239]),\n",
              "    array([1.86403334e-02, 3.36850346e-02, 1.10862227e-02, ...,\n",
              "           4.48983869e-05, 4.75810505e-05, 4.53143411e-05]),\n",
              "    array([0.00568978, 0.00194949, 0.00638883, ..., 0.00011288, 0.00011705,\n",
              "           0.00011516]),\n",
              "    array([0.00358956, 0.02437492, 0.00402869, ..., 0.00015718, 0.0001455 ,\n",
              "           0.00015518]),\n",
              "    array([1.02337435e-02, 1.67710439e-02, 4.79139347e-03, ...,\n",
              "           8.99281982e-05, 8.35144659e-05, 8.32916689e-05]),\n",
              "    array([0.00220509, 0.02879352, 0.00712077, ..., 0.00019743, 0.00018376,\n",
              "           0.00019238]),\n",
              "    array([0.01437344, 0.01631093, 0.01161976, ..., 0.00010576, 0.00010007,\n",
              "           0.00010187])]],\n",
              "  ['./sub-20/eeg/sub-20_task-genMusic02_eeg.edf',\n",
              "   [array([1.88514499e-01, 1.70203546e-01, 1.89751095e-01, ...,\n",
              "           9.94000657e-05, 1.17491834e-04, 9.13129579e-05]),\n",
              "    array([0.09622878, 0.02733845, 0.12709683, ..., 0.00164629, 0.0015733 ,\n",
              "           0.00109562]),\n",
              "    array([3.48667163e-01, 2.52848889e-01, 3.84948449e-01, ...,\n",
              "           6.52245984e-05, 5.30850569e-05, 6.42044373e-05]),\n",
              "    array([3.06730196e-01, 2.07056431e-01, 3.66599070e-01, ...,\n",
              "           3.06084865e-04, 3.10245714e-04, 3.11152919e-04]),\n",
              "    array([0.01264601, 0.02660677, 0.01269227, ..., 0.00017305, 0.00016199,\n",
              "           0.00015843]),\n",
              "    array([1.81280701e-01, 1.12296210e-01, 2.22140487e-01, ...,\n",
              "           2.12867149e-04, 2.20487123e-04, 1.87469203e-04]),\n",
              "    array([2.08569052e-01, 1.60439064e-01, 2.11497435e-01, ...,\n",
              "           1.67138642e-04, 1.76255706e-04, 1.64005897e-04]),\n",
              "    array([0.24839396, 0.21324969, 0.20648544, ..., 0.00088782, 0.00082564,\n",
              "           0.00072464]),\n",
              "    array([0.16949926, 0.11126071, 0.17280599, ..., 0.00020146, 0.00021214,\n",
              "           0.00020039])]],\n",
              "  ['./sub-20/eeg/sub-20_task-genMusic03_eeg.edf',\n",
              "   [array([0.03554524, 0.05020761, 0.0559146 , ..., 0.00011085, 0.00012401,\n",
              "           0.00010679]),\n",
              "    array([0.02406111, 0.04237734, 0.02392838, ..., 0.00029482, 0.0002946 ,\n",
              "           0.00028108]),\n",
              "    array([0.05294371, 0.0976187 , 0.03915201, ..., 0.00010017, 0.00010005,\n",
              "           0.00011698]),\n",
              "    array([0.04245301, 0.09607825, 0.02046284, ..., 0.00016742, 0.000143  ,\n",
              "           0.00016592]),\n",
              "    array([4.77422234e-03, 6.49753725e-03, 7.09836450e-03, ...,\n",
              "           7.40103251e-05, 7.60326977e-05, 7.96064388e-05]),\n",
              "    array([3.76185737e-02, 5.14963127e-02, 2.33972290e-02, ...,\n",
              "           6.76417353e-05, 4.74181454e-05, 2.27375789e-05]),\n",
              "    array([0.01823942, 0.05228615, 0.00772197, ..., 0.00015988, 0.00018912,\n",
              "           0.0001539 ]),\n",
              "    array([0.03608399, 0.0649558 , 0.04027415, ..., 0.00012437, 0.00014453,\n",
              "           0.00015521]),\n",
              "    array([0.01886797, 0.05944062, 0.00672966, ..., 0.00012008, 0.00016529,\n",
              "           0.00015504])]],\n",
              "  ['./sub-20/eeg/sub-20_task-washout_eeg.edf',\n",
              "   [array([0.02865766, 0.02482052, 0.03177805, ..., 0.0012084 , 0.00126335,\n",
              "           0.00123691]),\n",
              "    array([0.0103654 , 0.00766141, 0.00667309, ..., 0.00118407, 0.00122618,\n",
              "           0.00122314]),\n",
              "    array([0.03101648, 0.03383791, 0.03236657, ..., 0.0001819 , 0.00019491,\n",
              "           0.00019288]),\n",
              "    array([0.03296552, 0.03722844, 0.03037294, ..., 0.00017841, 0.0001748 ,\n",
              "           0.00017174]),\n",
              "    array([4.50232598e-03, 2.52018766e-03, 4.13922861e-03, ...,\n",
              "           1.35078971e-05, 3.18322280e-05, 3.04149064e-05]),\n",
              "    array([0.01263983, 0.02502496, 0.02459454, ..., 0.00092599, 0.00095005,\n",
              "           0.00094586]),\n",
              "    array([0.0274806 , 0.01377336, 0.01367392, ..., 0.00022316, 0.00020239,\n",
              "           0.00020011]),\n",
              "    array([2.38682416e-02, 3.87045628e-02, 2.93330394e-02, ...,\n",
              "           6.73376410e-05, 7.79331230e-05, 1.57589171e-04]),\n",
              "    array([0.01516178, 0.01424387, 0.00617018, ..., 0.00099901, 0.00100888,\n",
              "           0.00099675])]],\n",
              "  ['./sub-21/eeg/sub-21_task-classicalMusic_eeg.edf',\n",
              "   [array([5.36652894e-02, 1.18781990e-02, 5.20372996e-02, ...,\n",
              "           9.12416148e-05, 9.52912798e-05, 1.04847334e-04]),\n",
              "    array([0.05782157, 0.02427556, 0.07915938, ..., 0.00013269, 0.00013827,\n",
              "           0.00014139]),\n",
              "    array([6.16561966e-02, 2.67074116e-02, 3.41177165e-02, ...,\n",
              "           8.12600236e-05, 8.36466196e-05, 7.47390404e-05]),\n",
              "    array([0.05734632, 0.03617501, 0.07358679, ..., 0.00017467, 0.00017698,\n",
              "           0.00017267]),\n",
              "    array([1.34140349e-02, 3.79162129e-03, 9.51520849e-03, ...,\n",
              "           6.28292381e-05, 6.71672593e-05, 5.66686476e-05]),\n",
              "    array([4.13627576e-02, 3.34277303e-02, 3.16711753e-02, ...,\n",
              "           7.78093700e-05, 7.60686381e-05, 6.75876637e-05]),\n",
              "    array([0.03075954, 0.01641716, 0.03629851, ..., 0.00025092, 0.00025282,\n",
              "           0.00025647]),\n",
              "    array([0.03941395, 0.02137562, 0.02554497, ..., 0.00111904, 0.00101597,\n",
              "           0.00112057]),\n",
              "    array([0.03181837, 0.02119659, 0.04531595, ..., 0.00091787, 0.00079377,\n",
              "           0.0006657 ])]],\n",
              "  ['./sub-21/eeg/sub-21_task-genMusic01_eeg.edf',\n",
              "   [array([0.02409926, 0.03234041, 0.06059877, ..., 0.0013134 , 0.00132409,\n",
              "           0.00136714]),\n",
              "    array([0.01677666, 0.02562889, 0.06500577, ..., 0.00121539, 0.0012212 ,\n",
              "           0.0012678 ]),\n",
              "    array([2.44335134e-02, 2.13372968e-02, 4.16703924e-02, ...,\n",
              "           6.55527702e-05, 6.37181969e-05, 4.59812982e-05]),\n",
              "    array([1.61860114e-02, 1.25052885e-02, 5.73907330e-02, ...,\n",
              "           7.24742111e-05, 8.68693809e-05, 9.24026288e-05]),\n",
              "    array([1.74441777e-03, 5.02456353e-03, 1.06410759e-02, ...,\n",
              "           4.05018204e-05, 2.66131315e-05, 3.12005968e-05]),\n",
              "    array([1.19152677e-02, 1.58808519e-02, 1.11223489e-02, ...,\n",
              "           5.48819202e-05, 5.80413095e-05, 9.09458380e-05]),\n",
              "    array([0.01399649, 0.02043273, 0.03378643, ..., 0.00020287, 0.00019798,\n",
              "           0.00017922]),\n",
              "    array([0.01378969, 0.01323508, 0.02484937, ..., 0.00105675, 0.00109991,\n",
              "           0.00094952]),\n",
              "    array([0.01809618, 0.01414164, 0.03679784, ..., 0.00070298, 0.00078436,\n",
              "           0.00069376])]],\n",
              "  ['./sub-21/eeg/sub-21_task-genMusic02_eeg.edf',\n",
              "   [array([0.02558607, 0.03743634, 0.03029753, ..., 0.00143674, 0.00142672,\n",
              "           0.00142973]),\n",
              "    array([0.04528237, 0.01946602, 0.02616144, ..., 0.00126647, 0.00124757,\n",
              "           0.00123757]),\n",
              "    array([4.99159488e-02, 7.49047935e-02, 4.20343696e-02, ...,\n",
              "           2.71331394e-05, 4.25178501e-05, 1.84057135e-05]),\n",
              "    array([0.06848899, 0.07817825, 0.03071599, ..., 0.00012667, 0.00012816,\n",
              "           0.00013069]),\n",
              "    array([1.03078875e-02, 5.27633000e-03, 6.13138913e-03, ...,\n",
              "           3.68476639e-05, 3.21075630e-05, 3.74544659e-05]),\n",
              "    array([0.03530406, 0.0461473 , 0.02219349, ..., 0.00095084, 0.00096562,\n",
              "           0.00103461]),\n",
              "    array([0.03619773, 0.0352502 , 0.02282587, ..., 0.00011494, 0.00012641,\n",
              "           0.00010635]),\n",
              "    array([0.02790785, 0.04815085, 0.02200129, ..., 0.00116265, 0.00113841,\n",
              "           0.001048  ]),\n",
              "    array([0.03822985, 0.03237871, 0.0118974 , ..., 0.00081879, 0.00080832,\n",
              "           0.00080368])]],\n",
              "  ['./sub-21/eeg/sub-21_task-genMusic03_eeg.edf',\n",
              "   [array([0.04785027, 0.0636284 , 0.02271196, ..., 0.00138987, 0.0014396 ,\n",
              "           0.00140939]),\n",
              "    array([4.17966537e-02, 5.02907407e-02, 3.77573804e-02, ...,\n",
              "           7.41553072e-05, 9.72329129e-05, 6.00934489e-05]),\n",
              "    array([8.72982001e-02, 4.47950214e-02, 2.26759309e-02, ...,\n",
              "           8.28941136e-05, 1.00446376e-04, 6.56059854e-05]),\n",
              "    array([9.99606296e-02, 1.16155288e-02, 2.59108043e-02, ...,\n",
              "           3.35316821e-05, 2.30847355e-05, 6.87370977e-06]),\n",
              "    array([6.57345823e-03, 1.07172638e-02, 4.03323040e-03, ...,\n",
              "           3.22692554e-05, 2.19544412e-05, 9.45623812e-06]),\n",
              "    array([0.0459538 , 0.01620912, 0.0226066 , ..., 0.00108783, 0.00110206,\n",
              "           0.00112639]),\n",
              "    array([0.04846309, 0.00127539, 0.01444482, ..., 0.00027648, 0.00028152,\n",
              "           0.00025551]),\n",
              "    array([0.0482856 , 0.03610519, 0.02144209, ..., 0.0011388 , 0.00112451,\n",
              "           0.00109179]),\n",
              "    array([4.88664495e-02, 6.18708822e-03, 1.26790714e-02, ...,\n",
              "           9.07967179e-05, 9.63085583e-05, 7.30093219e-05])]],\n",
              "  ['./sub-21/eeg/sub-21_task-washout_eeg.edf',\n",
              "   [array([0.03834638, 0.06112986, 0.04011622, ..., 0.00116634, 0.00114058,\n",
              "           0.0011857 ]),\n",
              "    array([3.35420256e-02, 6.80486299e-02, 3.60102363e-02, ...,\n",
              "           1.71315379e-05, 4.09164819e-05, 4.37679360e-05]),\n",
              "    array([4.21417629e-02, 1.76834904e-02, 2.59942100e-02, ...,\n",
              "           3.14419211e-05, 2.75646568e-05, 1.04581675e-05]),\n",
              "    array([0.05211359, 0.01911844, 0.02186469, ..., 0.00017552, 0.00015587,\n",
              "           0.0001606 ]),\n",
              "    array([0.00696668, 0.00988763, 0.00169159, ..., 0.0002923 , 0.00028996,\n",
              "           0.0003877 ]),\n",
              "    array([0.02148332, 0.00282761, 0.00867665, ..., 0.00077545, 0.00086379,\n",
              "           0.00082222]),\n",
              "    array([0.01556377, 0.01883623, 0.01147112, ..., 0.00037366, 0.00034035,\n",
              "           0.00032874]),\n",
              "    array([2.47464816e-02, 2.29483643e-02, 1.92951402e-02, ...,\n",
              "           1.40842118e-04, 1.26546686e-04, 9.80030390e-05]),\n",
              "    array([0.01607974, 0.01872298, 0.01050895, ..., 0.00064339, 0.00092579,\n",
              "           0.00084016])]]],\n",
              " 'frequencies': array([ 4.05,  4.1 ,  4.15, ..., 99.85, 99.9 , 99.95])}"
            ]
          },
          "metadata": {
            "tags": []
          },
          "execution_count": 136
        }
      ]
    },
    {
      "cell_type": "code",
      "metadata": {
        "id": "O5I0r2mP3vVc",
        "outputId": "f6c1b299-cf3a-42c7-9f38-a161d1c3c605"
      },
      "source": [
        "for channel in freq_spectra:\n",
        "    plt.yscale('log')\n",
        "    plt.xscale('log')\n",
        "    plt.plot(xf[0], np.abs(channel))\n",
        "    plt.show()"
      ],
      "execution_count": null,
      "outputs": [
        {
          "output_type": "display_data",
          "data": {
            "image/png": "[encoded data removed]",
            "text/plain": [
              "<Figure size 432x288 with 1 Axes>"
            ]
          },
          "metadata": {
            "tags": [],
            "needs_background": "light"
          }
        },
        {
          "output_type": "display_data",
          "data": {
            "image/png": "[encoded data removed]",
            "text/plain": [
              "<Figure size 432x288 with 1 Axes>"
            ]
          },
          "metadata": {
            "tags": [],
            "needs_background": "light"
          }
        },
        {
          "output_type": "display_data",
          "data": {
            "image/png": "[encoded data removed]",
            "text/plain": [
              "<Figure size 432x288 with 1 Axes>"
            ]
          },
          "metadata": {
            "tags": [],
            "needs_background": "light"
          }
        },
        {
          "output_type": "display_data",
          "data": {
            "image/png": "[encoded data removed]",
            "text/plain": [
              "<Figure size 432x288 with 1 Axes>"
            ]
          },
          "metadata": {
            "tags": [],
            "needs_background": "light"
          }
        },
        {
          "output_type": "display_data",
          "data": {
            "image/png": "[encoded data removed]",
            "text/plain": [
              "<Figure size 432x288 with 1 Axes>"
            ]
          },
          "metadata": {
            "tags": [],
            "needs_background": "light"
          }
        },
        {
          "output_type": "display_data",
          "data": {
            "image/png": "[encoded data removed]",
            "text/plain": [
              "<Figure size 432x288 with 1 Axes>"
            ]
          },
          "metadata": {
            "tags": [],
            "needs_background": "light"
          }
        },
        {
          "output_type": "display_data",
          "data": {
            "image/png": "[encoded data removed]",
            "text/plain": [
              "<Figure size 432x288 with 1 Axes>"
            ]
          },
          "metadata": {
            "tags": [],
            "needs_background": "light"
          }
        },
        {
          "output_type": "display_data",
          "data": {
            "image/png": "[encoded data removed]",
            "text/plain": [
              "<Figure size 432x288 with 1 Axes>"
            ]
          },
          "metadata": {
            "tags": [],
            "needs_background": "light"
          }
        },
        {
          "output_type": "display_data",
          "data": {
            "image/png": "[encoded data removed]",
            "text/plain": [
              "<Figure size 432x288 with 1 Axes>"
            ]
          },
          "metadata": {
            "tags": [],
            "needs_background": "light"
          }
        }
      ]
    },
    {
      "cell_type": "code",
      "metadata": {
        "id": "l37cCcXR3vVd"
      },
      "source": [
        ""
      ],
      "execution_count": null,
      "outputs": []
    }
  ]
}